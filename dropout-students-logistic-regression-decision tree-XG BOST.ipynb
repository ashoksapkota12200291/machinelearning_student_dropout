{
 "cells": [
  {
   "cell_type": "code",
   "execution_count": 1,
   "id": "8f5070d8",
   "metadata": {
    "_cell_guid": "b1076dfc-b9ad-4769-8c92-a6c4dae69d19",
    "_uuid": "8f2839f25d086af736a60e9eeb907d3b93b6e0e5",
    "execution": {
     "iopub.execute_input": "2023-08-02T20:43:09.895435Z",
     "iopub.status.busy": "2023-08-02T20:43:09.894941Z",
     "iopub.status.idle": "2023-08-02T20:43:11.453812Z",
     "shell.execute_reply": "2023-08-02T20:43:11.452353Z"
    },
    "papermill": {
     "duration": 1.580213,
     "end_time": "2023-08-02T20:43:11.456665",
     "exception": false,
     "start_time": "2023-08-02T20:43:09.876452",
     "status": "completed"
    },
    "tags": []
   },
   "outputs": [],
   "source": [
    "# This Python 3 environment comes with many helpful analytics libraries installed\n",
    "# It is defined by the kaggle/python Docker image: https://github.com/kaggle/docker-python\n",
    "# For example, here's several helpful packages to load\n",
    "\n",
    "import numpy as np # linear algebra\n",
    "import pandas as pd # data processing, CSV file I/O (e.g. pd.read_csv)\n",
    "import matplotlib.pyplot as plt\n",
    "import seaborn as sns\n",
    "%matplotlib inline\n",
    "\n",
    "# Input data files are available in the read-only \"../input/\" directory\n",
    "# For example, running this (by clicking run or pressing Shift+Enter) will list all files under the input directory\n",
    "\n",
    "import os\n",
    "for dirname, _, filenames in os.walk('/kaggle/input'):\n",
    "    for filename in filenames:\n",
    "        print(os.path.join(dirname, filename))\n",
    "\n",
    "# You can write up to 20GB to the current directory (/kaggle/working/) that gets preserved as output when you create a version using \"Save & Run All\" \n",
    "# You can also write temporary files to /kaggle/temp/, but they won't be saved outside of the current session"
   ]
  },
  {
   "cell_type": "code",
   "execution_count": 2,
   "id": "d63d04a5",
   "metadata": {},
   "outputs": [],
   "source": [
    "import numpy as np # linear algebra\n",
    "import pandas as pd # data processing, CSV file I/O (e.g. pd.read_csv)\n",
    "import matplotlib.pyplot as plt\n",
    "import seaborn as sns\n",
    "%matplotlib inline"
   ]
  },
  {
   "cell_type": "code",
   "execution_count": 1,
   "id": "d5a16efd",
   "metadata": {},
   "outputs": [
    {
     "data": {
      "text/plain": [
       "'C:\\\\Users\\\\smart'"
      ]
     },
     "execution_count": 1,
     "metadata": {},
     "output_type": "execute_result"
    }
   ],
   "source": [
    "import os\n",
    "os.getcwd()"
   ]
  },
  {
   "cell_type": "markdown",
   "id": "9a49a511",
   "metadata": {
    "papermill": {
     "duration": 0.017922,
     "end_time": "2023-08-02T20:43:11.490872",
     "exception": false,
     "start_time": "2023-08-02T20:43:11.472950",
     "status": "completed"
    },
    "tags": []
   },
   "source": [
    "# **Import data and prepare data**"
   ]
  },
  {
   "cell_type": "code",
   "execution_count": 3,
   "id": "f2542054",
   "metadata": {
    "execution": {
     "iopub.execute_input": "2023-08-02T20:43:11.524297Z",
     "iopub.status.busy": "2023-08-02T20:43:11.523869Z",
     "iopub.status.idle": "2023-08-02T20:43:11.578587Z",
     "shell.execute_reply": "2023-08-02T20:43:11.577620Z"
    },
    "papermill": {
     "duration": 0.074772,
     "end_time": "2023-08-02T20:43:11.581461",
     "exception": false,
     "start_time": "2023-08-02T20:43:11.506689",
     "status": "completed"
    },
    "tags": []
   },
   "outputs": [],
   "source": [
    "df=pd.read_csv(\"data.csv\")"
   ]
  },
  {
   "cell_type": "code",
   "execution_count": 4,
   "id": "0b12f24c",
   "metadata": {
    "execution": {
     "iopub.execute_input": "2023-08-02T20:43:11.616407Z",
     "iopub.status.busy": "2023-08-02T20:43:11.614998Z",
     "iopub.status.idle": "2023-08-02T20:43:11.654260Z",
     "shell.execute_reply": "2023-08-02T20:43:11.653133Z"
    },
    "papermill": {
     "duration": 0.059551,
     "end_time": "2023-08-02T20:43:11.657386",
     "exception": false,
     "start_time": "2023-08-02T20:43:11.597835",
     "status": "completed"
    },
    "tags": []
   },
   "outputs": [
    {
     "data": {
      "text/html": [
       "<div>\n",
       "<style scoped>\n",
       "    .dataframe tbody tr th:only-of-type {\n",
       "        vertical-align: middle;\n",
       "    }\n",
       "\n",
       "    .dataframe tbody tr th {\n",
       "        vertical-align: top;\n",
       "    }\n",
       "\n",
       "    .dataframe thead th {\n",
       "        text-align: right;\n",
       "    }\n",
       "</style>\n",
       "<table border=\"1\" class=\"dataframe\">\n",
       "  <thead>\n",
       "    <tr style=\"text-align: right;\">\n",
       "      <th></th>\n",
       "      <th>Marital status</th>\n",
       "      <th>Application mode</th>\n",
       "      <th>Application order</th>\n",
       "      <th>Course</th>\n",
       "      <th>Daytime/evening attendance</th>\n",
       "      <th>Previous qualification</th>\n",
       "      <th>Nacionality</th>\n",
       "      <th>Mother's qualification</th>\n",
       "      <th>Father's qualification</th>\n",
       "      <th>Mother's occupation</th>\n",
       "      <th>...</th>\n",
       "      <th>Curricular units 2nd sem (credited)</th>\n",
       "      <th>Curricular units 2nd sem (enrolled)</th>\n",
       "      <th>Curricular units 2nd sem (evaluations)</th>\n",
       "      <th>Curricular units 2nd sem (approved)</th>\n",
       "      <th>Curricular units 2nd sem (grade)</th>\n",
       "      <th>Curricular units 2nd sem (without evaluations)</th>\n",
       "      <th>Unemployment rate</th>\n",
       "      <th>Inflation rate</th>\n",
       "      <th>GDP</th>\n",
       "      <th>Target</th>\n",
       "    </tr>\n",
       "  </thead>\n",
       "  <tbody>\n",
       "    <tr>\n",
       "      <th>0</th>\n",
       "      <td>1</td>\n",
       "      <td>8</td>\n",
       "      <td>5</td>\n",
       "      <td>2</td>\n",
       "      <td>1</td>\n",
       "      <td>1</td>\n",
       "      <td>1</td>\n",
       "      <td>13</td>\n",
       "      <td>10</td>\n",
       "      <td>6</td>\n",
       "      <td>...</td>\n",
       "      <td>0</td>\n",
       "      <td>0</td>\n",
       "      <td>0</td>\n",
       "      <td>0</td>\n",
       "      <td>0.000000</td>\n",
       "      <td>0</td>\n",
       "      <td>10.8</td>\n",
       "      <td>1.4</td>\n",
       "      <td>1.74</td>\n",
       "      <td>Dropout</td>\n",
       "    </tr>\n",
       "    <tr>\n",
       "      <th>1</th>\n",
       "      <td>1</td>\n",
       "      <td>6</td>\n",
       "      <td>1</td>\n",
       "      <td>11</td>\n",
       "      <td>1</td>\n",
       "      <td>1</td>\n",
       "      <td>1</td>\n",
       "      <td>1</td>\n",
       "      <td>3</td>\n",
       "      <td>4</td>\n",
       "      <td>...</td>\n",
       "      <td>0</td>\n",
       "      <td>6</td>\n",
       "      <td>6</td>\n",
       "      <td>6</td>\n",
       "      <td>13.666667</td>\n",
       "      <td>0</td>\n",
       "      <td>13.9</td>\n",
       "      <td>-0.3</td>\n",
       "      <td>0.79</td>\n",
       "      <td>Graduate</td>\n",
       "    </tr>\n",
       "    <tr>\n",
       "      <th>2</th>\n",
       "      <td>1</td>\n",
       "      <td>1</td>\n",
       "      <td>5</td>\n",
       "      <td>5</td>\n",
       "      <td>1</td>\n",
       "      <td>1</td>\n",
       "      <td>1</td>\n",
       "      <td>22</td>\n",
       "      <td>27</td>\n",
       "      <td>10</td>\n",
       "      <td>...</td>\n",
       "      <td>0</td>\n",
       "      <td>6</td>\n",
       "      <td>0</td>\n",
       "      <td>0</td>\n",
       "      <td>0.000000</td>\n",
       "      <td>0</td>\n",
       "      <td>10.8</td>\n",
       "      <td>1.4</td>\n",
       "      <td>1.74</td>\n",
       "      <td>Dropout</td>\n",
       "    </tr>\n",
       "    <tr>\n",
       "      <th>3</th>\n",
       "      <td>1</td>\n",
       "      <td>8</td>\n",
       "      <td>2</td>\n",
       "      <td>15</td>\n",
       "      <td>1</td>\n",
       "      <td>1</td>\n",
       "      <td>1</td>\n",
       "      <td>23</td>\n",
       "      <td>27</td>\n",
       "      <td>6</td>\n",
       "      <td>...</td>\n",
       "      <td>0</td>\n",
       "      <td>6</td>\n",
       "      <td>10</td>\n",
       "      <td>5</td>\n",
       "      <td>12.400000</td>\n",
       "      <td>0</td>\n",
       "      <td>9.4</td>\n",
       "      <td>-0.8</td>\n",
       "      <td>-3.12</td>\n",
       "      <td>Graduate</td>\n",
       "    </tr>\n",
       "    <tr>\n",
       "      <th>4</th>\n",
       "      <td>2</td>\n",
       "      <td>12</td>\n",
       "      <td>1</td>\n",
       "      <td>3</td>\n",
       "      <td>0</td>\n",
       "      <td>1</td>\n",
       "      <td>1</td>\n",
       "      <td>22</td>\n",
       "      <td>28</td>\n",
       "      <td>10</td>\n",
       "      <td>...</td>\n",
       "      <td>0</td>\n",
       "      <td>6</td>\n",
       "      <td>6</td>\n",
       "      <td>6</td>\n",
       "      <td>13.000000</td>\n",
       "      <td>0</td>\n",
       "      <td>13.9</td>\n",
       "      <td>-0.3</td>\n",
       "      <td>0.79</td>\n",
       "      <td>Graduate</td>\n",
       "    </tr>\n",
       "    <tr>\n",
       "      <th>5</th>\n",
       "      <td>2</td>\n",
       "      <td>12</td>\n",
       "      <td>1</td>\n",
       "      <td>17</td>\n",
       "      <td>0</td>\n",
       "      <td>12</td>\n",
       "      <td>1</td>\n",
       "      <td>22</td>\n",
       "      <td>27</td>\n",
       "      <td>10</td>\n",
       "      <td>...</td>\n",
       "      <td>0</td>\n",
       "      <td>5</td>\n",
       "      <td>17</td>\n",
       "      <td>5</td>\n",
       "      <td>11.500000</td>\n",
       "      <td>5</td>\n",
       "      <td>16.2</td>\n",
       "      <td>0.3</td>\n",
       "      <td>-0.92</td>\n",
       "      <td>Graduate</td>\n",
       "    </tr>\n",
       "    <tr>\n",
       "      <th>6</th>\n",
       "      <td>1</td>\n",
       "      <td>1</td>\n",
       "      <td>1</td>\n",
       "      <td>12</td>\n",
       "      <td>1</td>\n",
       "      <td>1</td>\n",
       "      <td>1</td>\n",
       "      <td>13</td>\n",
       "      <td>28</td>\n",
       "      <td>8</td>\n",
       "      <td>...</td>\n",
       "      <td>0</td>\n",
       "      <td>8</td>\n",
       "      <td>8</td>\n",
       "      <td>8</td>\n",
       "      <td>14.345000</td>\n",
       "      <td>0</td>\n",
       "      <td>15.5</td>\n",
       "      <td>2.8</td>\n",
       "      <td>-4.06</td>\n",
       "      <td>Graduate</td>\n",
       "    </tr>\n",
       "    <tr>\n",
       "      <th>7</th>\n",
       "      <td>1</td>\n",
       "      <td>9</td>\n",
       "      <td>4</td>\n",
       "      <td>11</td>\n",
       "      <td>1</td>\n",
       "      <td>1</td>\n",
       "      <td>1</td>\n",
       "      <td>22</td>\n",
       "      <td>27</td>\n",
       "      <td>10</td>\n",
       "      <td>...</td>\n",
       "      <td>0</td>\n",
       "      <td>5</td>\n",
       "      <td>5</td>\n",
       "      <td>0</td>\n",
       "      <td>0.000000</td>\n",
       "      <td>0</td>\n",
       "      <td>15.5</td>\n",
       "      <td>2.8</td>\n",
       "      <td>-4.06</td>\n",
       "      <td>Dropout</td>\n",
       "    </tr>\n",
       "    <tr>\n",
       "      <th>8</th>\n",
       "      <td>1</td>\n",
       "      <td>1</td>\n",
       "      <td>3</td>\n",
       "      <td>10</td>\n",
       "      <td>1</td>\n",
       "      <td>1</td>\n",
       "      <td>15</td>\n",
       "      <td>1</td>\n",
       "      <td>1</td>\n",
       "      <td>10</td>\n",
       "      <td>...</td>\n",
       "      <td>0</td>\n",
       "      <td>6</td>\n",
       "      <td>7</td>\n",
       "      <td>6</td>\n",
       "      <td>14.142857</td>\n",
       "      <td>0</td>\n",
       "      <td>16.2</td>\n",
       "      <td>0.3</td>\n",
       "      <td>-0.92</td>\n",
       "      <td>Graduate</td>\n",
       "    </tr>\n",
       "    <tr>\n",
       "      <th>9</th>\n",
       "      <td>1</td>\n",
       "      <td>1</td>\n",
       "      <td>1</td>\n",
       "      <td>10</td>\n",
       "      <td>1</td>\n",
       "      <td>1</td>\n",
       "      <td>1</td>\n",
       "      <td>1</td>\n",
       "      <td>14</td>\n",
       "      <td>5</td>\n",
       "      <td>...</td>\n",
       "      <td>0</td>\n",
       "      <td>6</td>\n",
       "      <td>14</td>\n",
       "      <td>2</td>\n",
       "      <td>13.500000</td>\n",
       "      <td>0</td>\n",
       "      <td>8.9</td>\n",
       "      <td>1.4</td>\n",
       "      <td>3.51</td>\n",
       "      <td>Dropout</td>\n",
       "    </tr>\n",
       "    <tr>\n",
       "      <th>10</th>\n",
       "      <td>1</td>\n",
       "      <td>1</td>\n",
       "      <td>1</td>\n",
       "      <td>14</td>\n",
       "      <td>1</td>\n",
       "      <td>1</td>\n",
       "      <td>1</td>\n",
       "      <td>23</td>\n",
       "      <td>14</td>\n",
       "      <td>6</td>\n",
       "      <td>...</td>\n",
       "      <td>0</td>\n",
       "      <td>6</td>\n",
       "      <td>7</td>\n",
       "      <td>5</td>\n",
       "      <td>14.200000</td>\n",
       "      <td>0</td>\n",
       "      <td>13.9</td>\n",
       "      <td>-0.3</td>\n",
       "      <td>0.79</td>\n",
       "      <td>Graduate</td>\n",
       "    </tr>\n",
       "    <tr>\n",
       "      <th>11</th>\n",
       "      <td>1</td>\n",
       "      <td>1</td>\n",
       "      <td>1</td>\n",
       "      <td>12</td>\n",
       "      <td>1</td>\n",
       "      <td>1</td>\n",
       "      <td>1</td>\n",
       "      <td>13</td>\n",
       "      <td>28</td>\n",
       "      <td>10</td>\n",
       "      <td>...</td>\n",
       "      <td>0</td>\n",
       "      <td>8</td>\n",
       "      <td>8</td>\n",
       "      <td>7</td>\n",
       "      <td>13.214286</td>\n",
       "      <td>0</td>\n",
       "      <td>12.7</td>\n",
       "      <td>3.7</td>\n",
       "      <td>-1.70</td>\n",
       "      <td>Graduate</td>\n",
       "    </tr>\n",
       "    <tr>\n",
       "      <th>12</th>\n",
       "      <td>1</td>\n",
       "      <td>1</td>\n",
       "      <td>2</td>\n",
       "      <td>16</td>\n",
       "      <td>1</td>\n",
       "      <td>1</td>\n",
       "      <td>1</td>\n",
       "      <td>13</td>\n",
       "      <td>27</td>\n",
       "      <td>5</td>\n",
       "      <td>...</td>\n",
       "      <td>0</td>\n",
       "      <td>6</td>\n",
       "      <td>0</td>\n",
       "      <td>0</td>\n",
       "      <td>0.000000</td>\n",
       "      <td>0</td>\n",
       "      <td>12.7</td>\n",
       "      <td>3.7</td>\n",
       "      <td>-1.70</td>\n",
       "      <td>Dropout</td>\n",
       "    </tr>\n",
       "    <tr>\n",
       "      <th>13</th>\n",
       "      <td>1</td>\n",
       "      <td>17</td>\n",
       "      <td>1</td>\n",
       "      <td>11</td>\n",
       "      <td>1</td>\n",
       "      <td>16</td>\n",
       "      <td>1</td>\n",
       "      <td>1</td>\n",
       "      <td>1</td>\n",
       "      <td>5</td>\n",
       "      <td>...</td>\n",
       "      <td>0</td>\n",
       "      <td>6</td>\n",
       "      <td>8</td>\n",
       "      <td>5</td>\n",
       "      <td>11.000000</td>\n",
       "      <td>0</td>\n",
       "      <td>8.9</td>\n",
       "      <td>1.4</td>\n",
       "      <td>3.51</td>\n",
       "      <td>Graduate</td>\n",
       "    </tr>\n",
       "    <tr>\n",
       "      <th>14</th>\n",
       "      <td>1</td>\n",
       "      <td>1</td>\n",
       "      <td>1</td>\n",
       "      <td>6</td>\n",
       "      <td>1</td>\n",
       "      <td>1</td>\n",
       "      <td>1</td>\n",
       "      <td>23</td>\n",
       "      <td>27</td>\n",
       "      <td>6</td>\n",
       "      <td>...</td>\n",
       "      <td>0</td>\n",
       "      <td>5</td>\n",
       "      <td>5</td>\n",
       "      <td>5</td>\n",
       "      <td>12.000000</td>\n",
       "      <td>0</td>\n",
       "      <td>10.8</td>\n",
       "      <td>1.4</td>\n",
       "      <td>1.74</td>\n",
       "      <td>Graduate</td>\n",
       "    </tr>\n",
       "    <tr>\n",
       "      <th>15</th>\n",
       "      <td>1</td>\n",
       "      <td>1</td>\n",
       "      <td>1</td>\n",
       "      <td>15</td>\n",
       "      <td>1</td>\n",
       "      <td>1</td>\n",
       "      <td>1</td>\n",
       "      <td>13</td>\n",
       "      <td>27</td>\n",
       "      <td>10</td>\n",
       "      <td>...</td>\n",
       "      <td>0</td>\n",
       "      <td>6</td>\n",
       "      <td>7</td>\n",
       "      <td>0</td>\n",
       "      <td>0.000000</td>\n",
       "      <td>0</td>\n",
       "      <td>15.5</td>\n",
       "      <td>2.8</td>\n",
       "      <td>-4.06</td>\n",
       "      <td>Dropout</td>\n",
       "    </tr>\n",
       "    <tr>\n",
       "      <th>16</th>\n",
       "      <td>1</td>\n",
       "      <td>9</td>\n",
       "      <td>1</td>\n",
       "      <td>10</td>\n",
       "      <td>1</td>\n",
       "      <td>1</td>\n",
       "      <td>1</td>\n",
       "      <td>13</td>\n",
       "      <td>28</td>\n",
       "      <td>6</td>\n",
       "      <td>...</td>\n",
       "      <td>0</td>\n",
       "      <td>6</td>\n",
       "      <td>14</td>\n",
       "      <td>2</td>\n",
       "      <td>11.000000</td>\n",
       "      <td>0</td>\n",
       "      <td>10.8</td>\n",
       "      <td>1.4</td>\n",
       "      <td>1.74</td>\n",
       "      <td>Enrolled</td>\n",
       "    </tr>\n",
       "    <tr>\n",
       "      <th>17</th>\n",
       "      <td>1</td>\n",
       "      <td>8</td>\n",
       "      <td>2</td>\n",
       "      <td>12</td>\n",
       "      <td>1</td>\n",
       "      <td>1</td>\n",
       "      <td>1</td>\n",
       "      <td>13</td>\n",
       "      <td>1</td>\n",
       "      <td>6</td>\n",
       "      <td>...</td>\n",
       "      <td>0</td>\n",
       "      <td>8</td>\n",
       "      <td>8</td>\n",
       "      <td>8</td>\n",
       "      <td>14.545000</td>\n",
       "      <td>0</td>\n",
       "      <td>15.5</td>\n",
       "      <td>2.8</td>\n",
       "      <td>-4.06</td>\n",
       "      <td>Graduate</td>\n",
       "    </tr>\n",
       "    <tr>\n",
       "      <th>18</th>\n",
       "      <td>1</td>\n",
       "      <td>1</td>\n",
       "      <td>1</td>\n",
       "      <td>8</td>\n",
       "      <td>1</td>\n",
       "      <td>1</td>\n",
       "      <td>1</td>\n",
       "      <td>3</td>\n",
       "      <td>14</td>\n",
       "      <td>4</td>\n",
       "      <td>...</td>\n",
       "      <td>0</td>\n",
       "      <td>5</td>\n",
       "      <td>8</td>\n",
       "      <td>4</td>\n",
       "      <td>12.250000</td>\n",
       "      <td>2</td>\n",
       "      <td>10.8</td>\n",
       "      <td>1.4</td>\n",
       "      <td>1.74</td>\n",
       "      <td>Graduate</td>\n",
       "    </tr>\n",
       "    <tr>\n",
       "      <th>19</th>\n",
       "      <td>1</td>\n",
       "      <td>1</td>\n",
       "      <td>1</td>\n",
       "      <td>16</td>\n",
       "      <td>1</td>\n",
       "      <td>1</td>\n",
       "      <td>1</td>\n",
       "      <td>13</td>\n",
       "      <td>14</td>\n",
       "      <td>8</td>\n",
       "      <td>...</td>\n",
       "      <td>0</td>\n",
       "      <td>7</td>\n",
       "      <td>8</td>\n",
       "      <td>6</td>\n",
       "      <td>13.500000</td>\n",
       "      <td>0</td>\n",
       "      <td>16.2</td>\n",
       "      <td>0.3</td>\n",
       "      <td>-0.92</td>\n",
       "      <td>Enrolled</td>\n",
       "    </tr>\n",
       "  </tbody>\n",
       "</table>\n",
       "<p>20 rows × 35 columns</p>\n",
       "</div>"
      ],
      "text/plain": [
       "    Marital status  Application mode  Application order  Course  \\\n",
       "0                1                 8                  5       2   \n",
       "1                1                 6                  1      11   \n",
       "2                1                 1                  5       5   \n",
       "3                1                 8                  2      15   \n",
       "4                2                12                  1       3   \n",
       "5                2                12                  1      17   \n",
       "6                1                 1                  1      12   \n",
       "7                1                 9                  4      11   \n",
       "8                1                 1                  3      10   \n",
       "9                1                 1                  1      10   \n",
       "10               1                 1                  1      14   \n",
       "11               1                 1                  1      12   \n",
       "12               1                 1                  2      16   \n",
       "13               1                17                  1      11   \n",
       "14               1                 1                  1       6   \n",
       "15               1                 1                  1      15   \n",
       "16               1                 9                  1      10   \n",
       "17               1                 8                  2      12   \n",
       "18               1                 1                  1       8   \n",
       "19               1                 1                  1      16   \n",
       "\n",
       "    Daytime/evening attendance  Previous qualification  Nacionality  \\\n",
       "0                            1                       1            1   \n",
       "1                            1                       1            1   \n",
       "2                            1                       1            1   \n",
       "3                            1                       1            1   \n",
       "4                            0                       1            1   \n",
       "5                            0                      12            1   \n",
       "6                            1                       1            1   \n",
       "7                            1                       1            1   \n",
       "8                            1                       1           15   \n",
       "9                            1                       1            1   \n",
       "10                           1                       1            1   \n",
       "11                           1                       1            1   \n",
       "12                           1                       1            1   \n",
       "13                           1                      16            1   \n",
       "14                           1                       1            1   \n",
       "15                           1                       1            1   \n",
       "16                           1                       1            1   \n",
       "17                           1                       1            1   \n",
       "18                           1                       1            1   \n",
       "19                           1                       1            1   \n",
       "\n",
       "    Mother's qualification  Father's qualification  Mother's occupation  ...  \\\n",
       "0                       13                      10                    6  ...   \n",
       "1                        1                       3                    4  ...   \n",
       "2                       22                      27                   10  ...   \n",
       "3                       23                      27                    6  ...   \n",
       "4                       22                      28                   10  ...   \n",
       "5                       22                      27                   10  ...   \n",
       "6                       13                      28                    8  ...   \n",
       "7                       22                      27                   10  ...   \n",
       "8                        1                       1                   10  ...   \n",
       "9                        1                      14                    5  ...   \n",
       "10                      23                      14                    6  ...   \n",
       "11                      13                      28                   10  ...   \n",
       "12                      13                      27                    5  ...   \n",
       "13                       1                       1                    5  ...   \n",
       "14                      23                      27                    6  ...   \n",
       "15                      13                      27                   10  ...   \n",
       "16                      13                      28                    6  ...   \n",
       "17                      13                       1                    6  ...   \n",
       "18                       3                      14                    4  ...   \n",
       "19                      13                      14                    8  ...   \n",
       "\n",
       "    Curricular units 2nd sem (credited)  Curricular units 2nd sem (enrolled)  \\\n",
       "0                                     0                                    0   \n",
       "1                                     0                                    6   \n",
       "2                                     0                                    6   \n",
       "3                                     0                                    6   \n",
       "4                                     0                                    6   \n",
       "5                                     0                                    5   \n",
       "6                                     0                                    8   \n",
       "7                                     0                                    5   \n",
       "8                                     0                                    6   \n",
       "9                                     0                                    6   \n",
       "10                                    0                                    6   \n",
       "11                                    0                                    8   \n",
       "12                                    0                                    6   \n",
       "13                                    0                                    6   \n",
       "14                                    0                                    5   \n",
       "15                                    0                                    6   \n",
       "16                                    0                                    6   \n",
       "17                                    0                                    8   \n",
       "18                                    0                                    5   \n",
       "19                                    0                                    7   \n",
       "\n",
       "    Curricular units 2nd sem (evaluations)  \\\n",
       "0                                        0   \n",
       "1                                        6   \n",
       "2                                        0   \n",
       "3                                       10   \n",
       "4                                        6   \n",
       "5                                       17   \n",
       "6                                        8   \n",
       "7                                        5   \n",
       "8                                        7   \n",
       "9                                       14   \n",
       "10                                       7   \n",
       "11                                       8   \n",
       "12                                       0   \n",
       "13                                       8   \n",
       "14                                       5   \n",
       "15                                       7   \n",
       "16                                      14   \n",
       "17                                       8   \n",
       "18                                       8   \n",
       "19                                       8   \n",
       "\n",
       "    Curricular units 2nd sem (approved)  Curricular units 2nd sem (grade)  \\\n",
       "0                                     0                          0.000000   \n",
       "1                                     6                         13.666667   \n",
       "2                                     0                          0.000000   \n",
       "3                                     5                         12.400000   \n",
       "4                                     6                         13.000000   \n",
       "5                                     5                         11.500000   \n",
       "6                                     8                         14.345000   \n",
       "7                                     0                          0.000000   \n",
       "8                                     6                         14.142857   \n",
       "9                                     2                         13.500000   \n",
       "10                                    5                         14.200000   \n",
       "11                                    7                         13.214286   \n",
       "12                                    0                          0.000000   \n",
       "13                                    5                         11.000000   \n",
       "14                                    5                         12.000000   \n",
       "15                                    0                          0.000000   \n",
       "16                                    2                         11.000000   \n",
       "17                                    8                         14.545000   \n",
       "18                                    4                         12.250000   \n",
       "19                                    6                         13.500000   \n",
       "\n",
       "    Curricular units 2nd sem (without evaluations)  Unemployment rate  \\\n",
       "0                                                0               10.8   \n",
       "1                                                0               13.9   \n",
       "2                                                0               10.8   \n",
       "3                                                0                9.4   \n",
       "4                                                0               13.9   \n",
       "5                                                5               16.2   \n",
       "6                                                0               15.5   \n",
       "7                                                0               15.5   \n",
       "8                                                0               16.2   \n",
       "9                                                0                8.9   \n",
       "10                                               0               13.9   \n",
       "11                                               0               12.7   \n",
       "12                                               0               12.7   \n",
       "13                                               0                8.9   \n",
       "14                                               0               10.8   \n",
       "15                                               0               15.5   \n",
       "16                                               0               10.8   \n",
       "17                                               0               15.5   \n",
       "18                                               2               10.8   \n",
       "19                                               0               16.2   \n",
       "\n",
       "    Inflation rate   GDP    Target  \n",
       "0              1.4  1.74   Dropout  \n",
       "1             -0.3  0.79  Graduate  \n",
       "2              1.4  1.74   Dropout  \n",
       "3             -0.8 -3.12  Graduate  \n",
       "4             -0.3  0.79  Graduate  \n",
       "5              0.3 -0.92  Graduate  \n",
       "6              2.8 -4.06  Graduate  \n",
       "7              2.8 -4.06   Dropout  \n",
       "8              0.3 -0.92  Graduate  \n",
       "9              1.4  3.51   Dropout  \n",
       "10            -0.3  0.79  Graduate  \n",
       "11             3.7 -1.70  Graduate  \n",
       "12             3.7 -1.70   Dropout  \n",
       "13             1.4  3.51  Graduate  \n",
       "14             1.4  1.74  Graduate  \n",
       "15             2.8 -4.06   Dropout  \n",
       "16             1.4  1.74  Enrolled  \n",
       "17             2.8 -4.06  Graduate  \n",
       "18             1.4  1.74  Graduate  \n",
       "19             0.3 -0.92  Enrolled  \n",
       "\n",
       "[20 rows x 35 columns]"
      ]
     },
     "execution_count": 4,
     "metadata": {},
     "output_type": "execute_result"
    }
   ],
   "source": [
    "df.head(20)"
   ]
  },
  {
   "cell_type": "code",
   "execution_count": 5,
   "id": "8b77942c",
   "metadata": {
    "execution": {
     "iopub.execute_input": "2023-08-02T20:43:11.692422Z",
     "iopub.status.busy": "2023-08-02T20:43:11.691981Z",
     "iopub.status.idle": "2023-08-02T20:43:11.720338Z",
     "shell.execute_reply": "2023-08-02T20:43:11.718787Z"
    },
    "papermill": {
     "duration": 0.049736,
     "end_time": "2023-08-02T20:43:11.723369",
     "exception": false,
     "start_time": "2023-08-02T20:43:11.673633",
     "status": "completed"
    },
    "tags": []
   },
   "outputs": [
    {
     "name": "stdout",
     "output_type": "stream",
     "text": [
      "<class 'pandas.core.frame.DataFrame'>\n",
      "Int64Index: 4424 entries, 0 to 4423\n",
      "Data columns (total 35 columns):\n",
      " #   Column                                          Non-Null Count  Dtype  \n",
      "---  ------                                          --------------  -----  \n",
      " 0   Marital status                                  4424 non-null   int64  \n",
      " 1   Application mode                                4424 non-null   int64  \n",
      " 2   Application order                               4424 non-null   int64  \n",
      " 3   Course                                          4424 non-null   int64  \n",
      " 4   Daytime/evening attendance                      4424 non-null   int64  \n",
      " 5   Previous qualification                          4424 non-null   int64  \n",
      " 6   Nacionality                                     4424 non-null   int64  \n",
      " 7   Mother's qualification                          4424 non-null   int64  \n",
      " 8   Father's qualification                          4424 non-null   int64  \n",
      " 9   Mother's occupation                             4424 non-null   int64  \n",
      " 10  Father's occupation                             4424 non-null   int64  \n",
      " 11  Displaced                                       4424 non-null   int64  \n",
      " 12  Educational special needs                       4424 non-null   int64  \n",
      " 13  Debtor                                          4424 non-null   int64  \n",
      " 14  Tuition fees up to date                         4424 non-null   int64  \n",
      " 15  Gender                                          4424 non-null   int64  \n",
      " 16  Scholarship holder                              4424 non-null   int64  \n",
      " 17  Age at enrollment                               4424 non-null   int64  \n",
      " 18  International                                   4424 non-null   int64  \n",
      " 19  Curricular units 1st sem (credited)             4424 non-null   int64  \n",
      " 20  Curricular units 1st sem (enrolled)             4424 non-null   int64  \n",
      " 21  Curricular units 1st sem (evaluations)          4424 non-null   int64  \n",
      " 22  Curricular units 1st sem (approved)             4424 non-null   int64  \n",
      " 23  Curricular units 1st sem (grade)                4424 non-null   float64\n",
      " 24  Curricular units 1st sem (without evaluations)  4424 non-null   int64  \n",
      " 25  Curricular units 2nd sem (credited)             4424 non-null   int64  \n",
      " 26  Curricular units 2nd sem (enrolled)             4424 non-null   int64  \n",
      " 27  Curricular units 2nd sem (evaluations)          4424 non-null   int64  \n",
      " 28  Curricular units 2nd sem (approved)             4424 non-null   int64  \n",
      " 29  Curricular units 2nd sem (grade)                4424 non-null   float64\n",
      " 30  Curricular units 2nd sem (without evaluations)  4424 non-null   int64  \n",
      " 31  Unemployment rate                               4424 non-null   float64\n",
      " 32  Inflation rate                                  4424 non-null   float64\n",
      " 33  GDP                                             4424 non-null   float64\n",
      " 34  Target                                          4424 non-null   object \n",
      "dtypes: float64(5), int64(29), object(1)\n",
      "memory usage: 1.2+ MB\n"
     ]
    }
   ],
   "source": [
    "df.drop_duplicates(inplace=True)\n",
    "df.info()\n",
    "cat_col = [0, 1, 2,4,5,6,7,8,9,10,11,12,13,15,16,18]"
   ]
  },
  {
   "cell_type": "code",
   "execution_count": 6,
   "id": "756b0268",
   "metadata": {},
   "outputs": [
    {
     "name": "stdout",
     "output_type": "stream",
     "text": [
      "<class 'pandas.core.frame.DataFrame'>\n",
      "Int64Index: 4424 entries, 0 to 4423\n",
      "Data columns (total 35 columns):\n",
      " #   Column                                          Non-Null Count  Dtype   \n",
      "---  ------                                          --------------  -----   \n",
      " 0   Marital status                                  4424 non-null   category\n",
      " 1   Application mode                                4424 non-null   category\n",
      " 2   Application order                               4424 non-null   category\n",
      " 3   Course                                          4424 non-null   int64   \n",
      " 4   Daytime/evening attendance                      4424 non-null   category\n",
      " 5   Previous qualification                          4424 non-null   category\n",
      " 6   Nacionality                                     4424 non-null   category\n",
      " 7   Mother's qualification                          4424 non-null   category\n",
      " 8   Father's qualification                          4424 non-null   category\n",
      " 9   Mother's occupation                             4424 non-null   category\n",
      " 10  Father's occupation                             4424 non-null   category\n",
      " 11  Displaced                                       4424 non-null   category\n",
      " 12  Educational special needs                       4424 non-null   category\n",
      " 13  Debtor                                          4424 non-null   category\n",
      " 14  Tuition fees up to date                         4424 non-null   int64   \n",
      " 15  Gender                                          4424 non-null   category\n",
      " 16  Scholarship holder                              4424 non-null   category\n",
      " 17  Age at enrollment                               4424 non-null   int64   \n",
      " 18  International                                   4424 non-null   category\n",
      " 19  Curricular units 1st sem (credited)             4424 non-null   int64   \n",
      " 20  Curricular units 1st sem (enrolled)             4424 non-null   int64   \n",
      " 21  Curricular units 1st sem (evaluations)          4424 non-null   int64   \n",
      " 22  Curricular units 1st sem (approved)             4424 non-null   int64   \n",
      " 23  Curricular units 1st sem (grade)                4424 non-null   float64 \n",
      " 24  Curricular units 1st sem (without evaluations)  4424 non-null   int64   \n",
      " 25  Curricular units 2nd sem (credited)             4424 non-null   int64   \n",
      " 26  Curricular units 2nd sem (enrolled)             4424 non-null   int64   \n",
      " 27  Curricular units 2nd sem (evaluations)          4424 non-null   int64   \n",
      " 28  Curricular units 2nd sem (approved)             4424 non-null   int64   \n",
      " 29  Curricular units 2nd sem (grade)                4424 non-null   float64 \n",
      " 30  Curricular units 2nd sem (without evaluations)  4424 non-null   int64   \n",
      " 31  Unemployment rate                               4424 non-null   float64 \n",
      " 32  Inflation rate                                  4424 non-null   float64 \n",
      " 33  GDP                                             4424 non-null   float64 \n",
      " 34  Target                                          4424 non-null   object  \n",
      "dtypes: category(16), float64(5), int64(13), object(1)\n",
      "memory usage: 769.1+ KB\n"
     ]
    }
   ],
   "source": [
    "for col in cat_col:\n",
    "    df.iloc[:,col] =df.iloc[:,col].astype(\"category\")\n",
    "df.info()"
   ]
  },
  {
   "cell_type": "code",
   "execution_count": 7,
   "id": "645cc837",
   "metadata": {},
   "outputs": [
    {
     "data": {
      "text/html": [
       "<div>\n",
       "<style scoped>\n",
       "    .dataframe tbody tr th:only-of-type {\n",
       "        vertical-align: middle;\n",
       "    }\n",
       "\n",
       "    .dataframe tbody tr th {\n",
       "        vertical-align: top;\n",
       "    }\n",
       "\n",
       "    .dataframe thead th {\n",
       "        text-align: right;\n",
       "    }\n",
       "</style>\n",
       "<table border=\"1\" class=\"dataframe\">\n",
       "  <thead>\n",
       "    <tr style=\"text-align: right;\">\n",
       "      <th></th>\n",
       "      <th>Marital status</th>\n",
       "      <th>Application mode</th>\n",
       "      <th>Application order</th>\n",
       "      <th>Course</th>\n",
       "      <th>Daytime/evening attendance</th>\n",
       "      <th>Previous qualification</th>\n",
       "      <th>Nacionality</th>\n",
       "      <th>Mother's qualification</th>\n",
       "      <th>Father's qualification</th>\n",
       "      <th>Mother's occupation</th>\n",
       "      <th>...</th>\n",
       "      <th>Curricular units 2nd sem (credited)</th>\n",
       "      <th>Curricular units 2nd sem (enrolled)</th>\n",
       "      <th>Curricular units 2nd sem (evaluations)</th>\n",
       "      <th>Curricular units 2nd sem (approved)</th>\n",
       "      <th>Curricular units 2nd sem (grade)</th>\n",
       "      <th>Curricular units 2nd sem (without evaluations)</th>\n",
       "      <th>Unemployment rate</th>\n",
       "      <th>Inflation rate</th>\n",
       "      <th>GDP</th>\n",
       "      <th>Target</th>\n",
       "    </tr>\n",
       "  </thead>\n",
       "  <tbody>\n",
       "    <tr>\n",
       "      <th>0</th>\n",
       "      <td>1</td>\n",
       "      <td>8</td>\n",
       "      <td>5</td>\n",
       "      <td>2</td>\n",
       "      <td>1</td>\n",
       "      <td>1</td>\n",
       "      <td>1</td>\n",
       "      <td>13</td>\n",
       "      <td>10</td>\n",
       "      <td>6</td>\n",
       "      <td>...</td>\n",
       "      <td>0</td>\n",
       "      <td>0</td>\n",
       "      <td>0</td>\n",
       "      <td>0</td>\n",
       "      <td>0.000000</td>\n",
       "      <td>0</td>\n",
       "      <td>10.8</td>\n",
       "      <td>1.4</td>\n",
       "      <td>1.74</td>\n",
       "      <td>Dropout</td>\n",
       "    </tr>\n",
       "    <tr>\n",
       "      <th>1</th>\n",
       "      <td>1</td>\n",
       "      <td>6</td>\n",
       "      <td>1</td>\n",
       "      <td>11</td>\n",
       "      <td>1</td>\n",
       "      <td>1</td>\n",
       "      <td>1</td>\n",
       "      <td>1</td>\n",
       "      <td>3</td>\n",
       "      <td>4</td>\n",
       "      <td>...</td>\n",
       "      <td>0</td>\n",
       "      <td>6</td>\n",
       "      <td>6</td>\n",
       "      <td>6</td>\n",
       "      <td>13.666667</td>\n",
       "      <td>0</td>\n",
       "      <td>13.9</td>\n",
       "      <td>-0.3</td>\n",
       "      <td>0.79</td>\n",
       "      <td>Graduate</td>\n",
       "    </tr>\n",
       "    <tr>\n",
       "      <th>2</th>\n",
       "      <td>1</td>\n",
       "      <td>1</td>\n",
       "      <td>5</td>\n",
       "      <td>5</td>\n",
       "      <td>1</td>\n",
       "      <td>1</td>\n",
       "      <td>1</td>\n",
       "      <td>22</td>\n",
       "      <td>27</td>\n",
       "      <td>10</td>\n",
       "      <td>...</td>\n",
       "      <td>0</td>\n",
       "      <td>6</td>\n",
       "      <td>0</td>\n",
       "      <td>0</td>\n",
       "      <td>0.000000</td>\n",
       "      <td>0</td>\n",
       "      <td>10.8</td>\n",
       "      <td>1.4</td>\n",
       "      <td>1.74</td>\n",
       "      <td>Dropout</td>\n",
       "    </tr>\n",
       "    <tr>\n",
       "      <th>3</th>\n",
       "      <td>1</td>\n",
       "      <td>8</td>\n",
       "      <td>2</td>\n",
       "      <td>15</td>\n",
       "      <td>1</td>\n",
       "      <td>1</td>\n",
       "      <td>1</td>\n",
       "      <td>23</td>\n",
       "      <td>27</td>\n",
       "      <td>6</td>\n",
       "      <td>...</td>\n",
       "      <td>0</td>\n",
       "      <td>6</td>\n",
       "      <td>10</td>\n",
       "      <td>5</td>\n",
       "      <td>12.400000</td>\n",
       "      <td>0</td>\n",
       "      <td>9.4</td>\n",
       "      <td>-0.8</td>\n",
       "      <td>-3.12</td>\n",
       "      <td>Graduate</td>\n",
       "    </tr>\n",
       "    <tr>\n",
       "      <th>4</th>\n",
       "      <td>2</td>\n",
       "      <td>12</td>\n",
       "      <td>1</td>\n",
       "      <td>3</td>\n",
       "      <td>0</td>\n",
       "      <td>1</td>\n",
       "      <td>1</td>\n",
       "      <td>22</td>\n",
       "      <td>28</td>\n",
       "      <td>10</td>\n",
       "      <td>...</td>\n",
       "      <td>0</td>\n",
       "      <td>6</td>\n",
       "      <td>6</td>\n",
       "      <td>6</td>\n",
       "      <td>13.000000</td>\n",
       "      <td>0</td>\n",
       "      <td>13.9</td>\n",
       "      <td>-0.3</td>\n",
       "      <td>0.79</td>\n",
       "      <td>Graduate</td>\n",
       "    </tr>\n",
       "  </tbody>\n",
       "</table>\n",
       "<p>5 rows × 35 columns</p>\n",
       "</div>"
      ],
      "text/plain": [
       "  Marital status Application mode Application order  Course  \\\n",
       "0              1                8                 5       2   \n",
       "1              1                6                 1      11   \n",
       "2              1                1                 5       5   \n",
       "3              1                8                 2      15   \n",
       "4              2               12                 1       3   \n",
       "\n",
       "  Daytime/evening attendance Previous qualification Nacionality  \\\n",
       "0                          1                      1           1   \n",
       "1                          1                      1           1   \n",
       "2                          1                      1           1   \n",
       "3                          1                      1           1   \n",
       "4                          0                      1           1   \n",
       "\n",
       "  Mother's qualification Father's qualification Mother's occupation  ...  \\\n",
       "0                     13                     10                   6  ...   \n",
       "1                      1                      3                   4  ...   \n",
       "2                     22                     27                  10  ...   \n",
       "3                     23                     27                   6  ...   \n",
       "4                     22                     28                  10  ...   \n",
       "\n",
       "  Curricular units 2nd sem (credited) Curricular units 2nd sem (enrolled)  \\\n",
       "0                                   0                                   0   \n",
       "1                                   0                                   6   \n",
       "2                                   0                                   6   \n",
       "3                                   0                                   6   \n",
       "4                                   0                                   6   \n",
       "\n",
       "  Curricular units 2nd sem (evaluations) Curricular units 2nd sem (approved)  \\\n",
       "0                                      0                                   0   \n",
       "1                                      6                                   6   \n",
       "2                                      0                                   0   \n",
       "3                                     10                                   5   \n",
       "4                                      6                                   6   \n",
       "\n",
       "   Curricular units 2nd sem (grade)  \\\n",
       "0                          0.000000   \n",
       "1                         13.666667   \n",
       "2                          0.000000   \n",
       "3                         12.400000   \n",
       "4                         13.000000   \n",
       "\n",
       "  Curricular units 2nd sem (without evaluations) Unemployment rate  \\\n",
       "0                                              0              10.8   \n",
       "1                                              0              13.9   \n",
       "2                                              0              10.8   \n",
       "3                                              0               9.4   \n",
       "4                                              0              13.9   \n",
       "\n",
       "   Inflation rate   GDP    Target  \n",
       "0             1.4  1.74   Dropout  \n",
       "1            -0.3  0.79  Graduate  \n",
       "2             1.4  1.74   Dropout  \n",
       "3            -0.8 -3.12  Graduate  \n",
       "4            -0.3  0.79  Graduate  \n",
       "\n",
       "[5 rows x 35 columns]"
      ]
     },
     "execution_count": 7,
     "metadata": {},
     "output_type": "execute_result"
    }
   ],
   "source": [
    "df = df[df[\"Target\"]!=\"Enrolled\"]\n",
    "df.head()"
   ]
  },
  {
   "cell_type": "code",
   "execution_count": 8,
   "id": "cbc4a5c2",
   "metadata": {
    "execution": {
     "iopub.execute_input": "2023-08-02T20:43:11.758915Z",
     "iopub.status.busy": "2023-08-02T20:43:11.758516Z",
     "iopub.status.idle": "2023-08-02T20:43:11.768544Z",
     "shell.execute_reply": "2023-08-02T20:43:11.767259Z"
    },
    "papermill": {
     "duration": 0.030567,
     "end_time": "2023-08-02T20:43:11.771159",
     "exception": false,
     "start_time": "2023-08-02T20:43:11.740592",
     "status": "completed"
    },
    "tags": []
   },
   "outputs": [
    {
     "data": {
      "text/plain": [
       "Graduate    2209\n",
       "Dropout     1421\n",
       "Name: Target, dtype: int64"
      ]
     },
     "execution_count": 8,
     "metadata": {},
     "output_type": "execute_result"
    }
   ],
   "source": [
    "df['Target'].value_counts()"
   ]
  },
  {
   "cell_type": "code",
   "execution_count": 9,
   "id": "bf6a2830",
   "metadata": {
    "execution": {
     "iopub.execute_input": "2023-08-02T20:43:11.807064Z",
     "iopub.status.busy": "2023-08-02T20:43:11.806626Z",
     "iopub.status.idle": "2023-08-02T20:43:11.817487Z",
     "shell.execute_reply": "2023-08-02T20:43:11.816281Z"
    },
    "papermill": {
     "duration": 0.032174,
     "end_time": "2023-08-02T20:43:11.820055",
     "exception": false,
     "start_time": "2023-08-02T20:43:11.787881",
     "status": "completed"
    },
    "tags": []
   },
   "outputs": [],
   "source": [
    "df['Target']=df['Target'].apply(lambda x: 1 if x=='Graduate' else 0)"
   ]
  },
  {
   "cell_type": "code",
   "execution_count": 10,
   "id": "ff69b835",
   "metadata": {
    "execution": {
     "iopub.execute_input": "2023-08-02T20:43:11.856248Z",
     "iopub.status.busy": "2023-08-02T20:43:11.855816Z",
     "iopub.status.idle": "2023-08-02T20:43:11.865863Z",
     "shell.execute_reply": "2023-08-02T20:43:11.864408Z"
    },
    "papermill": {
     "duration": 0.031228,
     "end_time": "2023-08-02T20:43:11.868866",
     "exception": false,
     "start_time": "2023-08-02T20:43:11.837638",
     "status": "completed"
    },
    "tags": []
   },
   "outputs": [
    {
     "data": {
      "text/plain": [
       "0       0\n",
       "1       1\n",
       "2       0\n",
       "3       1\n",
       "4       1\n",
       "       ..\n",
       "4419    1\n",
       "4420    0\n",
       "4421    0\n",
       "4422    1\n",
       "4423    1\n",
       "Name: Target, Length: 3630, dtype: int64"
      ]
     },
     "execution_count": 10,
     "metadata": {},
     "output_type": "execute_result"
    }
   ],
   "source": [
    "df['Target']"
   ]
  },
  {
   "cell_type": "markdown",
   "id": "e87fe399",
   "metadata": {
    "papermill": {
     "duration": 0.01688,
     "end_time": "2023-08-02T20:43:11.902657",
     "exception": false,
     "start_time": "2023-08-02T20:43:11.885777",
     "status": "completed"
    },
    "tags": []
   },
   "source": [
    "# **Logistic Regression Model and Accuracy**"
   ]
  },
  {
   "cell_type": "code",
   "execution_count": 11,
   "id": "85cdbe5d",
   "metadata": {
    "execution": {
     "iopub.execute_input": "2023-08-02T20:43:11.938638Z",
     "iopub.status.busy": "2023-08-02T20:43:11.938169Z",
     "iopub.status.idle": "2023-08-02T20:43:11.945123Z",
     "shell.execute_reply": "2023-08-02T20:43:11.943891Z"
    },
    "papermill": {
     "duration": 0.027652,
     "end_time": "2023-08-02T20:43:11.947491",
     "exception": false,
     "start_time": "2023-08-02T20:43:11.919839",
     "status": "completed"
    },
    "tags": []
   },
   "outputs": [
    {
     "data": {
      "text/html": [
       "<div>\n",
       "<style scoped>\n",
       "    .dataframe tbody tr th:only-of-type {\n",
       "        vertical-align: middle;\n",
       "    }\n",
       "\n",
       "    .dataframe tbody tr th {\n",
       "        vertical-align: top;\n",
       "    }\n",
       "\n",
       "    .dataframe thead th {\n",
       "        text-align: right;\n",
       "    }\n",
       "</style>\n",
       "<table border=\"1\" class=\"dataframe\">\n",
       "  <thead>\n",
       "    <tr style=\"text-align: right;\">\n",
       "      <th></th>\n",
       "      <th>Marital status</th>\n",
       "      <th>Application mode</th>\n",
       "      <th>Application order</th>\n",
       "      <th>Course</th>\n",
       "      <th>Daytime/evening attendance</th>\n",
       "      <th>Previous qualification</th>\n",
       "      <th>Nacionality</th>\n",
       "      <th>Mother's qualification</th>\n",
       "      <th>Father's qualification</th>\n",
       "      <th>Mother's occupation</th>\n",
       "      <th>...</th>\n",
       "      <th>Curricular units 1st sem (without evaluations)</th>\n",
       "      <th>Curricular units 2nd sem (credited)</th>\n",
       "      <th>Curricular units 2nd sem (enrolled)</th>\n",
       "      <th>Curricular units 2nd sem (evaluations)</th>\n",
       "      <th>Curricular units 2nd sem (approved)</th>\n",
       "      <th>Curricular units 2nd sem (grade)</th>\n",
       "      <th>Curricular units 2nd sem (without evaluations)</th>\n",
       "      <th>Unemployment rate</th>\n",
       "      <th>Inflation rate</th>\n",
       "      <th>GDP</th>\n",
       "    </tr>\n",
       "  </thead>\n",
       "  <tbody>\n",
       "    <tr>\n",
       "      <th>0</th>\n",
       "      <td>1</td>\n",
       "      <td>8</td>\n",
       "      <td>5</td>\n",
       "      <td>2</td>\n",
       "      <td>1</td>\n",
       "      <td>1</td>\n",
       "      <td>1</td>\n",
       "      <td>13</td>\n",
       "      <td>10</td>\n",
       "      <td>6</td>\n",
       "      <td>...</td>\n",
       "      <td>0</td>\n",
       "      <td>0</td>\n",
       "      <td>0</td>\n",
       "      <td>0</td>\n",
       "      <td>0</td>\n",
       "      <td>0.000000</td>\n",
       "      <td>0</td>\n",
       "      <td>10.8</td>\n",
       "      <td>1.4</td>\n",
       "      <td>1.74</td>\n",
       "    </tr>\n",
       "    <tr>\n",
       "      <th>1</th>\n",
       "      <td>1</td>\n",
       "      <td>6</td>\n",
       "      <td>1</td>\n",
       "      <td>11</td>\n",
       "      <td>1</td>\n",
       "      <td>1</td>\n",
       "      <td>1</td>\n",
       "      <td>1</td>\n",
       "      <td>3</td>\n",
       "      <td>4</td>\n",
       "      <td>...</td>\n",
       "      <td>0</td>\n",
       "      <td>0</td>\n",
       "      <td>6</td>\n",
       "      <td>6</td>\n",
       "      <td>6</td>\n",
       "      <td>13.666667</td>\n",
       "      <td>0</td>\n",
       "      <td>13.9</td>\n",
       "      <td>-0.3</td>\n",
       "      <td>0.79</td>\n",
       "    </tr>\n",
       "    <tr>\n",
       "      <th>2</th>\n",
       "      <td>1</td>\n",
       "      <td>1</td>\n",
       "      <td>5</td>\n",
       "      <td>5</td>\n",
       "      <td>1</td>\n",
       "      <td>1</td>\n",
       "      <td>1</td>\n",
       "      <td>22</td>\n",
       "      <td>27</td>\n",
       "      <td>10</td>\n",
       "      <td>...</td>\n",
       "      <td>0</td>\n",
       "      <td>0</td>\n",
       "      <td>6</td>\n",
       "      <td>0</td>\n",
       "      <td>0</td>\n",
       "      <td>0.000000</td>\n",
       "      <td>0</td>\n",
       "      <td>10.8</td>\n",
       "      <td>1.4</td>\n",
       "      <td>1.74</td>\n",
       "    </tr>\n",
       "    <tr>\n",
       "      <th>3</th>\n",
       "      <td>1</td>\n",
       "      <td>8</td>\n",
       "      <td>2</td>\n",
       "      <td>15</td>\n",
       "      <td>1</td>\n",
       "      <td>1</td>\n",
       "      <td>1</td>\n",
       "      <td>23</td>\n",
       "      <td>27</td>\n",
       "      <td>6</td>\n",
       "      <td>...</td>\n",
       "      <td>0</td>\n",
       "      <td>0</td>\n",
       "      <td>6</td>\n",
       "      <td>10</td>\n",
       "      <td>5</td>\n",
       "      <td>12.400000</td>\n",
       "      <td>0</td>\n",
       "      <td>9.4</td>\n",
       "      <td>-0.8</td>\n",
       "      <td>-3.12</td>\n",
       "    </tr>\n",
       "    <tr>\n",
       "      <th>4</th>\n",
       "      <td>2</td>\n",
       "      <td>12</td>\n",
       "      <td>1</td>\n",
       "      <td>3</td>\n",
       "      <td>0</td>\n",
       "      <td>1</td>\n",
       "      <td>1</td>\n",
       "      <td>22</td>\n",
       "      <td>28</td>\n",
       "      <td>10</td>\n",
       "      <td>...</td>\n",
       "      <td>0</td>\n",
       "      <td>0</td>\n",
       "      <td>6</td>\n",
       "      <td>6</td>\n",
       "      <td>6</td>\n",
       "      <td>13.000000</td>\n",
       "      <td>0</td>\n",
       "      <td>13.9</td>\n",
       "      <td>-0.3</td>\n",
       "      <td>0.79</td>\n",
       "    </tr>\n",
       "    <tr>\n",
       "      <th>...</th>\n",
       "      <td>...</td>\n",
       "      <td>...</td>\n",
       "      <td>...</td>\n",
       "      <td>...</td>\n",
       "      <td>...</td>\n",
       "      <td>...</td>\n",
       "      <td>...</td>\n",
       "      <td>...</td>\n",
       "      <td>...</td>\n",
       "      <td>...</td>\n",
       "      <td>...</td>\n",
       "      <td>...</td>\n",
       "      <td>...</td>\n",
       "      <td>...</td>\n",
       "      <td>...</td>\n",
       "      <td>...</td>\n",
       "      <td>...</td>\n",
       "      <td>...</td>\n",
       "      <td>...</td>\n",
       "      <td>...</td>\n",
       "      <td>...</td>\n",
       "    </tr>\n",
       "    <tr>\n",
       "      <th>4419</th>\n",
       "      <td>1</td>\n",
       "      <td>1</td>\n",
       "      <td>6</td>\n",
       "      <td>15</td>\n",
       "      <td>1</td>\n",
       "      <td>1</td>\n",
       "      <td>1</td>\n",
       "      <td>1</td>\n",
       "      <td>1</td>\n",
       "      <td>6</td>\n",
       "      <td>...</td>\n",
       "      <td>0</td>\n",
       "      <td>0</td>\n",
       "      <td>6</td>\n",
       "      <td>8</td>\n",
       "      <td>5</td>\n",
       "      <td>12.666667</td>\n",
       "      <td>0</td>\n",
       "      <td>15.5</td>\n",
       "      <td>2.8</td>\n",
       "      <td>-4.06</td>\n",
       "    </tr>\n",
       "    <tr>\n",
       "      <th>4420</th>\n",
       "      <td>1</td>\n",
       "      <td>1</td>\n",
       "      <td>2</td>\n",
       "      <td>15</td>\n",
       "      <td>1</td>\n",
       "      <td>1</td>\n",
       "      <td>19</td>\n",
       "      <td>1</td>\n",
       "      <td>1</td>\n",
       "      <td>10</td>\n",
       "      <td>...</td>\n",
       "      <td>0</td>\n",
       "      <td>0</td>\n",
       "      <td>6</td>\n",
       "      <td>6</td>\n",
       "      <td>2</td>\n",
       "      <td>11.000000</td>\n",
       "      <td>0</td>\n",
       "      <td>11.1</td>\n",
       "      <td>0.6</td>\n",
       "      <td>2.02</td>\n",
       "    </tr>\n",
       "    <tr>\n",
       "      <th>4421</th>\n",
       "      <td>1</td>\n",
       "      <td>1</td>\n",
       "      <td>1</td>\n",
       "      <td>12</td>\n",
       "      <td>1</td>\n",
       "      <td>1</td>\n",
       "      <td>1</td>\n",
       "      <td>22</td>\n",
       "      <td>27</td>\n",
       "      <td>10</td>\n",
       "      <td>...</td>\n",
       "      <td>0</td>\n",
       "      <td>0</td>\n",
       "      <td>8</td>\n",
       "      <td>9</td>\n",
       "      <td>1</td>\n",
       "      <td>13.500000</td>\n",
       "      <td>0</td>\n",
       "      <td>13.9</td>\n",
       "      <td>-0.3</td>\n",
       "      <td>0.79</td>\n",
       "    </tr>\n",
       "    <tr>\n",
       "      <th>4422</th>\n",
       "      <td>1</td>\n",
       "      <td>1</td>\n",
       "      <td>1</td>\n",
       "      <td>9</td>\n",
       "      <td>1</td>\n",
       "      <td>1</td>\n",
       "      <td>1</td>\n",
       "      <td>22</td>\n",
       "      <td>27</td>\n",
       "      <td>8</td>\n",
       "      <td>...</td>\n",
       "      <td>0</td>\n",
       "      <td>0</td>\n",
       "      <td>5</td>\n",
       "      <td>6</td>\n",
       "      <td>5</td>\n",
       "      <td>12.000000</td>\n",
       "      <td>0</td>\n",
       "      <td>9.4</td>\n",
       "      <td>-0.8</td>\n",
       "      <td>-3.12</td>\n",
       "    </tr>\n",
       "    <tr>\n",
       "      <th>4423</th>\n",
       "      <td>1</td>\n",
       "      <td>5</td>\n",
       "      <td>1</td>\n",
       "      <td>15</td>\n",
       "      <td>1</td>\n",
       "      <td>1</td>\n",
       "      <td>9</td>\n",
       "      <td>23</td>\n",
       "      <td>27</td>\n",
       "      <td>6</td>\n",
       "      <td>...</td>\n",
       "      <td>0</td>\n",
       "      <td>0</td>\n",
       "      <td>6</td>\n",
       "      <td>6</td>\n",
       "      <td>6</td>\n",
       "      <td>13.000000</td>\n",
       "      <td>0</td>\n",
       "      <td>12.7</td>\n",
       "      <td>3.7</td>\n",
       "      <td>-1.70</td>\n",
       "    </tr>\n",
       "  </tbody>\n",
       "</table>\n",
       "<p>3630 rows × 34 columns</p>\n",
       "</div>"
      ],
      "text/plain": [
       "     Marital status Application mode Application order  Course  \\\n",
       "0                 1                8                 5       2   \n",
       "1                 1                6                 1      11   \n",
       "2                 1                1                 5       5   \n",
       "3                 1                8                 2      15   \n",
       "4                 2               12                 1       3   \n",
       "...             ...              ...               ...     ...   \n",
       "4419              1                1                 6      15   \n",
       "4420              1                1                 2      15   \n",
       "4421              1                1                 1      12   \n",
       "4422              1                1                 1       9   \n",
       "4423              1                5                 1      15   \n",
       "\n",
       "     Daytime/evening attendance Previous qualification Nacionality  \\\n",
       "0                             1                      1           1   \n",
       "1                             1                      1           1   \n",
       "2                             1                      1           1   \n",
       "3                             1                      1           1   \n",
       "4                             0                      1           1   \n",
       "...                         ...                    ...         ...   \n",
       "4419                          1                      1           1   \n",
       "4420                          1                      1          19   \n",
       "4421                          1                      1           1   \n",
       "4422                          1                      1           1   \n",
       "4423                          1                      1           9   \n",
       "\n",
       "     Mother's qualification Father's qualification Mother's occupation  ...  \\\n",
       "0                        13                     10                   6  ...   \n",
       "1                         1                      3                   4  ...   \n",
       "2                        22                     27                  10  ...   \n",
       "3                        23                     27                   6  ...   \n",
       "4                        22                     28                  10  ...   \n",
       "...                     ...                    ...                 ...  ...   \n",
       "4419                      1                      1                   6  ...   \n",
       "4420                      1                      1                  10  ...   \n",
       "4421                     22                     27                  10  ...   \n",
       "4422                     22                     27                   8  ...   \n",
       "4423                     23                     27                   6  ...   \n",
       "\n",
       "     Curricular units 1st sem (without evaluations)  \\\n",
       "0                                                 0   \n",
       "1                                                 0   \n",
       "2                                                 0   \n",
       "3                                                 0   \n",
       "4                                                 0   \n",
       "...                                             ...   \n",
       "4419                                              0   \n",
       "4420                                              0   \n",
       "4421                                              0   \n",
       "4422                                              0   \n",
       "4423                                              0   \n",
       "\n",
       "     Curricular units 2nd sem (credited) Curricular units 2nd sem (enrolled)  \\\n",
       "0                                      0                                   0   \n",
       "1                                      0                                   6   \n",
       "2                                      0                                   6   \n",
       "3                                      0                                   6   \n",
       "4                                      0                                   6   \n",
       "...                                  ...                                 ...   \n",
       "4419                                   0                                   6   \n",
       "4420                                   0                                   6   \n",
       "4421                                   0                                   8   \n",
       "4422                                   0                                   5   \n",
       "4423                                   0                                   6   \n",
       "\n",
       "     Curricular units 2nd sem (evaluations)  \\\n",
       "0                                         0   \n",
       "1                                         6   \n",
       "2                                         0   \n",
       "3                                        10   \n",
       "4                                         6   \n",
       "...                                     ...   \n",
       "4419                                      8   \n",
       "4420                                      6   \n",
       "4421                                      9   \n",
       "4422                                      6   \n",
       "4423                                      6   \n",
       "\n",
       "      Curricular units 2nd sem (approved) Curricular units 2nd sem (grade)  \\\n",
       "0                                       0                         0.000000   \n",
       "1                                       6                        13.666667   \n",
       "2                                       0                         0.000000   \n",
       "3                                       5                        12.400000   \n",
       "4                                       6                        13.000000   \n",
       "...                                   ...                              ...   \n",
       "4419                                    5                        12.666667   \n",
       "4420                                    2                        11.000000   \n",
       "4421                                    1                        13.500000   \n",
       "4422                                    5                        12.000000   \n",
       "4423                                    6                        13.000000   \n",
       "\n",
       "     Curricular units 2nd sem (without evaluations)  Unemployment rate  \\\n",
       "0                                                 0               10.8   \n",
       "1                                                 0               13.9   \n",
       "2                                                 0               10.8   \n",
       "3                                                 0                9.4   \n",
       "4                                                 0               13.9   \n",
       "...                                             ...                ...   \n",
       "4419                                              0               15.5   \n",
       "4420                                              0               11.1   \n",
       "4421                                              0               13.9   \n",
       "4422                                              0                9.4   \n",
       "4423                                              0               12.7   \n",
       "\n",
       "     Inflation rate   GDP  \n",
       "0               1.4  1.74  \n",
       "1              -0.3  0.79  \n",
       "2               1.4  1.74  \n",
       "3              -0.8 -3.12  \n",
       "4              -0.3  0.79  \n",
       "...             ...   ...  \n",
       "4419            2.8 -4.06  \n",
       "4420            0.6  2.02  \n",
       "4421           -0.3  0.79  \n",
       "4422           -0.8 -3.12  \n",
       "4423            3.7 -1.70  \n",
       "\n",
       "[3630 rows x 34 columns]"
      ]
     },
     "execution_count": 11,
     "metadata": {},
     "output_type": "execute_result"
    }
   ],
   "source": [
    "X=df.drop('Target', axis=1)\n",
    "X"
   ]
  },
  {
   "cell_type": "code",
   "execution_count": 12,
   "id": "862b970e",
   "metadata": {},
   "outputs": [
    {
     "data": {
      "text/html": [
       "<div>\n",
       "<style scoped>\n",
       "    .dataframe tbody tr th:only-of-type {\n",
       "        vertical-align: middle;\n",
       "    }\n",
       "\n",
       "    .dataframe tbody tr th {\n",
       "        vertical-align: top;\n",
       "    }\n",
       "\n",
       "    .dataframe thead th {\n",
       "        text-align: right;\n",
       "    }\n",
       "</style>\n",
       "<table border=\"1\" class=\"dataframe\">\n",
       "  <thead>\n",
       "    <tr style=\"text-align: right;\">\n",
       "      <th></th>\n",
       "      <th>Course</th>\n",
       "      <th>Tuition fees up to date</th>\n",
       "      <th>Age at enrollment</th>\n",
       "      <th>Curricular units 1st sem (credited)</th>\n",
       "      <th>Curricular units 1st sem (enrolled)</th>\n",
       "      <th>Curricular units 1st sem (evaluations)</th>\n",
       "      <th>Curricular units 1st sem (approved)</th>\n",
       "      <th>Curricular units 1st sem (grade)</th>\n",
       "      <th>Curricular units 1st sem (without evaluations)</th>\n",
       "      <th>Curricular units 2nd sem (credited)</th>\n",
       "      <th>...</th>\n",
       "      <th>Father's occupation_43</th>\n",
       "      <th>Father's occupation_44</th>\n",
       "      <th>Father's occupation_45</th>\n",
       "      <th>Father's occupation_46</th>\n",
       "      <th>Displaced_1</th>\n",
       "      <th>Educational special needs_1</th>\n",
       "      <th>Debtor_1</th>\n",
       "      <th>Gender_1</th>\n",
       "      <th>Scholarship holder_1</th>\n",
       "      <th>International_1</th>\n",
       "    </tr>\n",
       "  </thead>\n",
       "  <tbody>\n",
       "    <tr>\n",
       "      <th>0</th>\n",
       "      <td>2</td>\n",
       "      <td>1</td>\n",
       "      <td>20</td>\n",
       "      <td>0</td>\n",
       "      <td>0</td>\n",
       "      <td>0</td>\n",
       "      <td>0</td>\n",
       "      <td>0.000000</td>\n",
       "      <td>0</td>\n",
       "      <td>0</td>\n",
       "      <td>...</td>\n",
       "      <td>0</td>\n",
       "      <td>0</td>\n",
       "      <td>0</td>\n",
       "      <td>0</td>\n",
       "      <td>1</td>\n",
       "      <td>0</td>\n",
       "      <td>0</td>\n",
       "      <td>1</td>\n",
       "      <td>0</td>\n",
       "      <td>0</td>\n",
       "    </tr>\n",
       "    <tr>\n",
       "      <th>1</th>\n",
       "      <td>11</td>\n",
       "      <td>0</td>\n",
       "      <td>19</td>\n",
       "      <td>0</td>\n",
       "      <td>6</td>\n",
       "      <td>6</td>\n",
       "      <td>6</td>\n",
       "      <td>14.000000</td>\n",
       "      <td>0</td>\n",
       "      <td>0</td>\n",
       "      <td>...</td>\n",
       "      <td>0</td>\n",
       "      <td>0</td>\n",
       "      <td>0</td>\n",
       "      <td>0</td>\n",
       "      <td>1</td>\n",
       "      <td>0</td>\n",
       "      <td>0</td>\n",
       "      <td>1</td>\n",
       "      <td>0</td>\n",
       "      <td>0</td>\n",
       "    </tr>\n",
       "    <tr>\n",
       "      <th>2</th>\n",
       "      <td>5</td>\n",
       "      <td>0</td>\n",
       "      <td>19</td>\n",
       "      <td>0</td>\n",
       "      <td>6</td>\n",
       "      <td>0</td>\n",
       "      <td>0</td>\n",
       "      <td>0.000000</td>\n",
       "      <td>0</td>\n",
       "      <td>0</td>\n",
       "      <td>...</td>\n",
       "      <td>0</td>\n",
       "      <td>0</td>\n",
       "      <td>0</td>\n",
       "      <td>0</td>\n",
       "      <td>1</td>\n",
       "      <td>0</td>\n",
       "      <td>0</td>\n",
       "      <td>1</td>\n",
       "      <td>0</td>\n",
       "      <td>0</td>\n",
       "    </tr>\n",
       "    <tr>\n",
       "      <th>3</th>\n",
       "      <td>15</td>\n",
       "      <td>1</td>\n",
       "      <td>20</td>\n",
       "      <td>0</td>\n",
       "      <td>6</td>\n",
       "      <td>8</td>\n",
       "      <td>6</td>\n",
       "      <td>13.428571</td>\n",
       "      <td>0</td>\n",
       "      <td>0</td>\n",
       "      <td>...</td>\n",
       "      <td>0</td>\n",
       "      <td>0</td>\n",
       "      <td>0</td>\n",
       "      <td>0</td>\n",
       "      <td>1</td>\n",
       "      <td>0</td>\n",
       "      <td>0</td>\n",
       "      <td>0</td>\n",
       "      <td>0</td>\n",
       "      <td>0</td>\n",
       "    </tr>\n",
       "    <tr>\n",
       "      <th>4</th>\n",
       "      <td>3</td>\n",
       "      <td>1</td>\n",
       "      <td>45</td>\n",
       "      <td>0</td>\n",
       "      <td>6</td>\n",
       "      <td>9</td>\n",
       "      <td>5</td>\n",
       "      <td>12.333333</td>\n",
       "      <td>0</td>\n",
       "      <td>0</td>\n",
       "      <td>...</td>\n",
       "      <td>0</td>\n",
       "      <td>0</td>\n",
       "      <td>0</td>\n",
       "      <td>0</td>\n",
       "      <td>0</td>\n",
       "      <td>0</td>\n",
       "      <td>0</td>\n",
       "      <td>0</td>\n",
       "      <td>0</td>\n",
       "      <td>0</td>\n",
       "    </tr>\n",
       "  </tbody>\n",
       "</table>\n",
       "<p>5 rows × 227 columns</p>\n",
       "</div>"
      ],
      "text/plain": [
       "   Course  Tuition fees up to date  Age at enrollment  \\\n",
       "0       2                        1                 20   \n",
       "1      11                        0                 19   \n",
       "2       5                        0                 19   \n",
       "3      15                        1                 20   \n",
       "4       3                        1                 45   \n",
       "\n",
       "   Curricular units 1st sem (credited)  Curricular units 1st sem (enrolled)  \\\n",
       "0                                    0                                    0   \n",
       "1                                    0                                    6   \n",
       "2                                    0                                    6   \n",
       "3                                    0                                    6   \n",
       "4                                    0                                    6   \n",
       "\n",
       "   Curricular units 1st sem (evaluations)  \\\n",
       "0                                       0   \n",
       "1                                       6   \n",
       "2                                       0   \n",
       "3                                       8   \n",
       "4                                       9   \n",
       "\n",
       "   Curricular units 1st sem (approved)  Curricular units 1st sem (grade)  \\\n",
       "0                                    0                          0.000000   \n",
       "1                                    6                         14.000000   \n",
       "2                                    0                          0.000000   \n",
       "3                                    6                         13.428571   \n",
       "4                                    5                         12.333333   \n",
       "\n",
       "   Curricular units 1st sem (without evaluations)  \\\n",
       "0                                               0   \n",
       "1                                               0   \n",
       "2                                               0   \n",
       "3                                               0   \n",
       "4                                               0   \n",
       "\n",
       "   Curricular units 2nd sem (credited)  ...  Father's occupation_43  \\\n",
       "0                                    0  ...                       0   \n",
       "1                                    0  ...                       0   \n",
       "2                                    0  ...                       0   \n",
       "3                                    0  ...                       0   \n",
       "4                                    0  ...                       0   \n",
       "\n",
       "   Father's occupation_44  Father's occupation_45  Father's occupation_46  \\\n",
       "0                       0                       0                       0   \n",
       "1                       0                       0                       0   \n",
       "2                       0                       0                       0   \n",
       "3                       0                       0                       0   \n",
       "4                       0                       0                       0   \n",
       "\n",
       "   Displaced_1  Educational special needs_1  Debtor_1  Gender_1  \\\n",
       "0            1                            0         0         1   \n",
       "1            1                            0         0         1   \n",
       "2            1                            0         0         1   \n",
       "3            1                            0         0         0   \n",
       "4            0                            0         0         0   \n",
       "\n",
       "   Scholarship holder_1  International_1  \n",
       "0                     0                0  \n",
       "1                     0                0  \n",
       "2                     0                0  \n",
       "3                     0                0  \n",
       "4                     0                0  \n",
       "\n",
       "[5 rows x 227 columns]"
      ]
     },
     "execution_count": 12,
     "metadata": {},
     "output_type": "execute_result"
    }
   ],
   "source": [
    "X = pd.get_dummies(X, drop_first=True)\n",
    "X.head()"
   ]
  },
  {
   "cell_type": "code",
   "execution_count": 13,
   "id": "277dd34b",
   "metadata": {
    "execution": {
     "iopub.execute_input": "2023-08-02T20:43:11.983387Z",
     "iopub.status.busy": "2023-08-02T20:43:11.982975Z",
     "iopub.status.idle": "2023-08-02T20:43:11.988188Z",
     "shell.execute_reply": "2023-08-02T20:43:11.986867Z"
    },
    "papermill": {
     "duration": 0.026016,
     "end_time": "2023-08-02T20:43:11.990703",
     "exception": false,
     "start_time": "2023-08-02T20:43:11.964687",
     "status": "completed"
    },
    "tags": []
   },
   "outputs": [],
   "source": [
    "Y=df['Target']"
   ]
  },
  {
   "cell_type": "code",
   "execution_count": 14,
   "id": "53b5f937",
   "metadata": {},
   "outputs": [],
   "source": [
    "from sklearn.preprocessing import MinMaxScaler"
   ]
  },
  {
   "cell_type": "code",
   "execution_count": 15,
   "id": "56762223",
   "metadata": {},
   "outputs": [
    {
     "data": {
      "text/plain": [
       "array([0.0625    , 1.        , 0.05660377, 0.        , 0.        ,\n",
       "       0.        , 0.        , 0.        , 0.        , 0.        ,\n",
       "       0.        , 0.        , 0.        , 0.        , 0.        ,\n",
       "       0.37209302, 0.48888889, 0.7661823 , 0.        , 0.        ,\n",
       "       0.        , 0.        , 0.        , 0.        , 0.        ,\n",
       "       0.        , 0.        , 0.        , 0.        , 1.        ,\n",
       "       0.        , 0.        , 0.        , 0.        , 0.        ,\n",
       "       0.        , 0.        , 0.        , 0.        , 0.        ,\n",
       "       0.        , 0.        , 0.        , 0.        , 1.        ,\n",
       "       0.        , 0.        , 1.        , 0.        , 0.        ,\n",
       "       0.        , 0.        , 0.        , 0.        , 0.        ,\n",
       "       0.        , 0.        , 0.        , 0.        , 0.        ,\n",
       "       0.        , 0.        , 0.        , 0.        , 0.        ,\n",
       "       0.        , 0.        , 0.        , 0.        , 0.        ,\n",
       "       0.        , 0.        , 0.        , 0.        , 0.        ,\n",
       "       0.        , 0.        , 0.        , 0.        , 0.        ,\n",
       "       0.        , 0.        , 0.        , 0.        , 0.        ,\n",
       "       0.        , 0.        , 0.        , 0.        , 0.        ,\n",
       "       0.        , 0.        , 0.        , 0.        , 0.        ,\n",
       "       1.        , 0.        , 0.        , 0.        , 0.        ,\n",
       "       0.        , 0.        , 0.        , 0.        , 0.        ,\n",
       "       0.        , 0.        , 0.        , 0.        , 0.        ,\n",
       "       0.        , 0.        , 0.        , 0.        , 0.        ,\n",
       "       0.        , 0.        , 0.        , 0.        , 0.        ,\n",
       "       1.        , 0.        , 0.        , 0.        , 0.        ,\n",
       "       0.        , 0.        , 0.        , 0.        , 0.        ,\n",
       "       0.        , 0.        , 0.        , 0.        , 0.        ,\n",
       "       0.        , 0.        , 0.        , 0.        , 0.        ,\n",
       "       0.        , 0.        , 0.        , 0.        , 0.        ,\n",
       "       0.        , 0.        , 0.        , 0.        , 1.        ,\n",
       "       0.        , 0.        , 0.        , 0.        , 0.        ,\n",
       "       0.        , 0.        , 0.        , 0.        , 0.        ,\n",
       "       0.        , 0.        , 0.        , 0.        , 0.        ,\n",
       "       0.        , 0.        , 0.        , 0.        , 0.        ,\n",
       "       0.        , 0.        , 0.        , 0.        , 0.        ,\n",
       "       0.        , 0.        , 0.        , 0.        , 0.        ,\n",
       "       0.        , 0.        , 0.        , 0.        , 1.        ,\n",
       "       0.        , 0.        , 0.        , 0.        , 0.        ,\n",
       "       0.        , 0.        , 0.        , 0.        , 0.        ,\n",
       "       0.        , 0.        , 0.        , 0.        , 0.        ,\n",
       "       0.        , 0.        , 0.        , 0.        , 0.        ,\n",
       "       0.        , 0.        , 0.        , 0.        , 0.        ,\n",
       "       0.        , 0.        , 0.        , 0.        , 0.        ,\n",
       "       0.        , 0.        , 0.        , 0.        , 0.        ,\n",
       "       0.        , 1.        , 0.        , 0.        , 1.        ,\n",
       "       0.        , 0.        ])"
      ]
     },
     "execution_count": 15,
     "metadata": {},
     "output_type": "execute_result"
    }
   ],
   "source": [
    "std = MinMaxScaler()\n",
    "X=std.fit_transform(X)\n",
    "X[0]"
   ]
  },
  {
   "cell_type": "code",
   "execution_count": 16,
   "id": "3147307f",
   "metadata": {
    "execution": {
     "iopub.execute_input": "2023-08-02T20:43:12.026480Z",
     "iopub.status.busy": "2023-08-02T20:43:12.026094Z",
     "iopub.status.idle": "2023-08-02T20:43:12.306741Z",
     "shell.execute_reply": "2023-08-02T20:43:12.305641Z"
    },
    "papermill": {
     "duration": 0.302205,
     "end_time": "2023-08-02T20:43:12.309511",
     "exception": false,
     "start_time": "2023-08-02T20:43:12.007306",
     "status": "completed"
    },
    "tags": []
   },
   "outputs": [],
   "source": [
    "from sklearn.model_selection import train_test_split"
   ]
  },
  {
   "cell_type": "code",
   "execution_count": 17,
   "id": "7c031cb2",
   "metadata": {
    "execution": {
     "iopub.execute_input": "2023-08-02T20:43:12.345904Z",
     "iopub.status.busy": "2023-08-02T20:43:12.344732Z",
     "iopub.status.idle": "2023-08-02T20:43:12.353691Z",
     "shell.execute_reply": "2023-08-02T20:43:12.352544Z"
    },
    "papermill": {
     "duration": 0.030059,
     "end_time": "2023-08-02T20:43:12.356470",
     "exception": false,
     "start_time": "2023-08-02T20:43:12.326411",
     "status": "completed"
    },
    "tags": []
   },
   "outputs": [],
   "source": [
    "X_train, X_test, Y_train, Y_test= train_test_split(X, Y, test_size=0.33, random_state=42)"
   ]
  },
  {
   "cell_type": "code",
   "execution_count": 228,
   "id": "1eca4f41",
   "metadata": {
    "execution": {
     "iopub.execute_input": "2023-08-02T20:43:12.393429Z",
     "iopub.status.busy": "2023-08-02T20:43:12.392941Z",
     "iopub.status.idle": "2023-08-02T20:43:12.504883Z",
     "shell.execute_reply": "2023-08-02T20:43:12.503456Z"
    },
    "papermill": {
     "duration": 0.13443,
     "end_time": "2023-08-02T20:43:12.507914",
     "exception": false,
     "start_time": "2023-08-02T20:43:12.373484",
     "status": "completed"
    },
    "tags": []
   },
   "outputs": [],
   "source": [
    "from sklearn.linear_model import LogisticRegression"
   ]
  },
  {
   "cell_type": "code",
   "execution_count": 229,
   "id": "8e8c1f68",
   "metadata": {
    "execution": {
     "iopub.execute_input": "2023-08-02T20:43:12.545480Z",
     "iopub.status.busy": "2023-08-02T20:43:12.544794Z",
     "iopub.status.idle": "2023-08-02T20:43:12.673531Z",
     "shell.execute_reply": "2023-08-02T20:43:12.672345Z"
    },
    "papermill": {
     "duration": 0.153762,
     "end_time": "2023-08-02T20:43:12.678898",
     "exception": false,
     "start_time": "2023-08-02T20:43:12.525136",
     "status": "completed"
    },
    "tags": []
   },
   "outputs": [
    {
     "data": {
      "text/plain": [
       "LogisticRegression()"
      ]
     },
     "execution_count": 229,
     "metadata": {},
     "output_type": "execute_result"
    }
   ],
   "source": [
    "logmodel=LogisticRegression()\n",
    "logmodel.fit(X_train, Y_train)"
   ]
  },
  {
   "cell_type": "code",
   "execution_count": 230,
   "id": "e9ae2967",
   "metadata": {
    "execution": {
     "iopub.execute_input": "2023-08-02T20:43:12.755461Z",
     "iopub.status.busy": "2023-08-02T20:43:12.753333Z",
     "iopub.status.idle": "2023-08-02T20:43:12.773510Z",
     "shell.execute_reply": "2023-08-02T20:43:12.771816Z"
    },
    "papermill": {
     "duration": 0.065234,
     "end_time": "2023-08-02T20:43:12.779928",
     "exception": false,
     "start_time": "2023-08-02T20:43:12.714694",
     "status": "completed"
    },
    "tags": []
   },
   "outputs": [],
   "source": [
    "predictions=logmodel.predict(X_test)"
   ]
  },
  {
   "cell_type": "code",
   "execution_count": 231,
   "id": "1b2bf785",
   "metadata": {},
   "outputs": [
    {
     "data": {
      "text/plain": [
       "array(['Graduate', 'Dropout', 'Dropout', ..., 'Graduate', 'Graduate',\n",
       "       'Graduate'], dtype=object)"
      ]
     },
     "execution_count": 231,
     "metadata": {},
     "output_type": "execute_result"
    }
   ],
   "source": [
    "predictions"
   ]
  },
  {
   "cell_type": "code",
   "execution_count": 232,
   "id": "6d1c9a05",
   "metadata": {
    "execution": {
     "iopub.execute_input": "2023-08-02T20:43:12.858954Z",
     "iopub.status.busy": "2023-08-02T20:43:12.858232Z",
     "iopub.status.idle": "2023-08-02T20:43:12.866536Z",
     "shell.execute_reply": "2023-08-02T20:43:12.864958Z"
    },
    "papermill": {
     "duration": 0.057762,
     "end_time": "2023-08-02T20:43:12.874682",
     "exception": false,
     "start_time": "2023-08-02T20:43:12.816920",
     "status": "completed"
    },
    "tags": []
   },
   "outputs": [],
   "source": [
    "from sklearn.metrics import classification_report"
   ]
  },
  {
   "cell_type": "code",
   "execution_count": 233,
   "id": "f55c384e",
   "metadata": {
    "execution": {
     "iopub.execute_input": "2023-08-02T20:43:12.919564Z",
     "iopub.status.busy": "2023-08-02T20:43:12.919154Z",
     "iopub.status.idle": "2023-08-02T20:43:12.936125Z",
     "shell.execute_reply": "2023-08-02T20:43:12.934934Z"
    },
    "papermill": {
     "duration": 0.038267,
     "end_time": "2023-08-02T20:43:12.938672",
     "exception": false,
     "start_time": "2023-08-02T20:43:12.900405",
     "status": "completed"
    },
    "tags": []
   },
   "outputs": [
    {
     "name": "stdout",
     "output_type": "stream",
     "text": [
      "              precision    recall  f1-score   support\n",
      "\n",
      "     Dropout       0.93      0.80      0.86       467\n",
      "    Graduate       0.88      0.96      0.92       731\n",
      "\n",
      "    accuracy                           0.90      1198\n",
      "   macro avg       0.90      0.88      0.89      1198\n",
      "weighted avg       0.90      0.90      0.90      1198\n",
      "\n"
     ]
    }
   ],
   "source": [
    "print(classification_report(Y_test, predictions))"
   ]
  },
  {
   "cell_type": "code",
   "execution_count": 18,
   "id": "97fe451a",
   "metadata": {},
   "outputs": [],
   "source": [
    "from sklearn.ensemble import RandomForestClassifier\n",
    "from sklearn.ensemble import RandomForestClassifier"
   ]
  },
  {
   "cell_type": "code",
   "execution_count": 19,
   "id": "96538a82",
   "metadata": {},
   "outputs": [
    {
     "data": {
      "text/plain": [
       "RandomForestClassifier()"
      ]
     },
     "execution_count": 19,
     "metadata": {},
     "output_type": "execute_result"
    }
   ],
   "source": [
    "logmodel1=RandomForestClassifier()\n",
    "logmodel1.fit(X_train, Y_train)"
   ]
  },
  {
   "cell_type": "code",
   "execution_count": 20,
   "id": "ab0e0092",
   "metadata": {},
   "outputs": [],
   "source": [
    "predictions1=logmodel1.predict(X_test)"
   ]
  },
  {
   "cell_type": "code",
   "execution_count": 21,
   "id": "a3155de0",
   "metadata": {},
   "outputs": [],
   "source": [
    "from sklearn.metrics import classification_report"
   ]
  },
  {
   "cell_type": "code",
   "execution_count": 22,
   "id": "095d3e26",
   "metadata": {},
   "outputs": [
    {
     "name": "stdout",
     "output_type": "stream",
     "text": [
      "              precision    recall  f1-score   support\n",
      "\n",
      "     Dropout       0.93      0.82      0.87       467\n",
      "    Graduate       0.89      0.96      0.92       731\n",
      "\n",
      "    accuracy                           0.90      1198\n",
      "   macro avg       0.91      0.89      0.90      1198\n",
      "weighted avg       0.91      0.90      0.90      1198\n",
      "\n"
     ]
    }
   ],
   "source": [
    "print(classification_report(Y_test, predictions1))"
   ]
  },
  {
   "cell_type": "code",
   "execution_count": 23,
   "id": "9f06a104",
   "metadata": {},
   "outputs": [],
   "source": [
    "from xgboost import XGBClassifier"
   ]
  },
  {
   "cell_type": "code",
   "execution_count": 24,
   "id": "31aeae0c",
   "metadata": {},
   "outputs": [],
   "source": [
    "bst = XGBClassifier(n_estimators=100)\n",
    "# fit model\n",
    "bst.fit(X_train, Y_train)\n",
    "# make predictions\n",
    "preds = bst.predict(X_test)"
   ]
  },
  {
   "cell_type": "code",
   "execution_count": 25,
   "id": "75afbd7a",
   "metadata": {
    "scrolled": true
   },
   "outputs": [
    {
     "name": "stdout",
     "output_type": "stream",
     "text": [
      "              precision    recall  f1-score   support\n",
      "\n",
      "           0       0.91      0.85      0.88       467\n",
      "           1       0.91      0.95      0.93       731\n",
      "\n",
      "    accuracy                           0.91      1198\n",
      "   macro avg       0.91      0.90      0.90      1198\n",
      "weighted avg       0.91      0.91      0.91      1198\n",
      "\n"
     ]
    }
   ],
   "source": [
    "print(classification_report(Y_test, preds))"
   ]
  },
  {
   "cell_type": "code",
   "execution_count": 182,
   "id": "67645f7c",
   "metadata": {},
   "outputs": [],
   "source": [
    "\n",
    "imp = pd.DataFrame(index=logmodel1.feature_names_in_, columns=['values'])"
   ]
  },
  {
   "cell_type": "code",
   "execution_count": 183,
   "id": "f7c57b9d",
   "metadata": {},
   "outputs": [],
   "source": [
    "imp['values']=logmodel1.feature_importances_"
   ]
  },
  {
   "cell_type": "code",
   "execution_count": 184,
   "id": "800546ea",
   "metadata": {},
   "outputs": [
    {
     "data": {
      "text/html": [
       "<div>\n",
       "<style scoped>\n",
       "    .dataframe tbody tr th:only-of-type {\n",
       "        vertical-align: middle;\n",
       "    }\n",
       "\n",
       "    .dataframe tbody tr th {\n",
       "        vertical-align: top;\n",
       "    }\n",
       "\n",
       "    .dataframe thead th {\n",
       "        text-align: right;\n",
       "    }\n",
       "</style>\n",
       "<table border=\"1\" class=\"dataframe\">\n",
       "  <thead>\n",
       "    <tr style=\"text-align: right;\">\n",
       "      <th></th>\n",
       "      <th>values</th>\n",
       "    </tr>\n",
       "  </thead>\n",
       "  <tbody>\n",
       "    <tr>\n",
       "      <th>Marital status</th>\n",
       "      <td>0.002074</td>\n",
       "    </tr>\n",
       "    <tr>\n",
       "      <th>Application mode</th>\n",
       "      <td>0.019625</td>\n",
       "    </tr>\n",
       "    <tr>\n",
       "      <th>Application order</th>\n",
       "      <td>0.011800</td>\n",
       "    </tr>\n",
       "    <tr>\n",
       "      <th>Course</th>\n",
       "      <td>0.026430</td>\n",
       "    </tr>\n",
       "    <tr>\n",
       "      <th>Daytime/evening attendance</th>\n",
       "      <td>0.002285</td>\n",
       "    </tr>\n",
       "  </tbody>\n",
       "</table>\n",
       "</div>"
      ],
      "text/plain": [
       "                              values\n",
       "Marital status              0.002074\n",
       "Application mode            0.019625\n",
       "Application order           0.011800\n",
       "Course                      0.026430\n",
       "Daytime/evening attendance  0.002285"
      ]
     },
     "execution_count": 184,
     "metadata": {},
     "output_type": "execute_result"
    }
   ],
   "source": [
    "imp.head()"
   ]
  },
  {
   "cell_type": "code",
   "execution_count": 185,
   "id": "9d5d9afd",
   "metadata": {},
   "outputs": [],
   "source": [
    "import seaborn as sns"
   ]
  },
  {
   "cell_type": "code",
   "execution_count": 186,
   "id": "da5fd60b",
   "metadata": {},
   "outputs": [
    {
     "data": {
      "text/html": [
       "<div>\n",
       "<style scoped>\n",
       "    .dataframe tbody tr th:only-of-type {\n",
       "        vertical-align: middle;\n",
       "    }\n",
       "\n",
       "    .dataframe tbody tr th {\n",
       "        vertical-align: top;\n",
       "    }\n",
       "\n",
       "    .dataframe thead th {\n",
       "        text-align: right;\n",
       "    }\n",
       "</style>\n",
       "<table border=\"1\" class=\"dataframe\">\n",
       "  <thead>\n",
       "    <tr style=\"text-align: right;\">\n",
       "      <th></th>\n",
       "      <th>values</th>\n",
       "    </tr>\n",
       "  </thead>\n",
       "  <tbody>\n",
       "    <tr>\n",
       "      <th>Curricular units 2nd sem (approved)</th>\n",
       "      <td>0.225078</td>\n",
       "    </tr>\n",
       "    <tr>\n",
       "      <th>Curricular units 2nd sem (grade)</th>\n",
       "      <td>0.129219</td>\n",
       "    </tr>\n",
       "    <tr>\n",
       "      <th>Curricular units 1st sem (approved)</th>\n",
       "      <td>0.122548</td>\n",
       "    </tr>\n",
       "    <tr>\n",
       "      <th>Curricular units 1st sem (grade)</th>\n",
       "      <td>0.066236</td>\n",
       "    </tr>\n",
       "    <tr>\n",
       "      <th>Tuition fees up to date</th>\n",
       "      <td>0.058464</td>\n",
       "    </tr>\n",
       "    <tr>\n",
       "      <th>Age at enrollment</th>\n",
       "      <td>0.036082</td>\n",
       "    </tr>\n",
       "    <tr>\n",
       "      <th>Curricular units 2nd sem (evaluations)</th>\n",
       "      <td>0.033399</td>\n",
       "    </tr>\n",
       "    <tr>\n",
       "      <th>Curricular units 1st sem (evaluations)</th>\n",
       "      <td>0.029690</td>\n",
       "    </tr>\n",
       "    <tr>\n",
       "      <th>Course</th>\n",
       "      <td>0.026430</td>\n",
       "    </tr>\n",
       "    <tr>\n",
       "      <th>Father's occupation</th>\n",
       "      <td>0.022158</td>\n",
       "    </tr>\n",
       "  </tbody>\n",
       "</table>\n",
       "</div>"
      ],
      "text/plain": [
       "                                          values\n",
       "Curricular units 2nd sem (approved)     0.225078\n",
       "Curricular units 2nd sem (grade)        0.129219\n",
       "Curricular units 1st sem (approved)     0.122548\n",
       "Curricular units 1st sem (grade)        0.066236\n",
       "Tuition fees up to date                 0.058464\n",
       "Age at enrollment                       0.036082\n",
       "Curricular units 2nd sem (evaluations)  0.033399\n",
       "Curricular units 1st sem (evaluations)  0.029690\n",
       "Course                                  0.026430\n",
       "Father's occupation                     0.022158"
      ]
     },
     "execution_count": 186,
     "metadata": {},
     "output_type": "execute_result"
    }
   ],
   "source": [
    "db = imp.sort_values(by='values', ascending=False)[:10]\n",
    "db"
   ]
  },
  {
   "cell_type": "code",
   "execution_count": 187,
   "id": "7436ba3c",
   "metadata": {},
   "outputs": [
    {
     "data": {
      "image/png": "[encoded data removed]",
      "text/plain": [
       "<Figure size 432x288 with 1 Axes>"
      ]
     },
     "metadata": {
      "needs_background": "light"
     },
     "output_type": "display_data"
    }
   ],
   "source": [
    "sns.barplot(x=db.index, y=db['values'])\n",
    "plt.xticks(rotation=90)\n",
    "plt.title('Feature Importance', fontsize=15)\n",
    "plt.xlabel(\"Features\")\n",
    "plt.ylabel('Importance')\n",
    "plt.savefig('Feature_Importance.png')\n",
    "plt.show()"
   ]
  },
  {
   "cell_type": "code",
   "execution_count": 27,
   "id": "5886ffa4",
   "metadata": {},
   "outputs": [],
   "source": [
    "from sklearn.metrics import confusion_matrix"
   ]
  },
  {
   "cell_type": "code",
   "execution_count": 234,
   "id": "da8b7fa3",
   "metadata": {},
   "outputs": [
    {
     "data": {
      "image/png": "[encoded data removed]",
      "text/plain": [
       "<Figure size 432x288 with 1 Axes>"
      ]
     },
     "metadata": {
      "needs_background": "light"
     },
     "output_type": "display_data"
    }
   ],
   "source": [
    "preds = logmodel.predict(X_test)\n",
    "sns.heatmap(confusion_matrix(Y_test, preds), cmap='Blues', fmt='g',annot=True, cbar=False, annot_kws={'fontsize':16})\n",
    "plt.xticks(ticks=[0.5, 1.5], labels=['Dropout', 'Graduate'])\n",
    "plt.yticks(ticks=[0.5, 1.5], labels=['Dropout', 'Graduate'])\n",
    "plt.xlabel('Predicted')\n",
    "plt.ylabel('Actual')\n",
    "plt.title('Confusion Matrix Logistics', fontsize=20)\n",
    "plt.savefig('Confusion_Matrix.png')\n",
    "plt.show()"
   ]
  },
  {
   "cell_type": "code",
   "execution_count": 249,
   "id": "ffd0e801",
   "metadata": {},
   "outputs": [
    {
     "data": {
      "image/png": "[encoded data removed]",
      "text/plain": [
       "<Figure size 432x288 with 1 Axes>"
      ]
     },
     "metadata": {
      "needs_background": "light"
     },
     "output_type": "display_data"
    }
   ],
   "source": [
    "preds = logmodel1.predict(X_test)\n",
    "sns.heatmap(confusion_matrix(Y_test, preds), cmap='Blues', fmt='g',annot=True, cbar=False, annot_kws={'fontsize':16})\n",
    "plt.xticks(ticks=[0.5, 1.5], labels=['Dropout', 'Graduate'])\n",
    "plt.yticks(ticks=[0.5, 1.5], labels=['Dropout', 'Graduate'])\n",
    "plt.xlabel('Predicted')\n",
    "plt.ylabel('Actual')\n",
    "plt.title('Confusion Matrix Random Forest', fontsize=20)\n",
    "plt.savefig('Confusion_Matrix.png')\n",
    "plt.show()"
   ]
  },
  {
   "cell_type": "code",
   "execution_count": 28,
   "id": "47939f7b",
   "metadata": {},
   "outputs": [
    {
     "data": {
      "image/png": "[encoded data removed]",
      "text/plain": [
       "<Figure size 432x288 with 1 Axes>"
      ]
     },
     "metadata": {
      "needs_background": "light"
     },
     "output_type": "display_data"
    }
   ],
   "source": [
    "preds = bst.predict(X_test)\n",
    "sns.heatmap(confusion_matrix(Y_test, preds), cmap='Blues', fmt='g',annot=True, cbar=False, annot_kws={'fontsize':16})\n",
    "plt.xticks(ticks=[0.5, 1.5], labels=['Dropout', 'Graduate'])\n",
    "plt.yticks(ticks=[0.5, 1.5], labels=['Dropout', 'Graduate'])\n",
    "plt.xlabel('Predicted')\n",
    "plt.ylabel('Actual')\n",
    "plt.title('Confusion Matrix XGB', fontsize=20)\n",
    "plt.savefig('Confusion_MatrixXGB.png')\n",
    "plt.show()"
   ]
  },
  {
   "cell_type": "code",
   "execution_count": 70,
   "id": "7dfca10e",
   "metadata": {},
   "outputs": [],
   "source": [
    "from sklearn.metrics import roc_curve, roc_auc_score\n",
    "pred_p = logmodel.predict(X_test)"
   ]
  },
  {
   "cell_type": "code",
   "execution_count": 68,
   "id": "727079ae",
   "metadata": {},
   "outputs": [
    {
     "data": {
      "text/plain": [
       "847     1\n",
       "3927    0\n",
       "524     0\n",
       "223     1\n",
       "3198    0\n",
       "       ..\n",
       "3885    1\n",
       "4077    0\n",
       "3375    1\n",
       "4405    1\n",
       "1320    1\n",
       "Name: Target, Length: 1198, dtype: int64"
      ]
     },
     "execution_count": 68,
     "metadata": {},
     "output_type": "execute_result"
    }
   ],
   "source": [
    "Y_test"
   ]
  },
  {
   "cell_type": "code",
   "execution_count": 72,
   "id": "33b2bffe",
   "metadata": {},
   "outputs": [
    {
     "data": {
      "text/plain": [
       "0.8972470318738521"
      ]
     },
     "execution_count": 72,
     "metadata": {},
     "output_type": "execute_result"
    }
   ],
   "source": [
    "fpr, tpr, threshold = roc_curve(Y_test, pred_p)\n",
    "score = roc_auc_score(Y_test, pred_p)\n",
    "score"
   ]
  },
  {
   "cell_type": "code",
   "execution_count": 106,
   "id": "6555f68d",
   "metadata": {},
   "outputs": [],
   "source": [
    "pred_p1 = logmodel.predict(X_test)\n",
    "fpr1, tpr1, threshold1 = roc_curve(Y_test, pred_p1)\n",
    "score1 = roc_auc_score(Y_test, pred_p1)\n",
    "pred_p2 = bst.predict(X_test)\n",
    "fpr2, tpr2, threshold2 = roc_curve(Y_test, pred_p2)\n",
    "score2 = roc_auc_score(Y_test, pred_p2)"
   ]
  },
  {
   "cell_type": "code",
   "execution_count": 109,
   "id": "d1b70248",
   "metadata": {},
   "outputs": [
    {
     "data": {
      "image/png": "[encoded data removed]",
      "text/plain": [
       "<Figure size 432x288 with 1 Axes>"
      ]
     },
     "metadata": {
      "needs_background": "light"
     },
     "output_type": "display_data"
    }
   ],
   "source": [
    "plt.plot([0, 1], [0,1], 'k--', label='Baseline = 0.5')\n",
    "plt.plot(fpr,tpr, label = 'RandomForest = '+str(round(score, 4)))\n",
    "plt.plot(fpr1,tpr1, label = 'Logistic Regression = '+str(round(score1, 4)))\n",
    "plt.plot(fpr2,tpr2, label = 'XGBoost = '+str(round(score2, 4)))\n",
    "plt.legend()\n",
    "plt.xlabel('FPR')\n",
    "plt.ylabel(\"TPR\")\n",
    "plt.title(\"ROC Curve\", fontsize=20)\n",
    "plt.savefig(\"ROC_Curve.png\")\n",
    "plt.show()"
   ]
  },
  {
   "cell_type": "code",
   "execution_count": null,
   "id": "c982e3a3",
   "metadata": {},
   "outputs": [],
   "source": []
  },
  {
   "cell_type": "code",
   "execution_count": null,
   "id": "ddee86f9",
   "metadata": {},
   "outputs": [],
   "source": []
  },
  {
   "cell_type": "code",
   "execution_count": 80,
   "id": "fc9c9949",
   "metadata": {},
   "outputs": [],
   "source": [
    "from sklearn.neural_network import MLPClassifier"
   ]
  },
  {
   "cell_type": "code",
   "execution_count": 81,
   "id": "13fbf5b5",
   "metadata": {},
   "outputs": [],
   "source": [
    "bst = MLPClassifier(hidden_layer_sizes=(2500))\n",
    "# fit model\n",
    "bst.fit(X_train, Y_train)\n",
    "# make predictions\n",
    "preds = bst.predict(X_test)"
   ]
  },
  {
   "cell_type": "code",
   "execution_count": 82,
   "id": "e9bcb4df",
   "metadata": {
    "scrolled": true
   },
   "outputs": [
    {
     "name": "stdout",
     "output_type": "stream",
     "text": [
      "              precision    recall  f1-score   support\n",
      "\n",
      "     Dropout       0.89      0.81      0.85       467\n",
      "    Graduate       0.88      0.93      0.91       731\n",
      "\n",
      "    accuracy                           0.88      1198\n",
      "   macro avg       0.88      0.87      0.88      1198\n",
      "weighted avg       0.88      0.88      0.88      1198\n",
      "\n"
     ]
    }
   ],
   "source": [
    "print(classification_report(Y_test, preds))"
   ]
  },
  {
   "cell_type": "code",
   "execution_count": 36,
   "id": "cb2c535f",
   "metadata": {},
   "outputs": [],
   "source": [
    "import tensorflow as tf\n",
    "import tensorflow.keras as keras"
   ]
  },
  {
   "cell_type": "code",
   "execution_count": 59,
   "id": "4efc2235",
   "metadata": {},
   "outputs": [
    {
     "name": "stdout",
     "output_type": "stream",
     "text": [
      "['Marital status', 'Application mode', 'Application order', 'Daytime/evening attendance', 'Previous qualification', 'Nacionality', \"Mother's qualification\", \"Father's qualification\", \"Mother's occupation\", \"Father's occupation\", 'Displaced', 'Educational special needs', 'Debtor', 'Gender', 'Scholarship holder', 'International']\n"
     ]
    }
   ],
   "source": [
    "df[list(df.select_dtypes(include = 'object').columns)] = df[list(df.select_dtypes(include = 'object').columns)].astype('string')\n",
    "\n",
    "TARGET_FEATURE_NAME = \"Target\"\n",
    "CATEGORICAL_FEATURES = list(df.select_dtypes(include = 'category').columns)\n",
    "NUMERIC_FEATURES =  list(df.select_dtypes(exclude = 'category').columns)[1:]\n",
    "FEATURE_NAMES = list(df.columns)\n",
    "\n",
    "print(CATEGORICAL_FEATURES)\n",
    "CATEGORICAL_FEATURES_WITH_VOCABULARY = {\n",
    "    'Marital status': sorted(list(df['Marital status'].unique())),\n",
    "    'Application mode': sorted(list(df['Application mode'].unique())),\n",
    "    'Application order': sorted(list(df['Application order'].unique())),\n",
    "    'Daytime/evening attendance': sorted(list(df['Daytime/evening attendance'].unique())),\n",
    "    'Previous qualification': sorted(list(df['Previous qualification'].unique())),\n",
    "    'Nacionality': sorted(list(df['Nacionality'].unique())),\n",
    "    \"Mother's qualification\": sorted(list(df[\"Mother's qualification\"].unique())),\n",
    "    \"Father's qualification\": sorted(list(df[\"Father's qualification\"].unique())),\n",
    "    \"Mother's occupation\": sorted(list(df[\"Mother's occupation\"].unique())),\n",
    "     \"Father's occupation\": sorted(list(df[ \"Father's occupation\"].unique())),\n",
    "    'Displaced': sorted(list(df['Displaced'].unique())),\n",
    "    'Educational special needs': sorted(list(df['Educational special needs'].unique())),\n",
    "    'Debtor': sorted(list(df['Debtor'].unique())),\n",
    "    'Gender': sorted(list(df['Gender'].unique())),\n",
    "    'Scholarship holder': sorted(list(df['Scholarship holder'].unique())),\n",
    "    'International': sorted(list(df['International'].unique())),\n",
    "\n",
    "}"
   ]
  },
  {
   "cell_type": "code",
   "execution_count": 60,
   "id": "8cf94c89",
   "metadata": {},
   "outputs": [],
   "source": [
    "train,test = train_test_split(df,random_state = 42)\n",
    "train.to_csv('train_dataset.csv',index = False, header = False)\n",
    "test.to_csv('test_dataset.csv',index = False, header = False)"
   ]
  },
  {
   "cell_type": "code",
   "execution_count": 61,
   "id": "e30362f1",
   "metadata": {},
   "outputs": [],
   "source": [
    "BATCH_SIZE = 64\n",
    "\n",
    "train_ds = tf.data.experimental.make_csv_dataset(\"./train_dataset.csv\",\n",
    "                                                batch_size = BATCH_SIZE,\n",
    "                                                column_names = FEATURE_NAMES,\n",
    "                                                label_name = TARGET_FEATURE_NAME,\n",
    "                                                num_epochs = 2,\n",
    "                                                header = False,\n",
    "                                                 shuffle = True\n",
    "                                                )\n",
    "test_ds = tf.data.experimental.make_csv_dataset(\"./test_dataset.csv\",\n",
    "                                                batch_size = BATCH_SIZE,\n",
    "                                                column_names = FEATURE_NAMES,\n",
    "                                                label_name = TARGET_FEATURE_NAME,\n",
    "                                                num_epochs = 1,\n",
    "                                                header = False,\n",
    "                                                )"
   ]
  },
  {
   "cell_type": "code",
   "execution_count": 62,
   "id": "b88f87f0",
   "metadata": {},
   "outputs": [
    {
     "data": {
      "text/html": [
       "<div>\n",
       "<style scoped>\n",
       "    .dataframe tbody tr th:only-of-type {\n",
       "        vertical-align: middle;\n",
       "    }\n",
       "\n",
       "    .dataframe tbody tr th {\n",
       "        vertical-align: top;\n",
       "    }\n",
       "\n",
       "    .dataframe thead th {\n",
       "        text-align: right;\n",
       "    }\n",
       "</style>\n",
       "<table border=\"1\" class=\"dataframe\">\n",
       "  <thead>\n",
       "    <tr style=\"text-align: right;\">\n",
       "      <th></th>\n",
       "      <th>Marital status</th>\n",
       "      <th>Application mode</th>\n",
       "      <th>Application order</th>\n",
       "      <th>Course</th>\n",
       "      <th>Daytime/evening attendance</th>\n",
       "      <th>Previous qualification</th>\n",
       "      <th>Nacionality</th>\n",
       "      <th>Mother's qualification</th>\n",
       "      <th>Father's qualification</th>\n",
       "      <th>Mother's occupation</th>\n",
       "      <th>...</th>\n",
       "      <th>Curricular units 2nd sem (credited)</th>\n",
       "      <th>Curricular units 2nd sem (enrolled)</th>\n",
       "      <th>Curricular units 2nd sem (evaluations)</th>\n",
       "      <th>Curricular units 2nd sem (approved)</th>\n",
       "      <th>Curricular units 2nd sem (grade)</th>\n",
       "      <th>Curricular units 2nd sem (without evaluations)</th>\n",
       "      <th>Unemployment rate</th>\n",
       "      <th>Inflation rate</th>\n",
       "      <th>GDP</th>\n",
       "      <th>Target</th>\n",
       "    </tr>\n",
       "  </thead>\n",
       "  <tbody>\n",
       "    <tr>\n",
       "      <th>2157</th>\n",
       "      <td>1</td>\n",
       "      <td>15</td>\n",
       "      <td>1</td>\n",
       "      <td>6</td>\n",
       "      <td>1</td>\n",
       "      <td>14</td>\n",
       "      <td>1</td>\n",
       "      <td>22</td>\n",
       "      <td>14</td>\n",
       "      <td>10</td>\n",
       "      <td>...</td>\n",
       "      <td>1</td>\n",
       "      <td>6</td>\n",
       "      <td>7</td>\n",
       "      <td>6</td>\n",
       "      <td>13.142857</td>\n",
       "      <td>0</td>\n",
       "      <td>16.2</td>\n",
       "      <td>0.3</td>\n",
       "      <td>-0.92</td>\n",
       "      <td>1</td>\n",
       "    </tr>\n",
       "    <tr>\n",
       "      <th>3319</th>\n",
       "      <td>1</td>\n",
       "      <td>7</td>\n",
       "      <td>2</td>\n",
       "      <td>5</td>\n",
       "      <td>1</td>\n",
       "      <td>1</td>\n",
       "      <td>1</td>\n",
       "      <td>1</td>\n",
       "      <td>1</td>\n",
       "      <td>4</td>\n",
       "      <td>...</td>\n",
       "      <td>0</td>\n",
       "      <td>6</td>\n",
       "      <td>7</td>\n",
       "      <td>6</td>\n",
       "      <td>12.000000</td>\n",
       "      <td>0</td>\n",
       "      <td>9.4</td>\n",
       "      <td>-0.8</td>\n",
       "      <td>-3.12</td>\n",
       "      <td>1</td>\n",
       "    </tr>\n",
       "    <tr>\n",
       "      <th>3541</th>\n",
       "      <td>1</td>\n",
       "      <td>8</td>\n",
       "      <td>1</td>\n",
       "      <td>14</td>\n",
       "      <td>1</td>\n",
       "      <td>1</td>\n",
       "      <td>1</td>\n",
       "      <td>23</td>\n",
       "      <td>27</td>\n",
       "      <td>10</td>\n",
       "      <td>...</td>\n",
       "      <td>0</td>\n",
       "      <td>6</td>\n",
       "      <td>9</td>\n",
       "      <td>2</td>\n",
       "      <td>13.000000</td>\n",
       "      <td>0</td>\n",
       "      <td>10.8</td>\n",
       "      <td>1.4</td>\n",
       "      <td>1.74</td>\n",
       "      <td>0</td>\n",
       "    </tr>\n",
       "    <tr>\n",
       "      <th>3182</th>\n",
       "      <td>1</td>\n",
       "      <td>14</td>\n",
       "      <td>1</td>\n",
       "      <td>3</td>\n",
       "      <td>0</td>\n",
       "      <td>1</td>\n",
       "      <td>3</td>\n",
       "      <td>19</td>\n",
       "      <td>24</td>\n",
       "      <td>1</td>\n",
       "      <td>...</td>\n",
       "      <td>6</td>\n",
       "      <td>10</td>\n",
       "      <td>20</td>\n",
       "      <td>8</td>\n",
       "      <td>11.142857</td>\n",
       "      <td>0</td>\n",
       "      <td>9.4</td>\n",
       "      <td>-0.8</td>\n",
       "      <td>-3.12</td>\n",
       "      <td>1</td>\n",
       "    </tr>\n",
       "    <tr>\n",
       "      <th>2839</th>\n",
       "      <td>1</td>\n",
       "      <td>1</td>\n",
       "      <td>2</td>\n",
       "      <td>6</td>\n",
       "      <td>1</td>\n",
       "      <td>1</td>\n",
       "      <td>1</td>\n",
       "      <td>23</td>\n",
       "      <td>14</td>\n",
       "      <td>5</td>\n",
       "      <td>...</td>\n",
       "      <td>0</td>\n",
       "      <td>6</td>\n",
       "      <td>6</td>\n",
       "      <td>6</td>\n",
       "      <td>15.500000</td>\n",
       "      <td>0</td>\n",
       "      <td>8.9</td>\n",
       "      <td>1.4</td>\n",
       "      <td>3.51</td>\n",
       "      <td>1</td>\n",
       "    </tr>\n",
       "  </tbody>\n",
       "</table>\n",
       "<p>5 rows × 35 columns</p>\n",
       "</div>"
      ],
      "text/plain": [
       "     Marital status Application mode Application order  Course  \\\n",
       "2157              1               15                 1       6   \n",
       "3319              1                7                 2       5   \n",
       "3541              1                8                 1      14   \n",
       "3182              1               14                 1       3   \n",
       "2839              1                1                 2       6   \n",
       "\n",
       "     Daytime/evening attendance Previous qualification Nacionality  \\\n",
       "2157                          1                     14           1   \n",
       "3319                          1                      1           1   \n",
       "3541                          1                      1           1   \n",
       "3182                          0                      1           3   \n",
       "2839                          1                      1           1   \n",
       "\n",
       "     Mother's qualification Father's qualification Mother's occupation  ...  \\\n",
       "2157                     22                     14                  10  ...   \n",
       "3319                      1                      1                   4  ...   \n",
       "3541                     23                     27                  10  ...   \n",
       "3182                     19                     24                   1  ...   \n",
       "2839                     23                     14                   5  ...   \n",
       "\n",
       "     Curricular units 2nd sem (credited) Curricular units 2nd sem (enrolled)  \\\n",
       "2157                                   1                                   6   \n",
       "3319                                   0                                   6   \n",
       "3541                                   0                                   6   \n",
       "3182                                   6                                  10   \n",
       "2839                                   0                                   6   \n",
       "\n",
       "     Curricular units 2nd sem (evaluations)  \\\n",
       "2157                                      7   \n",
       "3319                                      7   \n",
       "3541                                      9   \n",
       "3182                                     20   \n",
       "2839                                      6   \n",
       "\n",
       "     Curricular units 2nd sem (approved)  Curricular units 2nd sem (grade)  \\\n",
       "2157                                   6                         13.142857   \n",
       "3319                                   6                         12.000000   \n",
       "3541                                   2                         13.000000   \n",
       "3182                                   8                         11.142857   \n",
       "2839                                   6                         15.500000   \n",
       "\n",
       "     Curricular units 2nd sem (without evaluations) Unemployment rate  \\\n",
       "2157                                              0              16.2   \n",
       "3319                                              0               9.4   \n",
       "3541                                              0              10.8   \n",
       "3182                                              0               9.4   \n",
       "2839                                              0               8.9   \n",
       "\n",
       "      Inflation rate   GDP  Target  \n",
       "2157             0.3 -0.92       1  \n",
       "3319            -0.8 -3.12       1  \n",
       "3541             1.4  1.74       0  \n",
       "3182            -0.8 -3.12       1  \n",
       "2839             1.4  3.51       1  \n",
       "\n",
       "[5 rows x 35 columns]"
      ]
     },
     "execution_count": 62,
     "metadata": {},
     "output_type": "execute_result"
    }
   ],
   "source": [
    "df_train, df_test= train_test_split(df, test_size=0.33, random_state=42)\n",
    "df_train.head()"
   ]
  },
  {
   "cell_type": "code",
   "execution_count": 63,
   "id": "d6238043",
   "metadata": {},
   "outputs": [],
   "source": [
    "def create_inputs():\n",
    "    inputs = {}\n",
    "    for feature_name in FEATURE_NAMES:\n",
    "        if feature_name in NUMERIC_FEATURES:\n",
    "            inputs[feature_name] = layers.Input(shape = (), dtype = tf.float32, name = feature_name)\n",
    "        elif feature_name in CATEGORICAL_FEATURES:\n",
    "            inputs[feature_name] = layers.Input(shape = (), dtype = tf.string, name = feature_name)\n",
    "    return inputs\n",
    "\n",
    "def encode_features(inputs):\n",
    "    encoded_features = []\n",
    "    for feature_name in FEATURE_NAMES:\n",
    "        if feature_name in NUMERIC_FEATURES:\n",
    "            encoded_feature = tf.expand_dims(inputs[feature_name],-1)\n",
    "        elif feature_name in CATEGORICAL_FEATURES:\n",
    "            vocab = CATEGORICAL_FEATURES_WITH_VOCABULARY[feature_name]\n",
    "            lookup = layers.StringLookup(vocabulary = vocab, output_mode = \"one_hot\")\n",
    "            encoded_feature = lookup(inputs[feature_name])\n",
    "        else:\n",
    "            continue\n",
    "        encoded_features.append(encoded_feature)\n",
    "    \n",
    "    return encoded_features"
   ]
  },
  {
   "cell_type": "code",
   "execution_count": 64,
   "id": "a2c89234",
   "metadata": {},
   "outputs": [],
   "source": [
    "class NeuralDecisionTree(keras.Model):\n",
    "    def __init__(self,depth,num_features,used_features_rate,num_classes):\n",
    "        super(NeuralDecisionTree, self).__init__()\n",
    "        self.depth = depth\n",
    "        self.num_leaves = 2**depth\n",
    "        self.num_classes = num_classes\n",
    "        self.step_counter = 1\n",
    "        num_used_features = int(num_features * used_features_rate)\n",
    "        one_hot = np.eye(num_features)\n",
    "        sampled_feature_indices = np.random.choice(np.arange(num_features), num_used_features, replace = False)\n",
    "        self.used_features_mask = one_hot[sampled_feature_indices]\n",
    "        \n",
    "        self.pi = tf.Variable(\n",
    "        initial_value = tf.random_normal_initializer()(\n",
    "        shape = [self.num_leaves,self.num_classes]),\n",
    "            dtype = tf.float32,\n",
    "            trainable = True)\n",
    "        \n",
    "        self.decision_fn = layers.Dense(units = self.num_leaves,\n",
    "        activation = \"sigmoid\",name = \"decision\")\n",
    "        \n",
    "    def call(self,features):\n",
    "\n",
    "        batch_size = tf.shape(features)[0]\n",
    "        features = tf.matmul(\n",
    "        features,self.used_features_mask,transpose_b = True)\n",
    "       \n",
    "\n",
    "        decisions = tf.expand_dims(\n",
    "            self.decision_fn(features),axis = 2\n",
    "        )\n",
    "\n",
    "        decisions = layers.concatenate(\n",
    "            [decisions,1-decisions], axis = 2\n",
    "        )\n",
    "\n",
    "        \n",
    "        mu = tf.ones([batch_size,1,1])\n",
    "        \n",
    "\n",
    "        begin_idx = 1\n",
    "        end_idx = 2\n",
    "\n",
    "        \n",
    "        for level in range(self.depth):\n",
    "            mu = tf.reshape(mu,[batch_size,-1,1])\n",
    "            mu = tf.tile(mu,(1,1,2))\n",
    "            level_decisions = decisions[\n",
    "                :,begin_idx:end_idx,:\n",
    "            ]\n",
    "            mu = mu * level_decisions\n",
    "            begin_idx = end_idx\n",
    "            end_idx = begin_idx + 2**(level+1)\n",
    "        \n",
    "        mu = tf.reshape(mu,[batch_size,self.num_leaves])\n",
    "       \n",
    "\n",
    "        probabilities = keras.activations.sigmoid(self.pi)\n",
    "       \n",
    "        outputs = tf.matmul(mu,probabilities)\n",
    "        \n",
    "    \n",
    "        return outputs"
   ]
  },
  {
   "cell_type": "code",
   "execution_count": 66,
   "id": "aac1ac6e",
   "metadata": {},
   "outputs": [
    {
     "name": "stderr",
     "output_type": "stream",
     "text": [
      "D:\\python\\lib\\site-packages\\numpy\\core\\numeric.py:2446: FutureWarning: elementwise comparison failed; returning scalar instead, but in the future will perform elementwise comparison\n",
      "  return bool(asarray(a1 == a2).all())\n"
     ]
    },
    {
     "ename": "ValueError",
     "evalue": "Failed to convert a NumPy array to a Tensor (Unsupported object type int).",
     "output_type": "error",
     "traceback": [
      "\u001b[1;31m---------------------------------------------------------------------------\u001b[0m",
      "\u001b[1;31mValueError\u001b[0m                                Traceback (most recent call last)",
      "Input \u001b[1;32mIn [66]\u001b[0m, in \u001b[0;36m<cell line: 9>\u001b[1;34m()\u001b[0m\n\u001b[0;32m      2\u001b[0m neural_decision_params \u001b[38;5;241m=\u001b[39m {\n\u001b[0;32m      3\u001b[0m     \u001b[38;5;124m'\u001b[39m\u001b[38;5;124mdepth\u001b[39m\u001b[38;5;124m'\u001b[39m : \u001b[38;5;241m10\u001b[39m,\n\u001b[0;32m      4\u001b[0m \u001b[38;5;124m'\u001b[39m\u001b[38;5;124mnum_features\u001b[39m\u001b[38;5;124m'\u001b[39m : \u001b[38;5;241m28\u001b[39m,\n\u001b[0;32m      5\u001b[0m \u001b[38;5;124m'\u001b[39m\u001b[38;5;124mnum_classes\u001b[39m\u001b[38;5;124m'\u001b[39m : \u001b[38;5;241m2\u001b[39m,\n\u001b[0;32m      6\u001b[0m \u001b[38;5;124m'\u001b[39m\u001b[38;5;124mused_features_rate\u001b[39m\u001b[38;5;124m'\u001b[39m : \u001b[38;5;241m1.0\u001b[39m}\n\u001b[0;32m      8\u001b[0m inputs \u001b[38;5;241m=\u001b[39m create_inputs()\n\u001b[1;32m----> 9\u001b[0m encoded_features \u001b[38;5;241m=\u001b[39m \u001b[43mencode_features\u001b[49m\u001b[43m(\u001b[49m\u001b[43minputs\u001b[49m\u001b[43m)\u001b[49m\n\u001b[0;32m     10\u001b[0m features \u001b[38;5;241m=\u001b[39m layers\u001b[38;5;241m.\u001b[39mconcatenate(encoded_features)\n\u001b[0;32m     11\u001b[0m outputs \u001b[38;5;241m=\u001b[39m NeuralDecisionTree(\u001b[38;5;241m*\u001b[39m\u001b[38;5;241m*\u001b[39mneural_decision_params)(features)\n",
      "Input \u001b[1;32mIn [63]\u001b[0m, in \u001b[0;36mencode_features\u001b[1;34m(inputs)\u001b[0m\n\u001b[0;32m     15\u001b[0m \u001b[38;5;28;01melif\u001b[39;00m feature_name \u001b[38;5;129;01min\u001b[39;00m CATEGORICAL_FEATURES:\n\u001b[0;32m     16\u001b[0m     vocab \u001b[38;5;241m=\u001b[39m CATEGORICAL_FEATURES_WITH_VOCABULARY[feature_name]\n\u001b[1;32m---> 17\u001b[0m     lookup \u001b[38;5;241m=\u001b[39m \u001b[43mlayers\u001b[49m\u001b[38;5;241;43m.\u001b[39;49m\u001b[43mStringLookup\u001b[49m\u001b[43m(\u001b[49m\u001b[43mvocabulary\u001b[49m\u001b[43m \u001b[49m\u001b[38;5;241;43m=\u001b[39;49m\u001b[43m \u001b[49m\u001b[43mvocab\u001b[49m\u001b[43m,\u001b[49m\u001b[43m \u001b[49m\u001b[43moutput_mode\u001b[49m\u001b[43m \u001b[49m\u001b[38;5;241;43m=\u001b[39;49m\u001b[43m \u001b[49m\u001b[38;5;124;43m\"\u001b[39;49m\u001b[38;5;124;43mone_hot\u001b[39;49m\u001b[38;5;124;43m\"\u001b[39;49m\u001b[43m)\u001b[49m\n\u001b[0;32m     18\u001b[0m     encoded_feature \u001b[38;5;241m=\u001b[39m lookup(inputs[feature_name])\n\u001b[0;32m     19\u001b[0m \u001b[38;5;28;01melse\u001b[39;00m:\n",
      "File \u001b[1;32m~\\AppData\\Roaming\\Python\\Python39\\site-packages\\keras\\layers\\preprocessing\\string_lookup.py:334\u001b[0m, in \u001b[0;36mStringLookup.__init__\u001b[1;34m(self, max_tokens, num_oov_indices, mask_token, oov_token, vocabulary, idf_weights, encoding, invert, output_mode, sparse, pad_to_max_tokens, **kwargs)\u001b[0m\n\u001b[0;32m    330\u001b[0m     encoding \u001b[38;5;241m=\u001b[39m \u001b[38;5;124m\"\u001b[39m\u001b[38;5;124mutf-8\u001b[39m\u001b[38;5;124m\"\u001b[39m\n\u001b[0;32m    332\u001b[0m \u001b[38;5;28mself\u001b[39m\u001b[38;5;241m.\u001b[39mencoding \u001b[38;5;241m=\u001b[39m encoding\n\u001b[1;32m--> 334\u001b[0m \u001b[38;5;28msuper\u001b[39m()\u001b[38;5;241m.\u001b[39m\u001b[38;5;21m__init__\u001b[39m(\n\u001b[0;32m    335\u001b[0m     max_tokens\u001b[38;5;241m=\u001b[39mmax_tokens,\n\u001b[0;32m    336\u001b[0m     num_oov_indices\u001b[38;5;241m=\u001b[39mnum_oov_indices,\n\u001b[0;32m    337\u001b[0m     mask_token\u001b[38;5;241m=\u001b[39mmask_token,\n\u001b[0;32m    338\u001b[0m     oov_token\u001b[38;5;241m=\u001b[39moov_token,\n\u001b[0;32m    339\u001b[0m     vocabulary\u001b[38;5;241m=\u001b[39mvocabulary,\n\u001b[0;32m    340\u001b[0m     vocabulary_dtype\u001b[38;5;241m=\u001b[39mtf\u001b[38;5;241m.\u001b[39mstring,\n\u001b[0;32m    341\u001b[0m     idf_weights\u001b[38;5;241m=\u001b[39midf_weights,\n\u001b[0;32m    342\u001b[0m     invert\u001b[38;5;241m=\u001b[39minvert,\n\u001b[0;32m    343\u001b[0m     output_mode\u001b[38;5;241m=\u001b[39moutput_mode,\n\u001b[0;32m    344\u001b[0m     sparse\u001b[38;5;241m=\u001b[39msparse,\n\u001b[0;32m    345\u001b[0m     pad_to_max_tokens\u001b[38;5;241m=\u001b[39mpad_to_max_tokens,\n\u001b[0;32m    346\u001b[0m     \u001b[38;5;241m*\u001b[39m\u001b[38;5;241m*\u001b[39mkwargs\n\u001b[0;32m    347\u001b[0m )\n\u001b[0;32m    348\u001b[0m base_preprocessing_layer\u001b[38;5;241m.\u001b[39mkeras_kpl_gauge\u001b[38;5;241m.\u001b[39mget_cell(\u001b[38;5;124m\"\u001b[39m\u001b[38;5;124mStringLookup\u001b[39m\u001b[38;5;124m\"\u001b[39m)\u001b[38;5;241m.\u001b[39mset(\n\u001b[0;32m    349\u001b[0m     \u001b[38;5;28;01mTrue\u001b[39;00m\n\u001b[0;32m    350\u001b[0m )\n",
      "File \u001b[1;32m~\\AppData\\Roaming\\Python\\Python39\\site-packages\\keras\\layers\\preprocessing\\index_lookup.py:319\u001b[0m, in \u001b[0;36mIndexLookup.__init__\u001b[1;34m(self, max_tokens, num_oov_indices, mask_token, oov_token, vocabulary_dtype, vocabulary, idf_weights, invert, output_mode, sparse, pad_to_max_tokens, **kwargs)\u001b[0m\n\u001b[0;32m    316\u001b[0m     \u001b[38;5;28mself\u001b[39m\u001b[38;5;241m.\u001b[39midf_weights_const \u001b[38;5;241m=\u001b[39m \u001b[38;5;28mself\u001b[39m\u001b[38;5;241m.\u001b[39midf_weights\u001b[38;5;241m.\u001b[39mvalue()\n\u001b[0;32m    318\u001b[0m \u001b[38;5;28;01mif\u001b[39;00m vocabulary \u001b[38;5;129;01mis\u001b[39;00m \u001b[38;5;129;01mnot\u001b[39;00m \u001b[38;5;28;01mNone\u001b[39;00m:\n\u001b[1;32m--> 319\u001b[0m     \u001b[38;5;28;43mself\u001b[39;49m\u001b[38;5;241;43m.\u001b[39;49m\u001b[43mset_vocabulary\u001b[49m\u001b[43m(\u001b[49m\u001b[43mvocabulary\u001b[49m\u001b[43m,\u001b[49m\u001b[43m \u001b[49m\u001b[43midf_weights\u001b[49m\u001b[43m)\u001b[49m\n\u001b[0;32m    320\u001b[0m \u001b[38;5;28;01melse\u001b[39;00m:\n\u001b[0;32m    321\u001b[0m     \u001b[38;5;66;03m# When restoring from a keras SavedModel, the loading code will\u001b[39;00m\n\u001b[0;32m    322\u001b[0m     \u001b[38;5;66;03m# expect to find and restore a lookup_table attribute on the layer.\u001b[39;00m\n\u001b[0;32m    323\u001b[0m     \u001b[38;5;66;03m# This table needs to be uninitialized as a StaticHashTable cannot\u001b[39;00m\n\u001b[0;32m    324\u001b[0m     \u001b[38;5;66;03m# be initialized twice.\u001b[39;00m\n\u001b[0;32m    325\u001b[0m     \u001b[38;5;28mself\u001b[39m\u001b[38;5;241m.\u001b[39mlookup_table \u001b[38;5;241m=\u001b[39m \u001b[38;5;28mself\u001b[39m\u001b[38;5;241m.\u001b[39m_uninitialized_lookup_table()\n",
      "File \u001b[1;32m~\\AppData\\Roaming\\Python\\Python39\\site-packages\\keras\\layers\\preprocessing\\index_lookup.py:570\u001b[0m, in \u001b[0;36mIndexLookup.set_vocabulary\u001b[1;34m(self, vocabulary, idf_weights)\u001b[0m\n\u001b[0;32m    563\u001b[0m \u001b[38;5;28;01mif\u001b[39;00m \u001b[38;5;28mself\u001b[39m\u001b[38;5;241m.\u001b[39mmax_tokens \u001b[38;5;129;01mis\u001b[39;00m \u001b[38;5;129;01mnot\u001b[39;00m \u001b[38;5;28;01mNone\u001b[39;00m \u001b[38;5;129;01mand\u001b[39;00m (new_vocab_size \u001b[38;5;241m>\u001b[39m \u001b[38;5;28mself\u001b[39m\u001b[38;5;241m.\u001b[39mmax_tokens):\n\u001b[0;32m    564\u001b[0m     \u001b[38;5;28;01mraise\u001b[39;00m \u001b[38;5;167;01mValueError\u001b[39;00m(\n\u001b[0;32m    565\u001b[0m         \u001b[38;5;124m\"\u001b[39m\u001b[38;5;124mAttempted to set a vocabulary larger than the maximum vocab \u001b[39m\u001b[38;5;124m\"\u001b[39m\n\u001b[0;32m    566\u001b[0m         \u001b[38;5;124m\"\u001b[39m\u001b[38;5;124msize. Passed vocab size is \u001b[39m\u001b[38;5;132;01m{}\u001b[39;00m\u001b[38;5;124m, max vocab size is \u001b[39m\u001b[38;5;132;01m{}\u001b[39;00m\u001b[38;5;124m.\u001b[39m\u001b[38;5;124m\"\u001b[39m\u001b[38;5;241m.\u001b[39mformat(\n\u001b[0;32m    567\u001b[0m             new_vocab_size, \u001b[38;5;28mself\u001b[39m\u001b[38;5;241m.\u001b[39mmax_tokens\n\u001b[0;32m    568\u001b[0m         )\n\u001b[0;32m    569\u001b[0m     )\n\u001b[1;32m--> 570\u001b[0m \u001b[38;5;28mself\u001b[39m\u001b[38;5;241m.\u001b[39mlookup_table \u001b[38;5;241m=\u001b[39m \u001b[38;5;28;43mself\u001b[39;49m\u001b[38;5;241;43m.\u001b[39;49m\u001b[43m_lookup_table_from_tokens\u001b[49m\u001b[43m(\u001b[49m\u001b[43mtokens\u001b[49m\u001b[43m)\u001b[49m\n\u001b[0;32m    572\u001b[0m \u001b[38;5;28;01mif\u001b[39;00m \u001b[38;5;28mself\u001b[39m\u001b[38;5;241m.\u001b[39moutput_mode \u001b[38;5;241m==\u001b[39m TF_IDF:\n\u001b[0;32m    573\u001b[0m     \u001b[38;5;28;01mif\u001b[39;00m idf_weights \u001b[38;5;129;01mis\u001b[39;00m \u001b[38;5;28;01mNone\u001b[39;00m:\n",
      "File \u001b[1;32m~\\AppData\\Roaming\\Python\\Python39\\site-packages\\keras\\layers\\preprocessing\\index_lookup.py:834\u001b[0m, in \u001b[0;36mIndexLookup._lookup_table_from_tokens\u001b[1;34m(self, tokens)\u001b[0m\n\u001b[0;32m    830\u001b[0m indices \u001b[38;5;241m=\u001b[39m tf\u001b[38;5;241m.\u001b[39mrange(token_start, token_end, dtype\u001b[38;5;241m=\u001b[39mindices_dtype)\n\u001b[0;32m    831\u001b[0m keys, values \u001b[38;5;241m=\u001b[39m (\n\u001b[0;32m    832\u001b[0m     (indices, tokens) \u001b[38;5;28;01mif\u001b[39;00m \u001b[38;5;28mself\u001b[39m\u001b[38;5;241m.\u001b[39minvert \u001b[38;5;28;01melse\u001b[39;00m (tokens, indices)\n\u001b[0;32m    833\u001b[0m )\n\u001b[1;32m--> 834\u001b[0m initializer \u001b[38;5;241m=\u001b[39m \u001b[43mtf\u001b[49m\u001b[38;5;241;43m.\u001b[39;49m\u001b[43mlookup\u001b[49m\u001b[38;5;241;43m.\u001b[39;49m\u001b[43mKeyValueTensorInitializer\u001b[49m\u001b[43m(\u001b[49m\n\u001b[0;32m    835\u001b[0m \u001b[43m    \u001b[49m\u001b[43mkeys\u001b[49m\u001b[43m,\u001b[49m\u001b[43m \u001b[49m\u001b[43mvalues\u001b[49m\u001b[43m,\u001b[49m\u001b[43m \u001b[49m\u001b[38;5;28;43mself\u001b[39;49m\u001b[38;5;241;43m.\u001b[39;49m\u001b[43m_key_dtype\u001b[49m\u001b[43m,\u001b[49m\u001b[43m \u001b[49m\u001b[38;5;28;43mself\u001b[39;49m\u001b[38;5;241;43m.\u001b[39;49m\u001b[43m_value_dtype\u001b[49m\n\u001b[0;32m    836\u001b[0m \u001b[43m\u001b[49m\u001b[43m)\u001b[49m\n\u001b[0;32m    837\u001b[0m \u001b[38;5;28;01mreturn\u001b[39;00m tf\u001b[38;5;241m.\u001b[39mlookup\u001b[38;5;241m.\u001b[39mStaticHashTable(initializer, \u001b[38;5;28mself\u001b[39m\u001b[38;5;241m.\u001b[39m_default_value)\n",
      "File \u001b[1;32m~\\AppData\\Roaming\\Python\\Python39\\site-packages\\tensorflow\\python\\ops\\lookup_ops.py:548\u001b[0m, in \u001b[0;36mKeyValueTensorInitializer.__init__\u001b[1;34m(self, keys, values, key_dtype, value_dtype, name)\u001b[0m\n\u001b[0;32m    545\u001b[0m     \u001b[38;5;28mself\u001b[39m\u001b[38;5;241m.\u001b[39m_values \u001b[38;5;241m=\u001b[39m ops\u001b[38;5;241m.\u001b[39mconvert_to_tensor(\n\u001b[0;32m    546\u001b[0m         values, dtype\u001b[38;5;241m=\u001b[39mvalue_dtype, name\u001b[38;5;241m=\u001b[39m\u001b[38;5;124m\"\u001b[39m\u001b[38;5;124mvalues\u001b[39m\u001b[38;5;124m\"\u001b[39m)\n\u001b[0;32m    547\u001b[0m \u001b[38;5;28;01melse\u001b[39;00m:\n\u001b[1;32m--> 548\u001b[0m   \u001b[38;5;28mself\u001b[39m\u001b[38;5;241m.\u001b[39m_keys \u001b[38;5;241m=\u001b[39m \u001b[43mops\u001b[49m\u001b[38;5;241;43m.\u001b[39;49m\u001b[43mconvert_to_tensor\u001b[49m\u001b[43m(\u001b[49m\u001b[43mkeys\u001b[49m\u001b[43m,\u001b[49m\u001b[43m \u001b[49m\u001b[43mdtype\u001b[49m\u001b[38;5;241;43m=\u001b[39;49m\u001b[43mkey_dtype\u001b[49m\u001b[43m,\u001b[49m\u001b[43m \u001b[49m\u001b[43mname\u001b[49m\u001b[38;5;241;43m=\u001b[39;49m\u001b[38;5;124;43m\"\u001b[39;49m\u001b[38;5;124;43mkeys\u001b[39;49m\u001b[38;5;124;43m\"\u001b[39;49m\u001b[43m)\u001b[49m\n\u001b[0;32m    549\u001b[0m   \u001b[38;5;28mself\u001b[39m\u001b[38;5;241m.\u001b[39m_values \u001b[38;5;241m=\u001b[39m ops\u001b[38;5;241m.\u001b[39mconvert_to_tensor(\n\u001b[0;32m    550\u001b[0m       values, dtype\u001b[38;5;241m=\u001b[39mvalue_dtype, name\u001b[38;5;241m=\u001b[39m\u001b[38;5;124m\"\u001b[39m\u001b[38;5;124mvalues\u001b[39m\u001b[38;5;124m\"\u001b[39m)\n\u001b[0;32m    551\u001b[0m \u001b[38;5;28mself\u001b[39m\u001b[38;5;241m.\u001b[39m_name \u001b[38;5;241m=\u001b[39m name \u001b[38;5;28;01mif\u001b[39;00m name \u001b[38;5;129;01mis\u001b[39;00m \u001b[38;5;129;01mnot\u001b[39;00m \u001b[38;5;28;01mNone\u001b[39;00m \u001b[38;5;28;01melse\u001b[39;00m \u001b[38;5;124m\"\u001b[39m\u001b[38;5;124mkey_value_init\u001b[39m\u001b[38;5;124m\"\u001b[39m\n",
      "File \u001b[1;32m~\\AppData\\Roaming\\Python\\Python39\\site-packages\\tensorflow\\python\\profiler\\trace.py:183\u001b[0m, in \u001b[0;36mtrace_wrapper.<locals>.inner_wrapper.<locals>.wrapped\u001b[1;34m(*args, **kwargs)\u001b[0m\n\u001b[0;32m    181\u001b[0m   \u001b[38;5;28;01mwith\u001b[39;00m Trace(trace_name, \u001b[38;5;241m*\u001b[39m\u001b[38;5;241m*\u001b[39mtrace_kwargs):\n\u001b[0;32m    182\u001b[0m     \u001b[38;5;28;01mreturn\u001b[39;00m func(\u001b[38;5;241m*\u001b[39margs, \u001b[38;5;241m*\u001b[39m\u001b[38;5;241m*\u001b[39mkwargs)\n\u001b[1;32m--> 183\u001b[0m \u001b[38;5;28;01mreturn\u001b[39;00m func(\u001b[38;5;241m*\u001b[39margs, \u001b[38;5;241m*\u001b[39m\u001b[38;5;241m*\u001b[39mkwargs)\n",
      "File \u001b[1;32m~\\AppData\\Roaming\\Python\\Python39\\site-packages\\tensorflow\\python\\framework\\ops.py:1638\u001b[0m, in \u001b[0;36mconvert_to_tensor\u001b[1;34m(value, dtype, name, as_ref, preferred_dtype, dtype_hint, ctx, accepted_result_types)\u001b[0m\n\u001b[0;32m   1629\u001b[0m       \u001b[38;5;28;01mraise\u001b[39;00m \u001b[38;5;167;01mRuntimeError\u001b[39;00m(\n\u001b[0;32m   1630\u001b[0m           _add_error_prefix(\n\u001b[0;32m   1631\u001b[0m               \u001b[38;5;124mf\u001b[39m\u001b[38;5;124m\"\u001b[39m\u001b[38;5;124mConversion function \u001b[39m\u001b[38;5;132;01m{\u001b[39;00mconversion_func\u001b[38;5;132;01m!r}\u001b[39;00m\u001b[38;5;124m for type \u001b[39m\u001b[38;5;124m\"\u001b[39m\n\u001b[1;32m   (...)\u001b[0m\n\u001b[0;32m   1634\u001b[0m               \u001b[38;5;124mf\u001b[39m\u001b[38;5;124m\"\u001b[39m\u001b[38;5;124mactual = \u001b[39m\u001b[38;5;132;01m{\u001b[39;00mret\u001b[38;5;241m.\u001b[39mdtype\u001b[38;5;241m.\u001b[39mbase_dtype\u001b[38;5;241m.\u001b[39mname\u001b[38;5;132;01m}\u001b[39;00m\u001b[38;5;124m\"\u001b[39m,\n\u001b[0;32m   1635\u001b[0m               name\u001b[38;5;241m=\u001b[39mname))\n\u001b[0;32m   1637\u001b[0m \u001b[38;5;28;01mif\u001b[39;00m ret \u001b[38;5;129;01mis\u001b[39;00m \u001b[38;5;28;01mNone\u001b[39;00m:\n\u001b[1;32m-> 1638\u001b[0m   ret \u001b[38;5;241m=\u001b[39m \u001b[43mconversion_func\u001b[49m\u001b[43m(\u001b[49m\u001b[43mvalue\u001b[49m\u001b[43m,\u001b[49m\u001b[43m \u001b[49m\u001b[43mdtype\u001b[49m\u001b[38;5;241;43m=\u001b[39;49m\u001b[43mdtype\u001b[49m\u001b[43m,\u001b[49m\u001b[43m \u001b[49m\u001b[43mname\u001b[49m\u001b[38;5;241;43m=\u001b[39;49m\u001b[43mname\u001b[49m\u001b[43m,\u001b[49m\u001b[43m \u001b[49m\u001b[43mas_ref\u001b[49m\u001b[38;5;241;43m=\u001b[39;49m\u001b[43mas_ref\u001b[49m\u001b[43m)\u001b[49m\n\u001b[0;32m   1640\u001b[0m \u001b[38;5;28;01mif\u001b[39;00m ret \u001b[38;5;129;01mis\u001b[39;00m \u001b[38;5;28mNotImplemented\u001b[39m:\n\u001b[0;32m   1641\u001b[0m   \u001b[38;5;28;01mcontinue\u001b[39;00m\n",
      "File \u001b[1;32m~\\AppData\\Roaming\\Python\\Python39\\site-packages\\tensorflow\\python\\framework\\tensor_conversion_registry.py:48\u001b[0m, in \u001b[0;36m_default_conversion_function\u001b[1;34m(***failed resolving arguments***)\u001b[0m\n\u001b[0;32m     46\u001b[0m \u001b[38;5;28;01mdef\u001b[39;00m \u001b[38;5;21m_default_conversion_function\u001b[39m(value, dtype, name, as_ref):\n\u001b[0;32m     47\u001b[0m   \u001b[38;5;28;01mdel\u001b[39;00m as_ref  \u001b[38;5;66;03m# Unused.\u001b[39;00m\n\u001b[1;32m---> 48\u001b[0m   \u001b[38;5;28;01mreturn\u001b[39;00m \u001b[43mconstant_op\u001b[49m\u001b[38;5;241;43m.\u001b[39;49m\u001b[43mconstant\u001b[49m\u001b[43m(\u001b[49m\u001b[43mvalue\u001b[49m\u001b[43m,\u001b[49m\u001b[43m \u001b[49m\u001b[43mdtype\u001b[49m\u001b[43m,\u001b[49m\u001b[43m \u001b[49m\u001b[43mname\u001b[49m\u001b[38;5;241;43m=\u001b[39;49m\u001b[43mname\u001b[49m\u001b[43m)\u001b[49m\n",
      "File \u001b[1;32m~\\AppData\\Roaming\\Python\\Python39\\site-packages\\tensorflow\\python\\framework\\constant_op.py:267\u001b[0m, in \u001b[0;36mconstant\u001b[1;34m(value, dtype, shape, name)\u001b[0m\n\u001b[0;32m    170\u001b[0m \u001b[38;5;129m@tf_export\u001b[39m(\u001b[38;5;124m\"\u001b[39m\u001b[38;5;124mconstant\u001b[39m\u001b[38;5;124m\"\u001b[39m, v1\u001b[38;5;241m=\u001b[39m[])\n\u001b[0;32m    171\u001b[0m \u001b[38;5;28;01mdef\u001b[39;00m \u001b[38;5;21mconstant\u001b[39m(value, dtype\u001b[38;5;241m=\u001b[39m\u001b[38;5;28;01mNone\u001b[39;00m, shape\u001b[38;5;241m=\u001b[39m\u001b[38;5;28;01mNone\u001b[39;00m, name\u001b[38;5;241m=\u001b[39m\u001b[38;5;124m\"\u001b[39m\u001b[38;5;124mConst\u001b[39m\u001b[38;5;124m\"\u001b[39m):\n\u001b[0;32m    172\u001b[0m   \u001b[38;5;124;03m\"\"\"Creates a constant tensor from a tensor-like object.\u001b[39;00m\n\u001b[0;32m    173\u001b[0m \n\u001b[0;32m    174\u001b[0m \u001b[38;5;124;03m  Note: All eager `tf.Tensor` values are immutable (in contrast to\u001b[39;00m\n\u001b[1;32m   (...)\u001b[0m\n\u001b[0;32m    265\u001b[0m \u001b[38;5;124;03m    ValueError: if called on a symbolic tensor.\u001b[39;00m\n\u001b[0;32m    266\u001b[0m \u001b[38;5;124;03m  \"\"\"\u001b[39;00m\n\u001b[1;32m--> 267\u001b[0m   \u001b[38;5;28;01mreturn\u001b[39;00m \u001b[43m_constant_impl\u001b[49m\u001b[43m(\u001b[49m\u001b[43mvalue\u001b[49m\u001b[43m,\u001b[49m\u001b[43m \u001b[49m\u001b[43mdtype\u001b[49m\u001b[43m,\u001b[49m\u001b[43m \u001b[49m\u001b[43mshape\u001b[49m\u001b[43m,\u001b[49m\u001b[43m \u001b[49m\u001b[43mname\u001b[49m\u001b[43m,\u001b[49m\u001b[43m \u001b[49m\u001b[43mverify_shape\u001b[49m\u001b[38;5;241;43m=\u001b[39;49m\u001b[38;5;28;43;01mFalse\u001b[39;49;00m\u001b[43m,\u001b[49m\n\u001b[0;32m    268\u001b[0m \u001b[43m                        \u001b[49m\u001b[43mallow_broadcast\u001b[49m\u001b[38;5;241;43m=\u001b[39;49m\u001b[38;5;28;43;01mTrue\u001b[39;49;00m\u001b[43m)\u001b[49m\n",
      "File \u001b[1;32m~\\AppData\\Roaming\\Python\\Python39\\site-packages\\tensorflow\\python\\framework\\constant_op.py:279\u001b[0m, in \u001b[0;36m_constant_impl\u001b[1;34m(value, dtype, shape, name, verify_shape, allow_broadcast)\u001b[0m\n\u001b[0;32m    277\u001b[0m     \u001b[38;5;28;01mwith\u001b[39;00m trace\u001b[38;5;241m.\u001b[39mTrace(\u001b[38;5;124m\"\u001b[39m\u001b[38;5;124mtf.constant\u001b[39m\u001b[38;5;124m\"\u001b[39m):\n\u001b[0;32m    278\u001b[0m       \u001b[38;5;28;01mreturn\u001b[39;00m _constant_eager_impl(ctx, value, dtype, shape, verify_shape)\n\u001b[1;32m--> 279\u001b[0m   \u001b[38;5;28;01mreturn\u001b[39;00m \u001b[43m_constant_eager_impl\u001b[49m\u001b[43m(\u001b[49m\u001b[43mctx\u001b[49m\u001b[43m,\u001b[49m\u001b[43m \u001b[49m\u001b[43mvalue\u001b[49m\u001b[43m,\u001b[49m\u001b[43m \u001b[49m\u001b[43mdtype\u001b[49m\u001b[43m,\u001b[49m\u001b[43m \u001b[49m\u001b[43mshape\u001b[49m\u001b[43m,\u001b[49m\u001b[43m \u001b[49m\u001b[43mverify_shape\u001b[49m\u001b[43m)\u001b[49m\n\u001b[0;32m    281\u001b[0m g \u001b[38;5;241m=\u001b[39m ops\u001b[38;5;241m.\u001b[39mget_default_graph()\n\u001b[0;32m    282\u001b[0m tensor_value \u001b[38;5;241m=\u001b[39m attr_value_pb2\u001b[38;5;241m.\u001b[39mAttrValue()\n",
      "File \u001b[1;32m~\\AppData\\Roaming\\Python\\Python39\\site-packages\\tensorflow\\python\\framework\\constant_op.py:304\u001b[0m, in \u001b[0;36m_constant_eager_impl\u001b[1;34m(ctx, value, dtype, shape, verify_shape)\u001b[0m\n\u001b[0;32m    302\u001b[0m \u001b[38;5;28;01mdef\u001b[39;00m \u001b[38;5;21m_constant_eager_impl\u001b[39m(ctx, value, dtype, shape, verify_shape):\n\u001b[0;32m    303\u001b[0m   \u001b[38;5;124;03m\"\"\"Creates a constant on the current device.\"\"\"\u001b[39;00m\n\u001b[1;32m--> 304\u001b[0m   t \u001b[38;5;241m=\u001b[39m \u001b[43mconvert_to_eager_tensor\u001b[49m\u001b[43m(\u001b[49m\u001b[43mvalue\u001b[49m\u001b[43m,\u001b[49m\u001b[43m \u001b[49m\u001b[43mctx\u001b[49m\u001b[43m,\u001b[49m\u001b[43m \u001b[49m\u001b[43mdtype\u001b[49m\u001b[43m)\u001b[49m\n\u001b[0;32m    305\u001b[0m   \u001b[38;5;28;01mif\u001b[39;00m shape \u001b[38;5;129;01mis\u001b[39;00m \u001b[38;5;28;01mNone\u001b[39;00m:\n\u001b[0;32m    306\u001b[0m     \u001b[38;5;28;01mreturn\u001b[39;00m t\n",
      "File \u001b[1;32m~\\AppData\\Roaming\\Python\\Python39\\site-packages\\tensorflow\\python\\framework\\constant_op.py:102\u001b[0m, in \u001b[0;36mconvert_to_eager_tensor\u001b[1;34m(value, ctx, dtype)\u001b[0m\n\u001b[0;32m    100\u001b[0m     dtype \u001b[38;5;241m=\u001b[39m dtypes\u001b[38;5;241m.\u001b[39mas_dtype(dtype)\u001b[38;5;241m.\u001b[39mas_datatype_enum\n\u001b[0;32m    101\u001b[0m ctx\u001b[38;5;241m.\u001b[39mensure_initialized()\n\u001b[1;32m--> 102\u001b[0m \u001b[38;5;28;01mreturn\u001b[39;00m \u001b[43mops\u001b[49m\u001b[38;5;241;43m.\u001b[39;49m\u001b[43mEagerTensor\u001b[49m\u001b[43m(\u001b[49m\u001b[43mvalue\u001b[49m\u001b[43m,\u001b[49m\u001b[43m \u001b[49m\u001b[43mctx\u001b[49m\u001b[38;5;241;43m.\u001b[39;49m\u001b[43mdevice_name\u001b[49m\u001b[43m,\u001b[49m\u001b[43m \u001b[49m\u001b[43mdtype\u001b[49m\u001b[43m)\u001b[49m\n",
      "\u001b[1;31mValueError\u001b[0m: Failed to convert a NumPy array to a Tensor (Unsupported object type int)."
     ]
    }
   ],
   "source": [
    "import tensorflow.keras.layers as layers\n",
    "neural_decision_params = {\n",
    "    'depth' : 10,\n",
    "'num_features' : 28,\n",
    "'num_classes' : 2,\n",
    "'used_features_rate' : 1.0}\n",
    "\n",
    "inputs = create_inputs()\n",
    "encoded_features = encode_features(inputs)\n",
    "features = layers.concatenate(encoded_features)\n",
    "outputs = NeuralDecisionTree(**neural_decision_params)(features)\n",
    "neural_decision_tree_model = tf.keras.Model(inputs,outputs)\n",
    "\n",
    "neural_decision_tree_model.compile(\n",
    "    optimizer = 'adam',\n",
    "    loss = 'binary_crossentropy',\n",
    "    metrics = [\"binary_accuracy\"])"
   ]
  },
  {
   "cell_type": "code",
   "execution_count": null,
   "id": "d3e8bd13",
   "metadata": {},
   "outputs": [],
   "source": [
    "neural_decision_tree_model.fit(\n",
    "    train_ds,epochs = 30,\n",
    "    validation_data = test_ds,\n",
    "    callbacks = [callback]\n",
    "\n",
    ")"
   ]
  },
  {
   "cell_type": "code",
   "execution_count": null,
   "id": "c19f3042",
   "metadata": {},
   "outputs": [],
   "source": [
    "neural_decision_tree_model.evaluate(test_ds)"
   ]
  },
  {
   "cell_type": "markdown",
   "id": "5bcbd992",
   "metadata": {
    "papermill": {
     "duration": 0.017203,
     "end_time": "2023-08-02T20:43:12.973148",
     "exception": false,
     "start_time": "2023-08-02T20:43:12.955945",
     "status": "completed"
    },
    "tags": []
   },
   "source": [
    "# **PCA**"
   ]
  },
  {
   "cell_type": "code",
   "execution_count": null,
   "id": "ecc2d01b",
   "metadata": {},
   "outputs": [],
   "source": []
  },
  {
   "cell_type": "markdown",
   "id": "38a0d117",
   "metadata": {
    "papermill": {
     "duration": 0.016983,
     "end_time": "2023-08-02T20:43:13.007592",
     "exception": false,
     "start_time": "2023-08-02T20:43:12.990609",
     "status": "completed"
    },
    "tags": []
   },
   "source": [
    "*Standardize data*"
   ]
  },
  {
   "cell_type": "code",
   "execution_count": 17,
   "id": "5552ea72",
   "metadata": {
    "execution": {
     "iopub.execute_input": "2023-08-02T20:43:13.044126Z",
     "iopub.status.busy": "2023-08-02T20:43:13.043438Z",
     "iopub.status.idle": "2023-08-02T20:43:13.048563Z",
     "shell.execute_reply": "2023-08-02T20:43:13.047591Z"
    },
    "papermill": {
     "duration": 0.026255,
     "end_time": "2023-08-02T20:43:13.050969",
     "exception": false,
     "start_time": "2023-08-02T20:43:13.024714",
     "status": "completed"
    },
    "tags": []
   },
   "outputs": [],
   "source": [
    "from sklearn.preprocessing import StandardScaler"
   ]
  },
  {
   "cell_type": "code",
   "execution_count": 18,
   "id": "e9cb2a06",
   "metadata": {
    "execution": {
     "iopub.execute_input": "2023-08-02T20:43:13.088070Z",
     "iopub.status.busy": "2023-08-02T20:43:13.087643Z",
     "iopub.status.idle": "2023-08-02T20:43:13.092696Z",
     "shell.execute_reply": "2023-08-02T20:43:13.091473Z"
    },
    "papermill": {
     "duration": 0.026099,
     "end_time": "2023-08-02T20:43:13.095075",
     "exception": false,
     "start_time": "2023-08-02T20:43:13.068976",
     "status": "completed"
    },
    "tags": []
   },
   "outputs": [],
   "source": [
    "scaler=StandardScaler()"
   ]
  },
  {
   "cell_type": "code",
   "execution_count": 19,
   "id": "13709958",
   "metadata": {
    "execution": {
     "iopub.execute_input": "2023-08-02T20:43:13.132262Z",
     "iopub.status.busy": "2023-08-02T20:43:13.131814Z",
     "iopub.status.idle": "2023-08-02T20:43:13.146273Z",
     "shell.execute_reply": "2023-08-02T20:43:13.144706Z"
    },
    "papermill": {
     "duration": 0.036118,
     "end_time": "2023-08-02T20:43:13.149082",
     "exception": false,
     "start_time": "2023-08-02T20:43:13.112964",
     "status": "completed"
    },
    "tags": []
   },
   "outputs": [
    {
     "data": {
      "text/html": [
       "<style>#sk-container-id-2 {color: black;background-color: white;}#sk-container-id-2 pre{padding: 0;}#sk-container-id-2 div.sk-toggleable {background-color: white;}#sk-container-id-2 label.sk-toggleable__label {cursor: pointer;display: block;width: 100%;margin-bottom: 0;padding: 0.3em;box-sizing: border-box;text-align: center;}#sk-container-id-2 label.sk-toggleable__label-arrow:before {content: \"▸\";float: left;margin-right: 0.25em;color: #696969;}#sk-container-id-2 label.sk-toggleable__label-arrow:hover:before {color: black;}#sk-container-id-2 div.sk-estimator:hover label.sk-toggleable__label-arrow:before {color: black;}#sk-container-id-2 div.sk-toggleable__content {max-height: 0;max-width: 0;overflow: hidden;text-align: left;background-color: #f0f8ff;}#sk-container-id-2 div.sk-toggleable__content pre {margin: 0.2em;color: black;border-radius: 0.25em;background-color: #f0f8ff;}#sk-container-id-2 input.sk-toggleable__control:checked~div.sk-toggleable__content {max-height: 200px;max-width: 100%;overflow: auto;}#sk-container-id-2 input.sk-toggleable__control:checked~label.sk-toggleable__label-arrow:before {content: \"▾\";}#sk-container-id-2 div.sk-estimator input.sk-toggleable__control:checked~label.sk-toggleable__label {background-color: #d4ebff;}#sk-container-id-2 div.sk-label input.sk-toggleable__control:checked~label.sk-toggleable__label {background-color: #d4ebff;}#sk-container-id-2 input.sk-hidden--visually {border: 0;clip: rect(1px 1px 1px 1px);clip: rect(1px, 1px, 1px, 1px);height: 1px;margin: -1px;overflow: hidden;padding: 0;position: absolute;width: 1px;}#sk-container-id-2 div.sk-estimator {font-family: monospace;background-color: #f0f8ff;border: 1px dotted black;border-radius: 0.25em;box-sizing: border-box;margin-bottom: 0.5em;}#sk-container-id-2 div.sk-estimator:hover {background-color: #d4ebff;}#sk-container-id-2 div.sk-parallel-item::after {content: \"\";width: 100%;border-bottom: 1px solid gray;flex-grow: 1;}#sk-container-id-2 div.sk-label:hover label.sk-toggleable__label {background-color: #d4ebff;}#sk-container-id-2 div.sk-serial::before {content: \"\";position: absolute;border-left: 1px solid gray;box-sizing: border-box;top: 0;bottom: 0;left: 50%;z-index: 0;}#sk-container-id-2 div.sk-serial {display: flex;flex-direction: column;align-items: center;background-color: white;padding-right: 0.2em;padding-left: 0.2em;position: relative;}#sk-container-id-2 div.sk-item {position: relative;z-index: 1;}#sk-container-id-2 div.sk-parallel {display: flex;align-items: stretch;justify-content: center;background-color: white;position: relative;}#sk-container-id-2 div.sk-item::before, #sk-container-id-2 div.sk-parallel-item::before {content: \"\";position: absolute;border-left: 1px solid gray;box-sizing: border-box;top: 0;bottom: 0;left: 50%;z-index: -1;}#sk-container-id-2 div.sk-parallel-item {display: flex;flex-direction: column;z-index: 1;position: relative;background-color: white;}#sk-container-id-2 div.sk-parallel-item:first-child::after {align-self: flex-end;width: 50%;}#sk-container-id-2 div.sk-parallel-item:last-child::after {align-self: flex-start;width: 50%;}#sk-container-id-2 div.sk-parallel-item:only-child::after {width: 0;}#sk-container-id-2 div.sk-dashed-wrapped {border: 1px dashed gray;margin: 0 0.4em 0.5em 0.4em;box-sizing: border-box;padding-bottom: 0.4em;background-color: white;}#sk-container-id-2 div.sk-label label {font-family: monospace;font-weight: bold;display: inline-block;line-height: 1.2em;}#sk-container-id-2 div.sk-label-container {text-align: center;}#sk-container-id-2 div.sk-container {/* jupyter's `normalize.less` sets `[hidden] { display: none; }` but bootstrap.min.css set `[hidden] { display: none !important; }` so we also need the `!important` here to be able to override the default hidden behavior on the sphinx rendered scikit-learn.org. See: https://github.com/scikit-learn/scikit-learn/issues/21755 */display: inline-block !important;position: relative;}#sk-container-id-2 div.sk-text-repr-fallback {display: none;}</style><div id=\"sk-container-id-2\" class=\"sk-top-container\"><div class=\"sk-text-repr-fallback\"><pre>StandardScaler()</pre><b>In a Jupyter environment, please rerun this cell to show the HTML representation or trust the notebook. <br />On GitHub, the HTML representation is unable to render, please try loading this page with nbviewer.org.</b></div><div class=\"sk-container\" hidden><div class=\"sk-item\"><div class=\"sk-estimator sk-toggleable\"><input class=\"sk-toggleable__control sk-hidden--visually\" id=\"sk-estimator-id-2\" type=\"checkbox\" checked><label for=\"sk-estimator-id-2\" class=\"sk-toggleable__label sk-toggleable__label-arrow\">StandardScaler</label><div class=\"sk-toggleable__content\"><pre>StandardScaler()</pre></div></div></div></div></div>"
      ],
      "text/plain": [
       "StandardScaler()"
      ]
     },
     "execution_count": 19,
     "metadata": {},
     "output_type": "execute_result"
    }
   ],
   "source": [
    "scaler.fit(df)"
   ]
  },
  {
   "cell_type": "code",
   "execution_count": 20,
   "id": "dc0c0a3a",
   "metadata": {
    "execution": {
     "iopub.execute_input": "2023-08-02T20:43:13.186832Z",
     "iopub.status.busy": "2023-08-02T20:43:13.186392Z",
     "iopub.status.idle": "2023-08-02T20:43:13.196218Z",
     "shell.execute_reply": "2023-08-02T20:43:13.195029Z"
    },
    "papermill": {
     "duration": 0.03183,
     "end_time": "2023-08-02T20:43:13.198736",
     "exception": false,
     "start_time": "2023-08-02T20:43:13.166906",
     "status": "completed"
    },
    "tags": []
   },
   "outputs": [],
   "source": [
    "scaled_data=scaler.transform(df)"
   ]
  },
  {
   "cell_type": "code",
   "execution_count": 21,
   "id": "02578d8e",
   "metadata": {
    "execution": {
     "iopub.execute_input": "2023-08-02T20:43:13.236099Z",
     "iopub.status.busy": "2023-08-02T20:43:13.235645Z",
     "iopub.status.idle": "2023-08-02T20:43:13.309670Z",
     "shell.execute_reply": "2023-08-02T20:43:13.308545Z"
    },
    "papermill": {
     "duration": 0.095441,
     "end_time": "2023-08-02T20:43:13.312196",
     "exception": false,
     "start_time": "2023-08-02T20:43:13.216755",
     "status": "completed"
    },
    "tags": []
   },
   "outputs": [],
   "source": [
    "from sklearn.decomposition import PCA"
   ]
  },
  {
   "cell_type": "code",
   "execution_count": 22,
   "id": "ffe2f24e",
   "metadata": {
    "execution": {
     "iopub.execute_input": "2023-08-02T20:43:13.349650Z",
     "iopub.status.busy": "2023-08-02T20:43:13.349158Z",
     "iopub.status.idle": "2023-08-02T20:43:13.353711Z",
     "shell.execute_reply": "2023-08-02T20:43:13.352684Z"
    },
    "papermill": {
     "duration": 0.026377,
     "end_time": "2023-08-02T20:43:13.356092",
     "exception": false,
     "start_time": "2023-08-02T20:43:13.329715",
     "status": "completed"
    },
    "tags": []
   },
   "outputs": [],
   "source": [
    "pca=PCA(n_components=2)"
   ]
  },
  {
   "cell_type": "code",
   "execution_count": 23,
   "id": "28ab6af4",
   "metadata": {
    "execution": {
     "iopub.execute_input": "2023-08-02T20:43:13.393314Z",
     "iopub.status.busy": "2023-08-02T20:43:13.392494Z",
     "iopub.status.idle": "2023-08-02T20:43:13.453104Z",
     "shell.execute_reply": "2023-08-02T20:43:13.451505Z"
    },
    "papermill": {
     "duration": 0.084237,
     "end_time": "2023-08-02T20:43:13.457855",
     "exception": false,
     "start_time": "2023-08-02T20:43:13.373618",
     "status": "completed"
    },
    "tags": []
   },
   "outputs": [
    {
     "data": {
      "text/html": [
       "<style>#sk-container-id-3 {color: black;background-color: white;}#sk-container-id-3 pre{padding: 0;}#sk-container-id-3 div.sk-toggleable {background-color: white;}#sk-container-id-3 label.sk-toggleable__label {cursor: pointer;display: block;width: 100%;margin-bottom: 0;padding: 0.3em;box-sizing: border-box;text-align: center;}#sk-container-id-3 label.sk-toggleable__label-arrow:before {content: \"▸\";float: left;margin-right: 0.25em;color: #696969;}#sk-container-id-3 label.sk-toggleable__label-arrow:hover:before {color: black;}#sk-container-id-3 div.sk-estimator:hover label.sk-toggleable__label-arrow:before {color: black;}#sk-container-id-3 div.sk-toggleable__content {max-height: 0;max-width: 0;overflow: hidden;text-align: left;background-color: #f0f8ff;}#sk-container-id-3 div.sk-toggleable__content pre {margin: 0.2em;color: black;border-radius: 0.25em;background-color: #f0f8ff;}#sk-container-id-3 input.sk-toggleable__control:checked~div.sk-toggleable__content {max-height: 200px;max-width: 100%;overflow: auto;}#sk-container-id-3 input.sk-toggleable__control:checked~label.sk-toggleable__label-arrow:before {content: \"▾\";}#sk-container-id-3 div.sk-estimator input.sk-toggleable__control:checked~label.sk-toggleable__label {background-color: #d4ebff;}#sk-container-id-3 div.sk-label input.sk-toggleable__control:checked~label.sk-toggleable__label {background-color: #d4ebff;}#sk-container-id-3 input.sk-hidden--visually {border: 0;clip: rect(1px 1px 1px 1px);clip: rect(1px, 1px, 1px, 1px);height: 1px;margin: -1px;overflow: hidden;padding: 0;position: absolute;width: 1px;}#sk-container-id-3 div.sk-estimator {font-family: monospace;background-color: #f0f8ff;border: 1px dotted black;border-radius: 0.25em;box-sizing: border-box;margin-bottom: 0.5em;}#sk-container-id-3 div.sk-estimator:hover {background-color: #d4ebff;}#sk-container-id-3 div.sk-parallel-item::after {content: \"\";width: 100%;border-bottom: 1px solid gray;flex-grow: 1;}#sk-container-id-3 div.sk-label:hover label.sk-toggleable__label {background-color: #d4ebff;}#sk-container-id-3 div.sk-serial::before {content: \"\";position: absolute;border-left: 1px solid gray;box-sizing: border-box;top: 0;bottom: 0;left: 50%;z-index: 0;}#sk-container-id-3 div.sk-serial {display: flex;flex-direction: column;align-items: center;background-color: white;padding-right: 0.2em;padding-left: 0.2em;position: relative;}#sk-container-id-3 div.sk-item {position: relative;z-index: 1;}#sk-container-id-3 div.sk-parallel {display: flex;align-items: stretch;justify-content: center;background-color: white;position: relative;}#sk-container-id-3 div.sk-item::before, #sk-container-id-3 div.sk-parallel-item::before {content: \"\";position: absolute;border-left: 1px solid gray;box-sizing: border-box;top: 0;bottom: 0;left: 50%;z-index: -1;}#sk-container-id-3 div.sk-parallel-item {display: flex;flex-direction: column;z-index: 1;position: relative;background-color: white;}#sk-container-id-3 div.sk-parallel-item:first-child::after {align-self: flex-end;width: 50%;}#sk-container-id-3 div.sk-parallel-item:last-child::after {align-self: flex-start;width: 50%;}#sk-container-id-3 div.sk-parallel-item:only-child::after {width: 0;}#sk-container-id-3 div.sk-dashed-wrapped {border: 1px dashed gray;margin: 0 0.4em 0.5em 0.4em;box-sizing: border-box;padding-bottom: 0.4em;background-color: white;}#sk-container-id-3 div.sk-label label {font-family: monospace;font-weight: bold;display: inline-block;line-height: 1.2em;}#sk-container-id-3 div.sk-label-container {text-align: center;}#sk-container-id-3 div.sk-container {/* jupyter's `normalize.less` sets `[hidden] { display: none; }` but bootstrap.min.css set `[hidden] { display: none !important; }` so we also need the `!important` here to be able to override the default hidden behavior on the sphinx rendered scikit-learn.org. See: https://github.com/scikit-learn/scikit-learn/issues/21755 */display: inline-block !important;position: relative;}#sk-container-id-3 div.sk-text-repr-fallback {display: none;}</style><div id=\"sk-container-id-3\" class=\"sk-top-container\"><div class=\"sk-text-repr-fallback\"><pre>PCA(n_components=2)</pre><b>In a Jupyter environment, please rerun this cell to show the HTML representation or trust the notebook. <br />On GitHub, the HTML representation is unable to render, please try loading this page with nbviewer.org.</b></div><div class=\"sk-container\" hidden><div class=\"sk-item\"><div class=\"sk-estimator sk-toggleable\"><input class=\"sk-toggleable__control sk-hidden--visually\" id=\"sk-estimator-id-3\" type=\"checkbox\" checked><label for=\"sk-estimator-id-3\" class=\"sk-toggleable__label sk-toggleable__label-arrow\">PCA</label><div class=\"sk-toggleable__content\"><pre>PCA(n_components=2)</pre></div></div></div></div></div>"
      ],
      "text/plain": [
       "PCA(n_components=2)"
      ]
     },
     "execution_count": 23,
     "metadata": {},
     "output_type": "execute_result"
    }
   ],
   "source": [
    "pca.fit(scaled_data)"
   ]
  },
  {
   "cell_type": "code",
   "execution_count": 24,
   "id": "a9350f4e",
   "metadata": {
    "execution": {
     "iopub.execute_input": "2023-08-02T20:43:13.573888Z",
     "iopub.status.busy": "2023-08-02T20:43:13.573510Z",
     "iopub.status.idle": "2023-08-02T20:43:13.578720Z",
     "shell.execute_reply": "2023-08-02T20:43:13.577597Z"
    },
    "papermill": {
     "duration": 0.034933,
     "end_time": "2023-08-02T20:43:13.581322",
     "exception": false,
     "start_time": "2023-08-02T20:43:13.546389",
     "status": "completed"
    },
    "tags": []
   },
   "outputs": [],
   "source": [
    "component_matrix=pca.components_"
   ]
  },
  {
   "cell_type": "code",
   "execution_count": 25,
   "id": "cb9f5d5b",
   "metadata": {
    "execution": {
     "iopub.execute_input": "2023-08-02T20:43:13.620225Z",
     "iopub.status.busy": "2023-08-02T20:43:13.619816Z",
     "iopub.status.idle": "2023-08-02T20:43:13.625820Z",
     "shell.execute_reply": "2023-08-02T20:43:13.624359Z"
    },
    "papermill": {
     "duration": 0.028712,
     "end_time": "2023-08-02T20:43:13.628493",
     "exception": false,
     "start_time": "2023-08-02T20:43:13.599781",
     "status": "completed"
    },
    "tags": []
   },
   "outputs": [],
   "source": [
    "first_component_loadings= component_matrix[0,:]\n",
    "influential_columns_first_component=df.columns[np.abs(first_component_loadings).argsort()[::-1]]"
   ]
  },
  {
   "cell_type": "code",
   "execution_count": 26,
   "id": "6ac15e29",
   "metadata": {
    "execution": {
     "iopub.execute_input": "2023-08-02T20:43:13.666813Z",
     "iopub.status.busy": "2023-08-02T20:43:13.666430Z",
     "iopub.status.idle": "2023-08-02T20:43:13.672318Z",
     "shell.execute_reply": "2023-08-02T20:43:13.670889Z"
    },
    "papermill": {
     "duration": 0.027985,
     "end_time": "2023-08-02T20:43:13.674868",
     "exception": false,
     "start_time": "2023-08-02T20:43:13.646883",
     "status": "completed"
    },
    "tags": []
   },
   "outputs": [],
   "source": [
    "second_component_loadings= component_matrix[1,:]\n",
    "influential_columns_second_component=df.columns[np.abs(second_component_loadings).argsort()[::-1]]"
   ]
  },
  {
   "cell_type": "code",
   "execution_count": 27,
   "id": "79fe069f",
   "metadata": {
    "execution": {
     "iopub.execute_input": "2023-08-02T20:43:13.712923Z",
     "iopub.status.busy": "2023-08-02T20:43:13.712544Z",
     "iopub.status.idle": "2023-08-02T20:43:13.719951Z",
     "shell.execute_reply": "2023-08-02T20:43:13.718812Z"
    },
    "papermill": {
     "duration": 0.029041,
     "end_time": "2023-08-02T20:43:13.722254",
     "exception": false,
     "start_time": "2023-08-02T20:43:13.693213",
     "status": "completed"
    },
    "tags": []
   },
   "outputs": [
    {
     "data": {
      "text/plain": [
       "Index(['Age at enrollment', 'Application mode', 'Target', 'Displaced',\n",
       "       'Curricular units 2nd sem (grade)', 'Marital status',\n",
       "       'Daytime/evening attendance', 'Previous qualification',\n",
       "       'Application order', 'Curricular units 1st sem (credited)',\n",
       "       'Curricular units 1st sem (grade)', 'Tuition fees up to date',\n",
       "       'Curricular units 2nd sem (credited)', 'Scholarship holder', 'Debtor',\n",
       "       'Curricular units 2nd sem (approved)', 'Gender',\n",
       "       'Curricular units 1st sem (evaluations)', 'Mother's qualification',\n",
       "       'Curricular units 1st sem (without evaluations)',\n",
       "       'Curricular units 2nd sem (without evaluations)',\n",
       "       'Curricular units 1st sem (enrolled)',\n",
       "       'Curricular units 1st sem (approved)', 'Father's qualification',\n",
       "       'Course', 'Curricular units 2nd sem (evaluations)',\n",
       "       'Curricular units 2nd sem (enrolled)', 'GDP', 'Mother's occupation',\n",
       "       'Unemployment rate', 'Educational special needs', 'Inflation rate',\n",
       "       'Father's occupation', 'Nacionality', 'International'],\n",
       "      dtype='object')"
      ]
     },
     "execution_count": 27,
     "metadata": {},
     "output_type": "execute_result"
    }
   ],
   "source": [
    "influential_columns_second_component"
   ]
  },
  {
   "cell_type": "code",
   "execution_count": 28,
   "id": "647bc0c7",
   "metadata": {
    "execution": {
     "iopub.execute_input": "2023-08-02T20:43:13.759844Z",
     "iopub.status.busy": "2023-08-02T20:43:13.759439Z",
     "iopub.status.idle": "2023-08-02T20:43:13.768707Z",
     "shell.execute_reply": "2023-08-02T20:43:13.766951Z"
    },
    "papermill": {
     "duration": 0.031529,
     "end_time": "2023-08-02T20:43:13.771527",
     "exception": false,
     "start_time": "2023-08-02T20:43:13.739998",
     "status": "completed"
    },
    "tags": []
   },
   "outputs": [
    {
     "data": {
      "text/plain": [
       "Index(['Curricular units 1st sem (approved)',\n",
       "       'Curricular units 1st sem (enrolled)',\n",
       "       'Curricular units 2nd sem (approved)',\n",
       "       'Curricular units 2nd sem (enrolled)',\n",
       "       'Curricular units 1st sem (evaluations)',\n",
       "       'Curricular units 1st sem (credited)',\n",
       "       'Curricular units 2nd sem (credited)',\n",
       "       'Curricular units 2nd sem (evaluations)',\n",
       "       'Curricular units 2nd sem (grade)', 'Curricular units 1st sem (grade)',\n",
       "       'Target', 'Tuition fees up to date', 'Gender', 'Application mode',\n",
       "       'Course', 'Scholarship holder',\n",
       "       'Curricular units 1st sem (without evaluations)', 'Debtor',\n",
       "       'Previous qualification', 'Unemployment rate', 'Age at enrollment',\n",
       "       'Father's qualification',\n",
       "       'Curricular units 2nd sem (without evaluations)',\n",
       "       'Mother's qualification', 'Mother's occupation',\n",
       "       'Educational special needs', 'Daytime/evening attendance', 'Displaced',\n",
       "       'Father's occupation', 'Marital status', 'Application order',\n",
       "       'Nacionality', 'GDP', 'International', 'Inflation rate'],\n",
       "      dtype='object')"
      ]
     },
     "execution_count": 28,
     "metadata": {},
     "output_type": "execute_result"
    }
   ],
   "source": [
    "influential_columns_first_component"
   ]
  },
  {
   "cell_type": "code",
   "execution_count": 29,
   "id": "84a627a7",
   "metadata": {
    "execution": {
     "iopub.execute_input": "2023-08-02T20:43:13.810596Z",
     "iopub.status.busy": "2023-08-02T20:43:13.809576Z",
     "iopub.status.idle": "2023-08-02T20:43:13.819509Z",
     "shell.execute_reply": "2023-08-02T20:43:13.817862Z"
    },
    "papermill": {
     "duration": 0.034085,
     "end_time": "2023-08-02T20:43:13.824290",
     "exception": false,
     "start_time": "2023-08-02T20:43:13.790205",
     "status": "completed"
    },
    "tags": []
   },
   "outputs": [],
   "source": [
    "x_pca=pca.transform(scaled_data)"
   ]
  },
  {
   "cell_type": "code",
   "execution_count": 30,
   "id": "db2e179c",
   "metadata": {
    "execution": {
     "iopub.execute_input": "2023-08-02T20:43:13.905398Z",
     "iopub.status.busy": "2023-08-02T20:43:13.903871Z",
     "iopub.status.idle": "2023-08-02T20:43:13.915059Z",
     "shell.execute_reply": "2023-08-02T20:43:13.913538Z"
    },
    "papermill": {
     "duration": 0.056475,
     "end_time": "2023-08-02T20:43:13.919743",
     "exception": false,
     "start_time": "2023-08-02T20:43:13.863268",
     "status": "completed"
    },
    "tags": []
   },
   "outputs": [
    {
     "data": {
      "text/plain": [
       "(4424, 35)"
      ]
     },
     "execution_count": 30,
     "metadata": {},
     "output_type": "execute_result"
    }
   ],
   "source": [
    "scaled_data.shape"
   ]
  },
  {
   "cell_type": "code",
   "execution_count": 31,
   "id": "023e21be",
   "metadata": {
    "execution": {
     "iopub.execute_input": "2023-08-02T20:43:13.966655Z",
     "iopub.status.busy": "2023-08-02T20:43:13.966264Z",
     "iopub.status.idle": "2023-08-02T20:43:13.973558Z",
     "shell.execute_reply": "2023-08-02T20:43:13.972395Z"
    },
    "papermill": {
     "duration": 0.029525,
     "end_time": "2023-08-02T20:43:13.975996",
     "exception": false,
     "start_time": "2023-08-02T20:43:13.946471",
     "status": "completed"
    },
    "tags": []
   },
   "outputs": [
    {
     "data": {
      "text/plain": [
       "(4424, 2)"
      ]
     },
     "execution_count": 31,
     "metadata": {},
     "output_type": "execute_result"
    }
   ],
   "source": [
    "x_pca.shape"
   ]
  },
  {
   "cell_type": "code",
   "execution_count": 32,
   "id": "631d0902",
   "metadata": {
    "execution": {
     "iopub.execute_input": "2023-08-02T20:43:14.015271Z",
     "iopub.status.busy": "2023-08-02T20:43:14.014138Z",
     "iopub.status.idle": "2023-08-02T20:43:14.572549Z",
     "shell.execute_reply": "2023-08-02T20:43:14.571578Z"
    },
    "papermill": {
     "duration": 0.580757,
     "end_time": "2023-08-02T20:43:14.575143",
     "exception": false,
     "start_time": "2023-08-02T20:43:13.994386",
     "status": "completed"
    },
    "tags": []
   },
   "outputs": [
    {
     "data": {
      "text/plain": [
       "Text(0, 0.5, 'Second principal component')"
      ]
     },
     "execution_count": 32,
     "metadata": {},
     "output_type": "execute_result"
    },
    {
     "data": {
      "image/png": "[encoded data removed]",
      "text/plain": [
       "<Figure size 800x600 with 1 Axes>"
      ]
     },
     "metadata": {},
     "output_type": "display_data"
    }
   ],
   "source": [
    "plt.figure(figsize=(8,6))\n",
    "plt.scatter(x_pca[:,0], x_pca[:,1], c=df['Target'],cmap='plasma')\n",
    "plt.xlabel('First principal component')\n",
    "plt.ylabel('Second principal component')"
   ]
  },
  {
   "cell_type": "code",
   "execution_count": 33,
   "id": "c4e308a0",
   "metadata": {
    "execution": {
     "iopub.execute_input": "2023-08-02T20:43:14.619130Z",
     "iopub.status.busy": "2023-08-02T20:43:14.618670Z",
     "iopub.status.idle": "2023-08-02T20:43:14.626603Z",
     "shell.execute_reply": "2023-08-02T20:43:14.625420Z"
    },
    "papermill": {
     "duration": 0.033674,
     "end_time": "2023-08-02T20:43:14.629337",
     "exception": false,
     "start_time": "2023-08-02T20:43:14.595663",
     "status": "completed"
    },
    "tags": []
   },
   "outputs": [
    {
     "data": {
      "text/plain": [
       "array([[ 8.46608156e-03,  4.23296734e-02, -7.76837801e-03,\n",
       "         4.07501824e-02, -1.15525638e-02,  2.90003288e-02,\n",
       "        -5.16831548e-03,  1.39345144e-02,  1.69019271e-02,\n",
       "         1.24437930e-02,  8.70453582e-03, -8.71842185e-03,\n",
       "        -1.23984784e-02, -3.62863018e-02,  8.78462568e-02,\n",
       "        -6.91684336e-02,  3.97696749e-02,  1.85524420e-02,\n",
       "        -2.09467679e-03,  2.84055658e-01,  3.50949175e-01,\n",
       "         2.87519883e-01,  3.64979301e-01,  2.60532868e-01,\n",
       "         3.84582254e-02,  2.83996771e-01,  3.42115893e-01,\n",
       "         2.82375095e-01,  3.46170410e-01,  2.62545672e-01,\n",
       "         1.51919524e-02,  2.20613659e-02, -2.04543364e-03,\n",
       "        -3.91065213e-03,  1.50681262e-01],\n",
       "       [ 2.23968276e-01,  3.25875161e-01, -2.13557296e-01,\n",
       "        -9.00262074e-02, -2.18529976e-01,  2.15566167e-01,\n",
       "        -9.81069645e-04,  1.30587536e-01,  9.24030627e-02,\n",
       "         4.61707649e-02,  1.14463249e-02, -2.40645605e-01,\n",
       "        -2.44375873e-02,  1.51816267e-01, -2.04230008e-01,\n",
       "         1.48534214e-01, -1.84526514e-01,  3.75171151e-01,\n",
       "         2.49221667e-04,  2.09627398e-01,  1.08948618e-01,\n",
       "         1.40351665e-01, -9.43663910e-02, -2.08817420e-01,\n",
       "         1.11893462e-01,  2.01040294e-01,  6.35032458e-02,\n",
       "         7.30541446e-02, -1.51242996e-01, -2.25949039e-01,\n",
       "         1.11857129e-01,  3.06461495e-02,  1.82421904e-02,\n",
       "        -5.95277568e-02, -2.57172643e-01]])"
      ]
     },
     "execution_count": 33,
     "metadata": {},
     "output_type": "execute_result"
    }
   ],
   "source": [
    "pca.components_"
   ]
  },
  {
   "cell_type": "code",
   "execution_count": 34,
   "id": "782c0937",
   "metadata": {
    "execution": {
     "iopub.execute_input": "2023-08-02T20:43:14.673749Z",
     "iopub.status.busy": "2023-08-02T20:43:14.672974Z",
     "iopub.status.idle": "2023-08-02T20:43:14.678989Z",
     "shell.execute_reply": "2023-08-02T20:43:14.677979Z"
    },
    "papermill": {
     "duration": 0.030679,
     "end_time": "2023-08-02T20:43:14.681421",
     "exception": false,
     "start_time": "2023-08-02T20:43:14.650742",
     "status": "completed"
    },
    "tags": []
   },
   "outputs": [],
   "source": [
    "df_comp=pd.DataFrame(pca.components_, columns=df.columns.tolist())"
   ]
  },
  {
   "cell_type": "code",
   "execution_count": 35,
   "id": "f09fc316",
   "metadata": {
    "execution": {
     "iopub.execute_input": "2023-08-02T20:43:14.725132Z",
     "iopub.status.busy": "2023-08-02T20:43:14.724324Z",
     "iopub.status.idle": "2023-08-02T20:43:15.516051Z",
     "shell.execute_reply": "2023-08-02T20:43:15.514900Z"
    },
    "papermill": {
     "duration": 0.816986,
     "end_time": "2023-08-02T20:43:15.519174",
     "exception": false,
     "start_time": "2023-08-02T20:43:14.702188",
     "status": "completed"
    },
    "tags": []
   },
   "outputs": [
    {
     "data": {
      "text/plain": [
       "<Axes: >"
      ]
     },
     "execution_count": 35,
     "metadata": {},
     "output_type": "execute_result"
    },
    {
     "data": {
      "image/png": "[encoded data removed]",
      "text/plain": [
       "<Figure size 1200x600 with 2 Axes>"
      ]
     },
     "metadata": {},
     "output_type": "display_data"
    }
   ],
   "source": [
    "plt.figure(figsize=(12,6))\n",
    "sns.heatmap(df_comp, cmap='plasma',)"
   ]
  },
  {
   "cell_type": "code",
   "execution_count": 36,
   "id": "0aee9d92",
   "metadata": {
    "execution": {
     "iopub.execute_input": "2023-08-02T20:43:15.568735Z",
     "iopub.status.busy": "2023-08-02T20:43:15.567758Z",
     "iopub.status.idle": "2023-08-02T20:43:15.574300Z",
     "shell.execute_reply": "2023-08-02T20:43:15.572897Z"
    },
    "papermill": {
     "duration": 0.034611,
     "end_time": "2023-08-02T20:43:15.576779",
     "exception": false,
     "start_time": "2023-08-02T20:43:15.542168",
     "status": "completed"
    },
    "tags": []
   },
   "outputs": [],
   "source": [
    "columns=influential_columns_first_component[0:5].tolist()"
   ]
  },
  {
   "cell_type": "code",
   "execution_count": 37,
   "id": "9e1a1f48",
   "metadata": {
    "execution": {
     "iopub.execute_input": "2023-08-02T20:43:15.624114Z",
     "iopub.status.busy": "2023-08-02T20:43:15.623643Z",
     "iopub.status.idle": "2023-08-02T20:43:15.629195Z",
     "shell.execute_reply": "2023-08-02T20:43:15.627929Z"
    },
    "papermill": {
     "duration": 0.032302,
     "end_time": "2023-08-02T20:43:15.631663",
     "exception": false,
     "start_time": "2023-08-02T20:43:15.599361",
     "status": "completed"
    },
    "tags": []
   },
   "outputs": [],
   "source": [
    "columns_to_add=influential_columns_second_component.tolist()"
   ]
  },
  {
   "cell_type": "code",
   "execution_count": 38,
   "id": "583746ef",
   "metadata": {
    "execution": {
     "iopub.execute_input": "2023-08-02T20:43:15.678294Z",
     "iopub.status.busy": "2023-08-02T20:43:15.677884Z",
     "iopub.status.idle": "2023-08-02T20:43:15.684212Z",
     "shell.execute_reply": "2023-08-02T20:43:15.682932Z"
    },
    "papermill": {
     "duration": 0.032647,
     "end_time": "2023-08-02T20:43:15.686679",
     "exception": false,
     "start_time": "2023-08-02T20:43:15.654032",
     "status": "completed"
    },
    "tags": []
   },
   "outputs": [],
   "source": [
    "def add_unique_elements(first_list, second_list):\n",
    "    # Add the first 5 unique elements from the first list to the second list\n",
    "    for element in first_list:\n",
    "        if element not in second_list and element !='Target':\n",
    "            second_list.append(element)\n",
    "        if len(second_list) == 10:\n",
    "            break\n",
    "    return second_list"
   ]
  },
  {
   "cell_type": "code",
   "execution_count": 39,
   "id": "4f9b38de",
   "metadata": {
    "execution": {
     "iopub.execute_input": "2023-08-02T20:43:15.733729Z",
     "iopub.status.busy": "2023-08-02T20:43:15.733297Z",
     "iopub.status.idle": "2023-08-02T20:43:15.738783Z",
     "shell.execute_reply": "2023-08-02T20:43:15.737518Z"
    },
    "papermill": {
     "duration": 0.032643,
     "end_time": "2023-08-02T20:43:15.741592",
     "exception": false,
     "start_time": "2023-08-02T20:43:15.708949",
     "status": "completed"
    },
    "tags": []
   },
   "outputs": [],
   "source": [
    "final_columns=add_unique_elements(columns_to_add, columns)"
   ]
  },
  {
   "cell_type": "code",
   "execution_count": 40,
   "id": "36e909d2",
   "metadata": {
    "execution": {
     "iopub.execute_input": "2023-08-02T20:43:15.790621Z",
     "iopub.status.busy": "2023-08-02T20:43:15.790219Z",
     "iopub.status.idle": "2023-08-02T20:43:15.795823Z",
     "shell.execute_reply": "2023-08-02T20:43:15.794509Z"
    },
    "papermill": {
     "duration": 0.033182,
     "end_time": "2023-08-02T20:43:15.798395",
     "exception": false,
     "start_time": "2023-08-02T20:43:15.765213",
     "status": "completed"
    },
    "tags": []
   },
   "outputs": [],
   "source": [
    "final_columns.append('Target')"
   ]
  },
  {
   "cell_type": "code",
   "execution_count": 41,
   "id": "570d3e8c",
   "metadata": {
    "execution": {
     "iopub.execute_input": "2023-08-02T20:43:15.845394Z",
     "iopub.status.busy": "2023-08-02T20:43:15.844940Z",
     "iopub.status.idle": "2023-08-02T20:43:15.851638Z",
     "shell.execute_reply": "2023-08-02T20:43:15.850456Z"
    },
    "papermill": {
     "duration": 0.033399,
     "end_time": "2023-08-02T20:43:15.854472",
     "exception": false,
     "start_time": "2023-08-02T20:43:15.821073",
     "status": "completed"
    },
    "tags": []
   },
   "outputs": [],
   "source": [
    "filtered_df=df[final_columns]"
   ]
  },
  {
   "cell_type": "code",
   "execution_count": 42,
   "id": "dbb5541c",
   "metadata": {
    "execution": {
     "iopub.execute_input": "2023-08-02T20:43:15.901606Z",
     "iopub.status.busy": "2023-08-02T20:43:15.901218Z",
     "iopub.status.idle": "2023-08-02T20:43:15.917275Z",
     "shell.execute_reply": "2023-08-02T20:43:15.916099Z"
    },
    "papermill": {
     "duration": 0.042466,
     "end_time": "2023-08-02T20:43:15.919730",
     "exception": false,
     "start_time": "2023-08-02T20:43:15.877264",
     "status": "completed"
    },
    "tags": []
   },
   "outputs": [
    {
     "data": {
      "text/html": [
       "<div>\n",
       "<style scoped>\n",
       "    .dataframe tbody tr th:only-of-type {\n",
       "        vertical-align: middle;\n",
       "    }\n",
       "\n",
       "    .dataframe tbody tr th {\n",
       "        vertical-align: top;\n",
       "    }\n",
       "\n",
       "    .dataframe thead th {\n",
       "        text-align: right;\n",
       "    }\n",
       "</style>\n",
       "<table border=\"1\" class=\"dataframe\">\n",
       "  <thead>\n",
       "    <tr style=\"text-align: right;\">\n",
       "      <th></th>\n",
       "      <th>Curricular units 1st sem (approved)</th>\n",
       "      <th>Curricular units 1st sem (enrolled)</th>\n",
       "      <th>Curricular units 2nd sem (approved)</th>\n",
       "      <th>Curricular units 2nd sem (enrolled)</th>\n",
       "      <th>Curricular units 1st sem (evaluations)</th>\n",
       "      <th>Age at enrollment</th>\n",
       "      <th>Application mode</th>\n",
       "      <th>Displaced</th>\n",
       "      <th>Curricular units 2nd sem (grade)</th>\n",
       "      <th>Marital status</th>\n",
       "      <th>Target</th>\n",
       "    </tr>\n",
       "  </thead>\n",
       "  <tbody>\n",
       "    <tr>\n",
       "      <th>0</th>\n",
       "      <td>0</td>\n",
       "      <td>0</td>\n",
       "      <td>0</td>\n",
       "      <td>0</td>\n",
       "      <td>0</td>\n",
       "      <td>20</td>\n",
       "      <td>8</td>\n",
       "      <td>1</td>\n",
       "      <td>0.000000</td>\n",
       "      <td>1</td>\n",
       "      <td>0</td>\n",
       "    </tr>\n",
       "    <tr>\n",
       "      <th>1</th>\n",
       "      <td>6</td>\n",
       "      <td>6</td>\n",
       "      <td>6</td>\n",
       "      <td>6</td>\n",
       "      <td>6</td>\n",
       "      <td>19</td>\n",
       "      <td>6</td>\n",
       "      <td>1</td>\n",
       "      <td>13.666667</td>\n",
       "      <td>1</td>\n",
       "      <td>1</td>\n",
       "    </tr>\n",
       "    <tr>\n",
       "      <th>2</th>\n",
       "      <td>0</td>\n",
       "      <td>6</td>\n",
       "      <td>0</td>\n",
       "      <td>6</td>\n",
       "      <td>0</td>\n",
       "      <td>19</td>\n",
       "      <td>1</td>\n",
       "      <td>1</td>\n",
       "      <td>0.000000</td>\n",
       "      <td>1</td>\n",
       "      <td>0</td>\n",
       "    </tr>\n",
       "    <tr>\n",
       "      <th>3</th>\n",
       "      <td>6</td>\n",
       "      <td>6</td>\n",
       "      <td>5</td>\n",
       "      <td>6</td>\n",
       "      <td>8</td>\n",
       "      <td>20</td>\n",
       "      <td>8</td>\n",
       "      <td>1</td>\n",
       "      <td>12.400000</td>\n",
       "      <td>1</td>\n",
       "      <td>1</td>\n",
       "    </tr>\n",
       "    <tr>\n",
       "      <th>4</th>\n",
       "      <td>5</td>\n",
       "      <td>6</td>\n",
       "      <td>6</td>\n",
       "      <td>6</td>\n",
       "      <td>9</td>\n",
       "      <td>45</td>\n",
       "      <td>12</td>\n",
       "      <td>0</td>\n",
       "      <td>13.000000</td>\n",
       "      <td>2</td>\n",
       "      <td>1</td>\n",
       "    </tr>\n",
       "  </tbody>\n",
       "</table>\n",
       "</div>"
      ],
      "text/plain": [
       "   Curricular units 1st sem (approved)  Curricular units 1st sem (enrolled)  \\\n",
       "0                                    0                                    0   \n",
       "1                                    6                                    6   \n",
       "2                                    0                                    6   \n",
       "3                                    6                                    6   \n",
       "4                                    5                                    6   \n",
       "\n",
       "   Curricular units 2nd sem (approved)  Curricular units 2nd sem (enrolled)  \\\n",
       "0                                    0                                    0   \n",
       "1                                    6                                    6   \n",
       "2                                    0                                    6   \n",
       "3                                    5                                    6   \n",
       "4                                    6                                    6   \n",
       "\n",
       "   Curricular units 1st sem (evaluations)  Age at enrollment  \\\n",
       "0                                       0                 20   \n",
       "1                                       6                 19   \n",
       "2                                       0                 19   \n",
       "3                                       8                 20   \n",
       "4                                       9                 45   \n",
       "\n",
       "   Application mode  Displaced  Curricular units 2nd sem (grade)  \\\n",
       "0                 8          1                          0.000000   \n",
       "1                 6          1                         13.666667   \n",
       "2                 1          1                          0.000000   \n",
       "3                 8          1                         12.400000   \n",
       "4                12          0                         13.000000   \n",
       "\n",
       "   Marital status  Target  \n",
       "0               1       0  \n",
       "1               1       1  \n",
       "2               1       0  \n",
       "3               1       1  \n",
       "4               2       1  "
      ]
     },
     "execution_count": 42,
     "metadata": {},
     "output_type": "execute_result"
    }
   ],
   "source": [
    "filtered_df.head()"
   ]
  },
  {
   "cell_type": "code",
   "execution_count": 43,
   "id": "964369bb",
   "metadata": {
    "execution": {
     "iopub.execute_input": "2023-08-02T20:43:15.968197Z",
     "iopub.status.busy": "2023-08-02T20:43:15.967748Z",
     "iopub.status.idle": "2023-08-02T20:43:15.976205Z",
     "shell.execute_reply": "2023-08-02T20:43:15.974453Z"
    },
    "papermill": {
     "duration": 0.03648,
     "end_time": "2023-08-02T20:43:15.979615",
     "exception": false,
     "start_time": "2023-08-02T20:43:15.943135",
     "status": "completed"
    },
    "tags": []
   },
   "outputs": [],
   "source": [
    "X_filtered=filtered_df.drop('Target', axis=1)"
   ]
  },
  {
   "cell_type": "code",
   "execution_count": 44,
   "id": "c25b3e05",
   "metadata": {
    "execution": {
     "iopub.execute_input": "2023-08-02T20:43:16.034998Z",
     "iopub.status.busy": "2023-08-02T20:43:16.033869Z",
     "iopub.status.idle": "2023-08-02T20:43:16.039316Z",
     "shell.execute_reply": "2023-08-02T20:43:16.038376Z"
    },
    "papermill": {
     "duration": 0.034108,
     "end_time": "2023-08-02T20:43:16.041595",
     "exception": false,
     "start_time": "2023-08-02T20:43:16.007487",
     "status": "completed"
    },
    "tags": []
   },
   "outputs": [],
   "source": [
    "Y_filtered=filtered_df['Target']"
   ]
  },
  {
   "cell_type": "code",
   "execution_count": 45,
   "id": "51251806",
   "metadata": {
    "execution": {
     "iopub.execute_input": "2023-08-02T20:43:16.090646Z",
     "iopub.status.busy": "2023-08-02T20:43:16.089945Z",
     "iopub.status.idle": "2023-08-02T20:43:16.099036Z",
     "shell.execute_reply": "2023-08-02T20:43:16.097584Z"
    },
    "papermill": {
     "duration": 0.037317,
     "end_time": "2023-08-02T20:43:16.102314",
     "exception": false,
     "start_time": "2023-08-02T20:43:16.064997",
     "status": "completed"
    },
    "tags": []
   },
   "outputs": [],
   "source": [
    "X_train_f, X_test_f, Y_train_f, Y_test_f= train_test_split(X_filtered, Y_filtered, test_size=0.33, random_state=42)"
   ]
  },
  {
   "cell_type": "code",
   "execution_count": 46,
   "id": "02c39bb6",
   "metadata": {
    "execution": {
     "iopub.execute_input": "2023-08-02T20:43:16.162835Z",
     "iopub.status.busy": "2023-08-02T20:43:16.162329Z",
     "iopub.status.idle": "2023-08-02T20:43:16.319688Z",
     "shell.execute_reply": "2023-08-02T20:43:16.317548Z"
    },
    "papermill": {
     "duration": 0.223509,
     "end_time": "2023-08-02T20:43:16.351474",
     "exception": false,
     "start_time": "2023-08-02T20:43:16.127965",
     "status": "completed"
    },
    "tags": []
   },
   "outputs": [
    {
     "name": "stderr",
     "output_type": "stream",
     "text": [
      "/opt/conda/lib/python3.10/site-packages/sklearn/linear_model/_logistic.py:458: ConvergenceWarning: lbfgs failed to converge (status=1):\n",
      "STOP: TOTAL NO. of ITERATIONS REACHED LIMIT.\n",
      "\n",
      "Increase the number of iterations (max_iter) or scale the data as shown in:\n",
      "    https://scikit-learn.org/stable/modules/preprocessing.html\n",
      "Please also refer to the documentation for alternative solver options:\n",
      "    https://scikit-learn.org/stable/modules/linear_model.html#logistic-regression\n",
      "  n_iter_i = _check_optimize_result(\n"
     ]
    },
    {
     "data": {
      "text/html": [
       "<style>#sk-container-id-4 {color: black;background-color: white;}#sk-container-id-4 pre{padding: 0;}#sk-container-id-4 div.sk-toggleable {background-color: white;}#sk-container-id-4 label.sk-toggleable__label {cursor: pointer;display: block;width: 100%;margin-bottom: 0;padding: 0.3em;box-sizing: border-box;text-align: center;}#sk-container-id-4 label.sk-toggleable__label-arrow:before {content: \"▸\";float: left;margin-right: 0.25em;color: #696969;}#sk-container-id-4 label.sk-toggleable__label-arrow:hover:before {color: black;}#sk-container-id-4 div.sk-estimator:hover label.sk-toggleable__label-arrow:before {color: black;}#sk-container-id-4 div.sk-toggleable__content {max-height: 0;max-width: 0;overflow: hidden;text-align: left;background-color: #f0f8ff;}#sk-container-id-4 div.sk-toggleable__content pre {margin: 0.2em;color: black;border-radius: 0.25em;background-color: #f0f8ff;}#sk-container-id-4 input.sk-toggleable__control:checked~div.sk-toggleable__content {max-height: 200px;max-width: 100%;overflow: auto;}#sk-container-id-4 input.sk-toggleable__control:checked~label.sk-toggleable__label-arrow:before {content: \"▾\";}#sk-container-id-4 div.sk-estimator input.sk-toggleable__control:checked~label.sk-toggleable__label {background-color: #d4ebff;}#sk-container-id-4 div.sk-label input.sk-toggleable__control:checked~label.sk-toggleable__label {background-color: #d4ebff;}#sk-container-id-4 input.sk-hidden--visually {border: 0;clip: rect(1px 1px 1px 1px);clip: rect(1px, 1px, 1px, 1px);height: 1px;margin: -1px;overflow: hidden;padding: 0;position: absolute;width: 1px;}#sk-container-id-4 div.sk-estimator {font-family: monospace;background-color: #f0f8ff;border: 1px dotted black;border-radius: 0.25em;box-sizing: border-box;margin-bottom: 0.5em;}#sk-container-id-4 div.sk-estimator:hover {background-color: #d4ebff;}#sk-container-id-4 div.sk-parallel-item::after {content: \"\";width: 100%;border-bottom: 1px solid gray;flex-grow: 1;}#sk-container-id-4 div.sk-label:hover label.sk-toggleable__label {background-color: #d4ebff;}#sk-container-id-4 div.sk-serial::before {content: \"\";position: absolute;border-left: 1px solid gray;box-sizing: border-box;top: 0;bottom: 0;left: 50%;z-index: 0;}#sk-container-id-4 div.sk-serial {display: flex;flex-direction: column;align-items: center;background-color: white;padding-right: 0.2em;padding-left: 0.2em;position: relative;}#sk-container-id-4 div.sk-item {position: relative;z-index: 1;}#sk-container-id-4 div.sk-parallel {display: flex;align-items: stretch;justify-content: center;background-color: white;position: relative;}#sk-container-id-4 div.sk-item::before, #sk-container-id-4 div.sk-parallel-item::before {content: \"\";position: absolute;border-left: 1px solid gray;box-sizing: border-box;top: 0;bottom: 0;left: 50%;z-index: -1;}#sk-container-id-4 div.sk-parallel-item {display: flex;flex-direction: column;z-index: 1;position: relative;background-color: white;}#sk-container-id-4 div.sk-parallel-item:first-child::after {align-self: flex-end;width: 50%;}#sk-container-id-4 div.sk-parallel-item:last-child::after {align-self: flex-start;width: 50%;}#sk-container-id-4 div.sk-parallel-item:only-child::after {width: 0;}#sk-container-id-4 div.sk-dashed-wrapped {border: 1px dashed gray;margin: 0 0.4em 0.5em 0.4em;box-sizing: border-box;padding-bottom: 0.4em;background-color: white;}#sk-container-id-4 div.sk-label label {font-family: monospace;font-weight: bold;display: inline-block;line-height: 1.2em;}#sk-container-id-4 div.sk-label-container {text-align: center;}#sk-container-id-4 div.sk-container {/* jupyter's `normalize.less` sets `[hidden] { display: none; }` but bootstrap.min.css set `[hidden] { display: none !important; }` so we also need the `!important` here to be able to override the default hidden behavior on the sphinx rendered scikit-learn.org. See: https://github.com/scikit-learn/scikit-learn/issues/21755 */display: inline-block !important;position: relative;}#sk-container-id-4 div.sk-text-repr-fallback {display: none;}</style><div id=\"sk-container-id-4\" class=\"sk-top-container\"><div class=\"sk-text-repr-fallback\"><pre>LogisticRegression()</pre><b>In a Jupyter environment, please rerun this cell to show the HTML representation or trust the notebook. <br />On GitHub, the HTML representation is unable to render, please try loading this page with nbviewer.org.</b></div><div class=\"sk-container\" hidden><div class=\"sk-item\"><div class=\"sk-estimator sk-toggleable\"><input class=\"sk-toggleable__control sk-hidden--visually\" id=\"sk-estimator-id-4\" type=\"checkbox\" checked><label for=\"sk-estimator-id-4\" class=\"sk-toggleable__label sk-toggleable__label-arrow\">LogisticRegression</label><div class=\"sk-toggleable__content\"><pre>LogisticRegression()</pre></div></div></div></div></div>"
      ],
      "text/plain": [
       "LogisticRegression()"
      ]
     },
     "execution_count": 46,
     "metadata": {},
     "output_type": "execute_result"
    }
   ],
   "source": [
    "logmodel_f=LogisticRegression()\n",
    "logmodel_f.fit(X_train_f, Y_train_f)"
   ]
  },
  {
   "cell_type": "code",
   "execution_count": 47,
   "id": "c7d7eaee",
   "metadata": {
    "execution": {
     "iopub.execute_input": "2023-08-02T20:43:16.463240Z",
     "iopub.status.busy": "2023-08-02T20:43:16.462829Z",
     "iopub.status.idle": "2023-08-02T20:43:16.472683Z",
     "shell.execute_reply": "2023-08-02T20:43:16.471093Z"
    },
    "papermill": {
     "duration": 0.063759,
     "end_time": "2023-08-02T20:43:16.476062",
     "exception": false,
     "start_time": "2023-08-02T20:43:16.412303",
     "status": "completed"
    },
    "tags": []
   },
   "outputs": [],
   "source": [
    "predictions_f=logmodel_f.predict(X_test_f)"
   ]
  },
  {
   "cell_type": "code",
   "execution_count": 48,
   "id": "6e900245",
   "metadata": {
    "execution": {
     "iopub.execute_input": "2023-08-02T20:43:16.599362Z",
     "iopub.status.busy": "2023-08-02T20:43:16.598771Z",
     "iopub.status.idle": "2023-08-02T20:43:16.616582Z",
     "shell.execute_reply": "2023-08-02T20:43:16.615048Z"
    },
    "papermill": {
     "duration": 0.078788,
     "end_time": "2023-08-02T20:43:16.620082",
     "exception": false,
     "start_time": "2023-08-02T20:43:16.541294",
     "status": "completed"
    },
    "tags": []
   },
   "outputs": [
    {
     "name": "stdout",
     "output_type": "stream",
     "text": [
      "              precision    recall  f1-score   support\n",
      "\n",
      "           0       0.87      0.79      0.83       755\n",
      "           1       0.79      0.88      0.83       705\n",
      "\n",
      "    accuracy                           0.83      1460\n",
      "   macro avg       0.83      0.83      0.83      1460\n",
      "weighted avg       0.83      0.83      0.83      1460\n",
      "\n"
     ]
    }
   ],
   "source": [
    "print(classification_report(Y_test_f, predictions_f))"
   ]
  }
 ],
 "metadata": {
  "kernelspec": {
   "display_name": "Python 3 (ipykernel)",
   "language": "python",
   "name": "python3"
  },
  "language_info": {
   "codemirror_mode": {
    "name": "ipython",
    "version": 3
   },
   "file_extension": ".py",
   "mimetype": "text/x-python",
   "name": "python",
   "nbconvert_exporter": "python",
   "pygments_lexer": "ipython3",
   "version": "3.9.12"
  },
  "papermill": {
   "default_parameters": {},
   "duration": 19.964675,
   "end_time": "2023-08-02T20:43:17.774819",
   "environment_variables": {},
   "exception": null,
   "input_path": "__notebook__.ipynb",
   "output_path": "__notebook__.ipynb",
   "parameters": {},
   "start_time": "2023-08-02T20:42:57.810144",
   "version": "2.4.0"
  }
 },
 "nbformat": 4,
 "nbformat_minor": 5
}
